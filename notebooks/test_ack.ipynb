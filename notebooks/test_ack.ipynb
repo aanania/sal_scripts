{
 "cells": [
  {
   "cell_type": "code",
   "execution_count": 1,
   "metadata": {},
   "outputs": [],
   "source": [
    "import os\n",
    "import time\n",
    "from salpytools import salpylib \n",
    "import subprocess\n",
    "from astropy.io import fits\n",
    "import numpy as np\n",
    "from matplotlib import pyplot as py\n",
    "import logging\n",
    "\n",
    "logging.basicConfig(level=logging.INFO,\n",
    "                    format='[%(asctime)s] [%(levelname)s] [%(threadName)s]: %(message)s',\n",
    "                    datefmt='%Y-%m-%d %H:%M:%S')\n",
    "\n",
    "\n",
    "%matplotlib inline\n",
    "\n",
    "os.environ['LSST_DDS_DOMAIN'] = 'auxtelpath'"
   ]
  },
  {
   "cell_type": "code",
   "execution_count": 2,
   "metadata": {},
   "outputs": [],
   "source": [
    "sender = salpylib.DDSSend('calibrationElectrometer')"
   ]
  },
  {
   "cell_type": "code",
   "execution_count": 4,
   "metadata": {},
   "outputs": [
    {
     "name": "stdout",
     "output_type": "stream",
     "text": [
      "0 (596516649, -1) -301 0 0 \n",
      "1 (596516649, -1) -301 0 0 \n",
      "2 (596516649, -1) -301 0 0 \n",
      "3 (596516649, -1) -301 0 0 \n",
      "4 (596516649, -1) -301 0 0 \n",
      "5 (596516649, -1) -301 0 0 \n",
      "6 (596516649, -1) -301 0 0 \n",
      "7 (596516649, -1) -301 0 0 \n",
      "8 (596516649, -1) -301 0 0 \n",
      "9 (596516649, -1) -301 0 0 \n"
     ]
    }
   ],
   "source": [
    "expt_time = 2\n",
    "cmd_id2 = sender.send_Command('StartScanDt',\n",
    "                              electId=1, time=expt_time+2,\n",
    "                              wait_command=False)\n",
    "\n",
    "ack = sender.SALPY_lib.calibrationElectrometer_ackcmdC()\n",
    "\n",
    "\n",
    "# wait ack 300\n",
    "for i in range(10):\n",
    "    response = sender.manager.getResponse_StartScan(ack)\n",
    "#     if response == cmd_id2[0]:\n",
    "    print(i, cmd_id2, response, ack.ack, ack.error, ack.result)\n",
    "    time.sleep(0.5)\n",
    "\n",
    "# wait ack 301\n",
    "\n",
    "# wait ack 303"
   ]
  },
  {
   "cell_type": "code",
   "execution_count": 3,
   "metadata": {},
   "outputs": [
    {
     "name": "stdout",
     "output_type": "stream",
     "text": [
      "0 (596516649, -1) -301 0 0 \n",
      "1 (596516649, -1) 596516649 300 0 SAL ACK\n",
      "2 (596516649, -1) 596516649 300 0 \"\"\n",
      "3 (596516649, -1) 596516649 301 0 \"\"\n",
      "4 (596516649, -1) 596516649 303 0 \"\"\n",
      "5 (596516649, -1) -301 303 0 \"\"\n",
      "6 (596516649, -1) -301 303 0 \"\"\n",
      "7 (596516649, -1) -301 303 0 \"\"\n",
      "8 (596516649, -1) -301 303 0 \"\"\n",
      "9 (596516649, -1) -301 303 0 \"\"\n"
     ]
    }
   ],
   "source": [
    "cmd_id2 = sender.send_Command('disable',\n",
    "                              wait_command=False)\n",
    "\n",
    "ack = sender.SALPY_lib.calibrationElectrometer_ackcmdC()\n",
    "\n",
    "\n",
    "# wait ack 300\n",
    "for i in range(10):\n",
    "    response = sender.manager.getResponse_StartScan(ack)\n",
    "#     if response == cmd_id2[0]:\n",
    "    print(i, cmd_id2, response, ack.ack, ack.error, ack.result)\n",
    "    time.sleep(0.5)\n",
    "\n"
   ]
  },
  {
   "cell_type": "code",
   "execution_count": 4,
   "metadata": {},
   "outputs": [
    {
     "name": "stdout",
     "output_type": "stream",
     "text": [
      "0 (1189641421, -1) -301 0 0 \n",
      "1 (1189641421, -1) 1189641421 300 0 SAL ACK\n",
      "2 (1189641421, -1) 1189641421 300 0 \"\"\n",
      "3 (1189641421, -1) 1189641421 301 0 \"\"\n",
      "4 (1189641421, -1) 1189641421 303 0 \"\"\n",
      "5 (1189641421, -1) -301 303 0 \"\"\n",
      "6 (1189641421, -1) -301 303 0 \"\"\n",
      "7 (1189641421, -1) -301 303 0 \"\"\n",
      "8 (1189641421, -1) -301 303 0 \"\"\n",
      "9 (1189641421, -1) -301 303 0 \"\"\n"
     ]
    }
   ],
   "source": [
    "cmd_id2 = sender.send_Command('enable',\n",
    "                              wait_command=False)\n",
    "\n",
    "ack = sender.SALPY_lib.calibrationElectrometer_ackcmdC()\n",
    "\n",
    "\n",
    "# wait ack 300\n",
    "for i in range(10):\n",
    "    response = sender.manager.getResponse_StartScan(ack)\n",
    "#     if response == cmd_id2[0]:\n",
    "    print(i, cmd_id2, response, ack.ack, ack.error, ack.result)\n",
    "    time.sleep(0.5)"
   ]
  },
  {
   "cell_type": "code",
   "execution_count": null,
   "metadata": {},
   "outputs": [],
   "source": []
  }
 ],
 "metadata": {
  "kernelspec": {
   "display_name": "Python 3",
   "language": "python",
   "name": "python3"
  },
  "language_info": {
   "codemirror_mode": {
    "name": "ipython",
    "version": 3
   },
   "file_extension": ".py",
   "mimetype": "text/x-python",
   "name": "python",
   "nbconvert_exporter": "python",
   "pygments_lexer": "ipython3",
   "version": "3.6.2"
  }
 },
 "nbformat": 4,
 "nbformat_minor": 2
}
