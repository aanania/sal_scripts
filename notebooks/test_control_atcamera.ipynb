{
 "cells": [
  {
   "cell_type": "code",
   "execution_count": 1,
   "metadata": {},
   "outputs": [
    {
     "name": "stdout",
     "output_type": "stream",
     "text": [
      "auxtelpath\n",
      "auxtelpath\n"
     ]
    }
   ],
   "source": [
    "import os, sys\n",
    "import time\n",
    "print(os.environ['LSST_DDS_DOMAIN'])\n",
    "os.environ['LSST_DDS_DOMAIN'] = 'auxtelpath'\n",
    "#del os.environ['LSST_DDS_DOMAIN']\n",
    "print(os.environ['LSST_DDS_DOMAIN'])\n",
    "import datetime"
   ]
  },
  {
   "cell_type": "code",
   "execution_count": 2,
   "metadata": {},
   "outputs": [],
   "source": [
    "from salpytools import salpylib "
   ]
  },
  {
   "cell_type": "code",
   "execution_count": null,
   "metadata": {},
   "outputs": [],
   "source": []
  },
  {
   "cell_type": "code",
   "execution_count": 3,
   "metadata": {},
   "outputs": [],
   "source": [
    "#component_list = ['atcamera','atHeaderService','atArchiver']\n",
    "component_list = ['atcamera']"
   ]
  },
  {
   "cell_type": "code",
   "execution_count": 15,
   "metadata": {},
   "outputs": [
    {
     "ename": "ImportError",
     "evalue": "/home/saluser/dds/lib/SALPY_atArchiver.so: invalid ELF header",
     "output_type": "error",
     "traceback": [
      "\u001b[0;31m---------------------------------------------------------------------------\u001b[0m",
      "\u001b[0;31mImportError\u001b[0m                               Traceback (most recent call last)",
      "\u001b[0;32m<ipython-input-15-d99109fa46fd>\u001b[0m in \u001b[0;36m<module>\u001b[0;34m()\u001b[0m\n\u001b[1;32m      5\u001b[0m \u001b[0;31m#atcamera = salpylib.DDSSubscriberContainer('atcamera')\u001b[0m\u001b[0;34m\u001b[0m\u001b[0;34m\u001b[0m\u001b[0m\n\u001b[1;32m      6\u001b[0m \u001b[0;31m#atHeaderService = salpylib.DDSSubscriberContainer('atHeaderService')\u001b[0m\u001b[0;34m\u001b[0m\u001b[0;34m\u001b[0m\u001b[0m\n\u001b[0;32m----> 7\u001b[0;31m \u001b[0matArchiver\u001b[0m \u001b[0;34m=\u001b[0m \u001b[0msalpylib\u001b[0m\u001b[0;34m.\u001b[0m\u001b[0mDDSSubscriberContainer\u001b[0m\u001b[0;34m(\u001b[0m\u001b[0;34m'atArchiver'\u001b[0m\u001b[0;34m)\u001b[0m\u001b[0;34m\u001b[0m\u001b[0m\n\u001b[0m\u001b[1;32m      8\u001b[0m \u001b[0mprint\u001b[0m\u001b[0;34m(\u001b[0m\u001b[0;34m'DONE'\u001b[0m\u001b[0;34m)\u001b[0m\u001b[0;34m\u001b[0m\u001b[0m\n",
      "\u001b[0;32m~/lsst_repos/salpytools/python/salpytools/salpylib.py\u001b[0m in \u001b[0;36m__init__\u001b[0;34m(self, device, stype, topic, tsleep)\u001b[0m\n\u001b[1;32m    631\u001b[0m         \u001b[0mself\u001b[0m\u001b[0;34m.\u001b[0m\u001b[0mlog\u001b[0m\u001b[0;34m.\u001b[0m\u001b[0mdebug\u001b[0m\u001b[0;34m(\u001b[0m\u001b[0;34m\"Loading Device: {}\"\u001b[0m\u001b[0;34m.\u001b[0m\u001b[0mformat\u001b[0m\u001b[0;34m(\u001b[0m\u001b[0mself\u001b[0m\u001b[0;34m.\u001b[0m\u001b[0mdevice\u001b[0m\u001b[0;34m)\u001b[0m\u001b[0;34m)\u001b[0m\u001b[0;34m\u001b[0m\u001b[0m\n\u001b[1;32m    632\u001b[0m         \u001b[0;31m# Load SALPY_lib into the class\u001b[0m\u001b[0;34m\u001b[0m\u001b[0;34m\u001b[0m\u001b[0m\n\u001b[0;32m--> 633\u001b[0;31m         \u001b[0mself\u001b[0m\u001b[0;34m.\u001b[0m\u001b[0mSALPY_lib\u001b[0m \u001b[0;34m=\u001b[0m \u001b[0mimport_module\u001b[0m\u001b[0;34m(\u001b[0m\u001b[0;34m'SALPY_{}'\u001b[0m\u001b[0;34m.\u001b[0m\u001b[0mformat\u001b[0m\u001b[0;34m(\u001b[0m\u001b[0mself\u001b[0m\u001b[0;34m.\u001b[0m\u001b[0mdevice\u001b[0m\u001b[0;34m)\u001b[0m\u001b[0;34m)\u001b[0m\u001b[0;34m\u001b[0m\u001b[0m\n\u001b[0m\u001b[1;32m    634\u001b[0m         \u001b[0mself\u001b[0m\u001b[0;34m.\u001b[0m\u001b[0mmanager\u001b[0m \u001b[0;34m=\u001b[0m \u001b[0mgetattr\u001b[0m\u001b[0;34m(\u001b[0m\u001b[0mself\u001b[0m\u001b[0;34m.\u001b[0m\u001b[0mSALPY_lib\u001b[0m\u001b[0;34m,\u001b[0m \u001b[0;34m'SAL_{}'\u001b[0m\u001b[0;34m.\u001b[0m\u001b[0mformat\u001b[0m\u001b[0;34m(\u001b[0m\u001b[0mself\u001b[0m\u001b[0;34m.\u001b[0m\u001b[0mdevice\u001b[0m\u001b[0;34m)\u001b[0m\u001b[0;34m)\u001b[0m\u001b[0;34m(\u001b[0m\u001b[0;34m)\u001b[0m\u001b[0;34m\u001b[0m\u001b[0m\n\u001b[1;32m    635\u001b[0m \u001b[0;34m\u001b[0m\u001b[0m\n",
      "\u001b[0;32m~/stack/python/miniconda3-4.3.21/lib/python3.6/importlib/__init__.py\u001b[0m in \u001b[0;36mimport_module\u001b[0;34m(name, package)\u001b[0m\n\u001b[1;32m    124\u001b[0m                 \u001b[0;32mbreak\u001b[0m\u001b[0;34m\u001b[0m\u001b[0m\n\u001b[1;32m    125\u001b[0m             \u001b[0mlevel\u001b[0m \u001b[0;34m+=\u001b[0m \u001b[0;36m1\u001b[0m\u001b[0;34m\u001b[0m\u001b[0m\n\u001b[0;32m--> 126\u001b[0;31m     \u001b[0;32mreturn\u001b[0m \u001b[0m_bootstrap\u001b[0m\u001b[0;34m.\u001b[0m\u001b[0m_gcd_import\u001b[0m\u001b[0;34m(\u001b[0m\u001b[0mname\u001b[0m\u001b[0;34m[\u001b[0m\u001b[0mlevel\u001b[0m\u001b[0;34m:\u001b[0m\u001b[0;34m]\u001b[0m\u001b[0;34m,\u001b[0m \u001b[0mpackage\u001b[0m\u001b[0;34m,\u001b[0m \u001b[0mlevel\u001b[0m\u001b[0;34m)\u001b[0m\u001b[0;34m\u001b[0m\u001b[0m\n\u001b[0m\u001b[1;32m    127\u001b[0m \u001b[0;34m\u001b[0m\u001b[0m\n\u001b[1;32m    128\u001b[0m \u001b[0;34m\u001b[0m\u001b[0m\n",
      "\u001b[0;32m~/stack/python/miniconda3-4.3.21/lib/python3.6/importlib/_bootstrap.py\u001b[0m in \u001b[0;36m_gcd_import\u001b[0;34m(name, package, level)\u001b[0m\n",
      "\u001b[0;32m~/stack/python/miniconda3-4.3.21/lib/python3.6/importlib/_bootstrap.py\u001b[0m in \u001b[0;36m_find_and_load\u001b[0;34m(name, import_)\u001b[0m\n",
      "\u001b[0;32m~/stack/python/miniconda3-4.3.21/lib/python3.6/importlib/_bootstrap.py\u001b[0m in \u001b[0;36m_find_and_load_unlocked\u001b[0;34m(name, import_)\u001b[0m\n",
      "\u001b[0;32m~/stack/python/miniconda3-4.3.21/lib/python3.6/importlib/_bootstrap.py\u001b[0m in \u001b[0;36m_load_unlocked\u001b[0;34m(spec)\u001b[0m\n",
      "\u001b[0;32m~/stack/python/miniconda3-4.3.21/lib/python3.6/importlib/_bootstrap.py\u001b[0m in \u001b[0;36mmodule_from_spec\u001b[0;34m(spec)\u001b[0m\n",
      "\u001b[0;32m~/stack/python/miniconda3-4.3.21/lib/python3.6/importlib/_bootstrap_external.py\u001b[0m in \u001b[0;36mcreate_module\u001b[0;34m(self, spec)\u001b[0m\n",
      "\u001b[0;32m~/stack/python/miniconda3-4.3.21/lib/python3.6/importlib/_bootstrap.py\u001b[0m in \u001b[0;36m_call_with_frames_removed\u001b[0;34m(f, *args, **kwds)\u001b[0m\n",
      "\u001b[0;31mImportError\u001b[0m: /home/saluser/dds/lib/SALPY_atArchiver.so: invalid ELF header"
     ]
    }
   ],
   "source": [
    "#print('Subscribing to events from the three components...')\n",
    "#sedSpectrometer = salpylib.DDSSubscriberContainer('sedSpectrometer')\n",
    "#calibrationElectrometer = salpylib.DDSSubscriberContainer('calibrationElectrometer')\n",
    "#atMonochromator = salpylib.DDSSubscriberContainer('atMonochromator')\n",
    "atcamera = salpylib.DDSSubscriberContainer('atcamera')\n",
    "#atHeaderService = salpylib.DDSSubscriberContainer('atHeaderService')\n",
    "#atArchiver = salpylib.DDSSubscriberContainer('atArchiver')\n",
    "print('DONE')"
   ]
  },
  {
   "cell_type": "markdown",
   "metadata": {},
   "source": [
    "Begin subscribing to events and telemetry\n",
    "The events/telemetry are determined from looking the XML (from the stash repository)"
   ]
  },
  {
   "cell_type": "code",
   "execution_count": 5,
   "metadata": {},
   "outputs": [],
   "source": [
    "atcamera = salpylib.DDSSubscriberContainer('atcamera')\n",
    "#atHeaderService = salpylib.DDSSubscriberContainer('atHeaderService')\n",
    "#atArchiver = salpylib.DDSSubscriberContainer('atArchiver')"
   ]
  },
  {
   "cell_type": "code",
   "execution_count": 6,
   "metadata": {},
   "outputs": [],
   "source": [
    "# want to create a class that captures all of the different components\n",
    "# Need to declare its existance here\n",
    "class SenderContainer():\n",
    "    pass"
   ]
  },
  {
   "cell_type": "code",
   "execution_count": 7,
   "metadata": {},
   "outputs": [],
   "source": [
    "sender = SenderContainer()\n",
    "for component in component_list:\n",
    "    setattr(sender, component, salpylib.DDSSend(component))"
   ]
  },
  {
   "cell_type": "code",
   "execution_count": 8,
   "metadata": {},
   "outputs": [
    {
     "name": "stdout",
     "output_type": "stream",
     "text": [
      "0 (596516649, -1) 596516650 303 0 Done : OK\n",
      "1 (596516649, -1) 596516649 300 0 SAL ACK\n",
      "2 (596516649, -1) 596516649 -302 0 Ack : NO Command not accepted in State{LSE209State = ENABLED}\n",
      "3 (596516649, -1) -301 -302 0 Ack : NO Command not accepted in State{LSE209State = ENABLED}\n",
      "4 (596516649, -1) -301 -302 0 Ack : NO Command not accepted in State{LSE209State = ENABLED}\n",
      "5 (596516649, -1) -301 -302 0 Ack : NO Command not accepted in State{LSE209State = ENABLED}\n"
     ]
    }
   ],
   "source": [
    "# from OFFLINE, send 'enterControl' then 'start' then 'enable'\n",
    "# then 'disable', 'standby', 'exitControl'\n",
    "cmd_id2 = sender.atcamera.send_Command('enable',\n",
    "                              wait_command=False)\n",
    "\n",
    "ack = sender.atcamera.SALPY_lib.atcamera_ackcmdC()\n",
    "\n",
    "\n",
    "# wait ack 300\n",
    "for i in range(6):\n",
    "    response = sender.atcamera.manager.getResponse_standby(ack)\n",
    "#     if response == cmd_id2[0]:\n",
    "    print(i, cmd_id2, response, ack.ack, ack.error, ack.result)\n",
    "    time.sleep(0.5)\n",
    "\n"
   ]
  },
  {
   "cell_type": "code",
   "execution_count": null,
   "metadata": {},
   "outputs": [],
   "source": []
  },
  {
   "cell_type": "code",
   "execution_count": 8,
   "metadata": {},
   "outputs": [],
   "source": [
    "def timeStamped(fname_suffix, fmt='AT-O-%Y%m%d-{fname:05}'):\n",
    "    return (datetime.datetime.now().strftime(fmt).format(fname=fname_suffix))\n",
    "\n",
    "#print \"%02d\" % (1,)"
   ]
  },
  {
   "cell_type": "code",
   "execution_count": 9,
   "metadata": {},
   "outputs": [],
   "source": [
    "count=14"
   ]
  },
  {
   "cell_type": "code",
   "execution_count": 20,
   "metadata": {},
   "outputs": [
    {
     "name": "stdout",
     "output_type": "stream",
     "text": [
      "AT-O-20180815-00019\n"
     ]
    }
   ],
   "source": [
    "try:\n",
    "  count\n",
    "except NameError:\n",
    "  print(\"beginning count at zero\")\n",
    "  count=0\n",
    "else:\n",
    "  count+=1\n",
    "fname = timeStamped(count)\n",
    "\n",
    "print(fname)"
   ]
  },
  {
   "cell_type": "code",
   "execution_count": 21,
   "metadata": {},
   "outputs": [
    {
     "name": "stdout",
     "output_type": "stream",
     "text": [
      "  35 303   0 Done : OK"
     ]
    }
   ],
   "source": [
    "cmd_id2 = sender.atcamera.send_Command('takeImages', numImages = 1, \n",
    "                                       expTime = 3, shutter = False, \n",
    "                                       imageSequenceName = str(fname),\n",
    "                                       science = True,\n",
    "                                       wait_command=False)\n",
    "\n",
    "ack = sender.atcamera.SALPY_lib.atcamera_ackcmdC()\n",
    "\n",
    "\n",
    "# wait ack 300\n",
    "for i in range(120):\n",
    "    response = sender.atcamera.manager.getResponse_standby(ack)\n",
    "#     if response == cmd_id2[0]:\n",
    "    sys.stdout.write('\\r %3i %3i %3i %s' % (i, ack.ack, ack.error, ack.result))\n",
    "    sys.stdout.flush()\n",
    "    if ack.ack == 303:\n",
    "        break\n",
    "    time.sleep(0.5)\n",
    "\n"
   ]
  },
  {
   "cell_type": "code",
   "execution_count": 14,
   "metadata": {},
   "outputs": [
    {
     "name": "stdout",
     "output_type": "stream",
     "text": [
      "AT-O-20180815-00014\n",
      "AT-O-20180815-00014\n"
     ]
    }
   ],
   "source": [
    "print(atcamera.endReadout.imageName)\n",
    "print(atcamera.startIntegration.imageName)"
   ]
  },
  {
   "cell_type": "code",
   "execution_count": 21,
   "metadata": {},
   "outputs": [
    {
     "name": "stdout",
     "output_type": "stream",
     "text": [
      "0 (1102520064, -1) -301 301 34 Ack : OK\n",
      "1 (1102520064, -1) -301 301 34 Ack : OK\n",
      "2 (1102520064, -1) -301 301 34 Ack : OK\n",
      "3 (1102520064, -1) -301 301 34 Ack : OK\n",
      "4 (1102520064, -1) 1102520064 303 0 Done : OK\n",
      "5 (1102520064, -1) -301 303 0 Done : OK\n",
      "6 (1102520064, -1) -301 303 0 Done : OK\n",
      "7 (1102520064, -1) -301 303 0 Done : OK\n",
      "8 (1102520064, -1) -301 303 0 Done : OK\n",
      "9 (1102520064, -1) -301 303 0 Done : OK\n",
      "10 (1102520064, -1) -301 303 0 Done : OK\n",
      "11 (1102520064, -1) -301 303 0 Done : OK\n",
      "12 (1102520064, -1) -301 303 0 Done : OK\n",
      "13 (1102520064, -1) -301 303 0 Done : OK\n",
      "14 (1102520064, -1) -301 303 0 Done : OK\n",
      "15 (1102520064, -1) -301 303 0 Done : OK\n",
      "16 (1102520064, -1) -301 303 0 Done : OK\n",
      "17 (1102520064, -1) -301 303 0 Done : OK\n",
      "18 (1102520064, -1) -301 303 0 Done : OK\n",
      "19 (1102520064, -1) -301 303 0 Done : OK\n"
     ]
    }
   ],
   "source": [
    "# wait ack 300\n",
    "for i in range(20):\n",
    "    response = sender.atcamera.manager.getResponse_standby(ack)\n",
    "#     if response == cmd_id2[0]:\n",
    "    print(i, cmd_id2, response, ack.ack, ack.error, ack.result)\n",
    "    time.sleep(0.5)"
   ]
  },
  {
   "cell_type": "code",
   "execution_count": 21,
   "metadata": {},
   "outputs": [
    {
     "data": {
      "text/plain": [
       "'PI_180813_test2'"
      ]
     },
     "execution_count": 21,
     "metadata": {},
     "output_type": "execute_result"
    }
   ],
   "source": []
  },
  {
   "cell_type": "code",
   "execution_count": 22,
   "metadata": {},
   "outputs": [
    {
     "data": {
      "text/plain": [
       "'PI_180813_test2'"
      ]
     },
     "execution_count": 22,
     "metadata": {},
     "output_type": "execute_result"
    }
   ],
   "source": []
  },
  {
   "cell_type": "code",
   "execution_count": null,
   "metadata": {},
   "outputs": [],
   "source": [
    "# from OFFLINE, send 'enterControl' then 'start' then 'enable'\n",
    "# then 'disable', 'standby', 'exitControl'\n",
    "cmd_id2 = sender.atHeaderService.send_Command('enterControl',\n",
    "                              wait_command=False)"
   ]
  },
  {
   "cell_type": "code",
   "execution_count": 2,
   "metadata": {},
   "outputs": [
    {
     "ename": "NameError",
     "evalue": "name 'sender' is not defined",
     "output_type": "error",
     "traceback": [
      "\u001b[0;31m---------------------------------------------------------------------------\u001b[0m",
      "\u001b[0;31mNameError\u001b[0m                                 Traceback (most recent call last)",
      "\u001b[0;32m<ipython-input-2-047124b0f182>\u001b[0m in \u001b[0;36m<module>\u001b[0;34m()\u001b[0m\n\u001b[1;32m      1\u001b[0m \u001b[0;31m# from OFFLINE, send 'enterControl' then 'start' then 'enable'\u001b[0m\u001b[0;34m\u001b[0m\u001b[0;34m\u001b[0m\u001b[0m\n\u001b[1;32m      2\u001b[0m \u001b[0;31m# then 'disable', 'standby', 'exitControl'\u001b[0m\u001b[0;34m\u001b[0m\u001b[0;34m\u001b[0m\u001b[0m\n\u001b[0;32m----> 3\u001b[0;31m cmd_id2 = sender.atHeaderService.send_Command('enterControl',\n\u001b[0m\u001b[1;32m      4\u001b[0m                               wait_command=False)\n\u001b[1;32m      5\u001b[0m \u001b[0;34m\u001b[0m\u001b[0m\n",
      "\u001b[0;31mNameError\u001b[0m: name 'sender' is not defined"
     ]
    }
   ],
   "source": [
    "# from OFFLINE, send 'enterControl' then 'start' then 'enable'\n",
    "# then 'disable', 'standby', 'exitControl'\n",
    "cmd_id2 = sender.atHeaderService.send_Command('enterControl',\n",
    "                              wait_command=False)\n",
    "\n",
    "ack = sender.atHeaderService.SALPY_lib.atHeaderService_ackcmdC()\n",
    "\n",
    "\n",
    "# wait ack 300\n",
    "for i in range(6):\n",
    "    response = sender.atHeaderService.manager.getResponse_standby(ack)\n",
    "#     if response == cmd_id2[0]:\n",
    "    print(i, cmd_id2, response, ack.ack, ack.error, ack.result)\n",
    "    time.sleep(0.5)"
   ]
  },
  {
   "cell_type": "code",
   "execution_count": null,
   "metadata": {},
   "outputs": [],
   "source": []
  },
  {
   "cell_type": "markdown",
   "metadata": {},
   "source": [
    "Need to create a command sender (defines a class per commandable entity)"
   ]
  },
  {
   "cell_type": "code",
   "execution_count": 3,
   "metadata": {},
   "outputs": [
    {
     "name": "stderr",
     "output_type": "stream",
     "text": [
      "[2018-07-11 20:37:06] [DEBUG] Loading Device: sedSpectrometer\n"
     ]
    }
   ],
   "source": [
    "# sender = SenderContainer()\n",
    "# sender = salpylib.DDSSend(\"atMonochromator\")\n",
    "# sender.start()\n",
    "sender = salpylib.DDSSend(\"sedSpectrometer\")\n",
    "#sender.electrometer = salpylib.DDSSend(\"calibrationElectrometer\")"
   ]
  },
  {
   "cell_type": "markdown",
   "metadata": {},
   "source": [
    "Can disable then re-enable each component to update the state (and publish the events that cause issues below)"
   ]
  },
  {
   "cell_type": "code",
   "execution_count": 4,
   "metadata": {},
   "outputs": [
    {
     "name": "stderr",
     "output_type": "stream",
     "text": [
      "[2018-07-11 19:27:27] [DEBUG] Updating myData object with kwargs\n",
      "[2018-07-11 19:27:27] [DEBUG] key disable not in myData\n",
      "[2018-07-11 19:27:27] [DEBUG] Issuing command: disable\n"
     ]
    },
    {
     "name": "stdout",
     "output_type": "stream",
     "text": [
      "(596516649, -301)\n"
     ]
    }
   ],
   "source": [
    "cmd_id = sender.send_Command('disable', disable=0, wait_command=True)\n",
    "print(cmd_id)"
   ]
  },
  {
   "cell_type": "code",
   "execution_count": 12,
   "metadata": {},
   "outputs": [
    {
     "name": "stderr",
     "output_type": "stream",
     "text": [
      "[2018-07-11 19:19:19] [DEBUG] Updating myData object with kwargs\n",
      "[2018-07-11 19:19:19] [DEBUG] key enable not in myData\n",
      "[2018-07-11 19:19:19] [DEBUG] Issuing command: enable\n"
     ]
    },
    {
     "name": "stdout",
     "output_type": "stream",
     "text": [
      "(596516652, -301)\n"
     ]
    }
   ],
   "source": [
    "cmd_id = sender.send_Command('enable', enable=0,wait_command=True)\n",
    "print(cmd_id)"
   ]
  },
  {
   "cell_type": "code",
   "execution_count": 73,
   "metadata": {},
   "outputs": [
    {
     "name": "stderr",
     "output_type": "stream",
     "text": [
      "[2018-07-09 13:03:15] [INFO] Updating myData object with kwargs\n",
      "[2018-07-09 13:03:15] [INFO] key standby not in myData\n",
      "[2018-07-09 13:03:15] [INFO] Issuing command: standby\n"
     ]
    },
    {
     "name": "stdout",
     "output_type": "stream",
     "text": [
      "(521595369, 303)\n"
     ]
    }
   ],
   "source": [
    "cmd_id = sender.sedSpectrometer.send_Command('standby', standby=True, wait_command=False)\n",
    "print(cmd_id)"
   ]
  },
  {
   "cell_type": "code",
   "execution_count": 4,
   "metadata": {},
   "outputs": [
    {
     "name": "stderr",
     "output_type": "stream",
     "text": [
      "[2018-07-11 20:37:12] [DEBUG] Updating myData object with kwargs\n",
      "[2018-07-11 20:37:12] [DEBUG] settingsToApply = Default\n",
      "[2018-07-11 20:37:12] [DEBUG] Issuing command: start\n"
     ]
    },
    {
     "name": "stdout",
     "output_type": "stream",
     "text": [
      "(596516649, 303)\n"
     ]
    }
   ],
   "source": [
    "cmd_id = sender.send_Command('start', settingsToApply='Default', wait_command=True)\n",
    "print(cmd_id)"
   ]
  },
  {
   "cell_type": "code",
   "execution_count": 54,
   "metadata": {},
   "outputs": [
    {
     "name": "stderr",
     "output_type": "stream",
     "text": [
      "[2018-07-06 18:46:24] [INFO] Updating myData object with kwargs\n",
      "[2018-07-06 18:46:24] [INFO] gratingType = 1\n",
      "[2018-07-06 18:46:24] [INFO] Issuing command: SelectGrating\n"
     ]
    }
   ],
   "source": [
    "#cmd_id = sender.sedSpectrometer.send_Command('SelectGrating', gratingType=1)\n",
    "#start_time = time.time()\n",
    "#while time.time()-start_time < 60:\n",
    "    "
   ]
  },
  {
   "cell_type": "code",
   "execution_count": 55,
   "metadata": {},
   "outputs": [
    {
     "name": "stdout",
     "output_type": "stream",
     "text": [
      "1540383426 -301\n"
     ]
    }
   ],
   "source": [
    "print(sender.monochromator.cmdId, sender.retval)"
   ]
  },
  {
   "cell_type": "code",
   "execution_count": 60,
   "metadata": {},
   "outputs": [
    {
     "name": "stderr",
     "output_type": "stream",
     "text": [
      "[2018-07-06 18:58:22] [INFO] Updating myData object with kwargs\n",
      "[2018-07-06 18:58:22] [INFO] gratingType = 2\n",
      "[2018-07-06 18:58:22] [INFO] fontExitSlitWidth = 1.05\n",
      "[2018-07-06 18:58:22] [INFO] fontEntranceSlitWidth = 2.75\n",
      "[2018-07-06 18:58:22] [INFO] wavelength = 400\n",
      "[2018-07-06 18:58:22] [INFO] Issuing command: updateMonochromatorSetup\n"
     ]
    },
    {
     "name": "stdout",
     "output_type": "stream",
     "text": [
      "(304089173, 303)\n"
     ]
    }
   ],
   "source": [
    "cmd_id = sender.monochromator.send_Command('updateMonochromatorSetup', gratingType=2, \n",
    "                             fontExitSlitWidth=1.05, \n",
    "                             fontEntranceSlitWidth=2.75,\n",
    "                             wavelength=400)\n",
    "print(cmd_id)\n",
    "start_time = time.time()\n",
    "#while True:\n",
    "#    if time.time() - start_time > 120:\n",
    "#        print('Timed out')\n",
    "#        break\n",
    "#    elif detailed_state.getCurrent().detailedState == 7:\n",
    "#        print('Finished...')\n",
    "#        break\n",
    "#    elif ((time.time() - start_time) % 10) == 0:\n",
    "#        print('waiting...')"
   ]
  },
  {
   "cell_type": "code",
   "execution_count": 61,
   "metadata": {},
   "outputs": [
    {
     "name": "stdout",
     "output_type": "stream",
     "text": [
      "(304089173, 303)\n"
     ]
    }
   ],
   "source": [
    "print(cmd_id)"
   ]
  },
  {
   "cell_type": "code",
   "execution_count": 43,
   "metadata": {},
   "outputs": [
    {
     "name": "stderr",
     "output_type": "stream",
     "text": [
      "[2018-07-03 11:31:24] [INFO] Updating myData object with kwargs\n",
      "[2018-07-03 11:31:24] [INFO] slit = 1\n",
      "[2018-07-03 11:31:24] [INFO] slitWidth = 1.0\n",
      "[2018-07-03 11:31:24] [INFO] Issuing command: ChangeSlitWidth\n"
     ]
    },
    {
     "name": "stdout",
     "output_type": "stream",
     "text": [
      "Finished...\n",
      "Waited 0.0005669593811035156 seconds\n",
      "(783368695, 303)\n"
     ]
    }
   ],
   "source": [
    "cmd_id = sender.send_Command('ChangeSlitWidth', slit=1, slitWidth=1.00)\n",
    "start_time = time.time()\n",
    "wait_time = 0\n",
    "while True:\n",
    "    if time.time() - start_time > 120:\n",
    "        print('Timed out')\n",
    "        break\n",
    "    elif detailed_state.getCurrent().detailedState == 7:\n",
    "        print('Finished...')\n",
    "        wait_time = time.time() - start_time\n",
    "        break\n",
    "    elif ((time.time() - start_time) % 10) == 0:\n",
    "        print('waiting...')\n",
    "print('Waited {} seconds'.format(wait_time))\n",
    "print(cmd_id)"
   ]
  },
  {
   "cell_type": "code",
   "execution_count": 38,
   "metadata": {},
   "outputs": [
    {
     "name": "stdout",
     "output_type": "stream",
     "text": [
      "(783368693, -301)\n"
     ]
    }
   ],
   "source": [
    "print(cmd_id)"
   ]
  },
  {
   "cell_type": "markdown",
   "metadata": {},
   "source": [
    "BELOW THIS LINE IS TIAGO MESSING AROUND.... No Im not.... "
   ]
  },
  {
   "cell_type": "code",
   "execution_count": null,
   "metadata": {},
   "outputs": [],
   "source": []
  },
  {
   "cell_type": "code",
   "execution_count": null,
   "metadata": {},
   "outputs": [],
   "source": []
  },
  {
   "cell_type": "code",
   "execution_count": 59,
   "metadata": {},
   "outputs": [
    {
     "name": "stderr",
     "output_type": "stream",
     "text": [
      "[2018-07-06 18:50:11] [INFO] Updating myData object with kwargs\n",
      "[2018-07-06 18:50:11] [INFO] wavelength = 420\n",
      "[2018-07-06 18:50:11] [INFO] Issuing command: ChangeWavelength\n"
     ]
    },
    {
     "name": "stdout",
     "output_type": "stream",
     "text": [
      "Finished...\n",
      "Waited 0.0006232261657714844 seconds\n",
      "(1303455738, 303)\n"
     ]
    }
   ],
   "source": [
    "cmd_id = sender.send_Command('ChangeWavelength', wavelength=420)\n",
    "start_time = time.time()\n",
    "wait_time = 0\n",
    "while True:\n",
    "    if time.time() - start_time > 120:\n",
    "        print('Timed out')\n",
    "        break\n",
    "    elif detailed_state.getCurrent().detailedState == 7:\n",
    "        print('Finished...')\n",
    "        wait_time = time.time() - start_time\n",
    "        break\n",
    "    elif ((time.time() - start_time) % 10) == 0:\n",
    "        print('waiting...')\n",
    "print('Waited {} seconds'.format(wait_time))\n",
    "print(cmd_id)"
   ]
  },
  {
   "cell_type": "code",
   "execution_count": null,
   "metadata": {},
   "outputs": [],
   "source": []
  },
  {
   "cell_type": "code",
   "execution_count": 27,
   "metadata": {},
   "outputs": [],
   "source": [
    "detailed_state.start()"
   ]
  },
  {
   "cell_type": "code",
   "execution_count": 33,
   "metadata": {},
   "outputs": [
    {
     "name": "stdout",
     "output_type": "stream",
     "text": [
      "7\n"
     ]
    }
   ],
   "source": [
    "\n",
    "print(detailed_state.getCurrent().detailedState)"
   ]
  },
  {
   "cell_type": "code",
   "execution_count": 8,
   "metadata": {},
   "outputs": [
    {
     "data": {
      "text/plain": [
       "1025202363"
      ]
     },
     "execution_count": 8,
     "metadata": {},
     "output_type": "execute_result"
    }
   ],
   "source": [
    "# sender.myData.disable\n",
    "# sender.cmd\n",
    "sender.issueCommand(sender.myData)"
   ]
  },
  {
   "cell_type": "code",
   "execution_count": null,
   "metadata": {},
   "outputs": [],
   "source": []
  },
  {
   "cell_type": "code",
   "execution_count": 17,
   "metadata": {},
   "outputs": [
    {
     "ename": "AttributeError",
     "evalue": "module 'salpytools.salpylib' has no attribute 'SALPY_lib'",
     "output_type": "error",
     "traceback": [
      "\u001b[0;31m---------------------------------------------------------------------------\u001b[0m",
      "\u001b[0;31mAttributeError\u001b[0m                            Traceback (most recent call last)",
      "\u001b[0;32m<ipython-input-17-187d0fbd5766>\u001b[0m in \u001b[0;36m<module>\u001b[0;34m()\u001b[0m\n\u001b[0;32m----> 1\u001b[0;31m \u001b[0mgetattr\u001b[0m\u001b[0;34m(\u001b[0m\u001b[0msalpylib\u001b[0m\u001b[0;34m.\u001b[0m\u001b[0mSALPY_lib\u001b[0m\u001b[0;34m,\u001b[0m\u001b[0;34m'SAL_{}'\u001b[0m\u001b[0;34m.\u001b[0m\u001b[0mformat\u001b[0m\u001b[0;34m(\u001b[0m\u001b[0;34m'atMonochromator'\u001b[0m\u001b[0;34m)\u001b[0m\u001b[0;34m)\u001b[0m\u001b[0;34m(\u001b[0m\u001b[0;34m)\u001b[0m\u001b[0;34m\u001b[0m\u001b[0m\n\u001b[0m",
      "\u001b[0;31mAttributeError\u001b[0m: module 'salpytools.salpylib' has no attribute 'SALPY_lib'"
     ]
    }
   ],
   "source": [
    "getattr(salpylib.SALPY_lib,'SAL_{}'.format('atMonochromator'))()"
   ]
  },
  {
   "cell_type": "code",
   "execution_count": 9,
   "metadata": {},
   "outputs": [],
   "source": [
    "import SALPY_atMonochromator"
   ]
  },
  {
   "cell_type": "code",
   "execution_count": 19,
   "metadata": {},
   "outputs": [],
   "source": [
    "import inspect"
   ]
  },
  {
   "cell_type": "code",
   "execution_count": 20,
   "metadata": {},
   "outputs": [],
   "source": [
    "members = inspect.getmembers(SALPY_atMonochromator)"
   ]
  },
  {
   "cell_type": "code",
   "execution_count": 18,
   "metadata": {},
   "outputs": [],
   "source": [
    "# inspect.getmembers(sender.SALPY_lib)"
   ]
  },
  {
   "cell_type": "code",
   "execution_count": 28,
   "metadata": {},
   "outputs": [
    {
     "name": "stdout",
     "output_type": "stream",
     "text": [
      "CalibrateWavelength\n",
      "ChangeLightIntensity\n",
      "ChangeSlitWidth\n",
      "ChangeWavelength\n",
      "Power\n",
      "PowerWhiteLight\n",
      "SelectGrating\n",
      "SetCoolingTemperature\n",
      "disable\n",
      "enable\n",
      "enterControl\n",
      "exitControl\n",
      "standby\n",
      "start\n",
      "updateMonochromatorSetup\n"
     ]
    }
   ],
   "source": [
    "for member in members:\n",
    "    if 'command' in member[0]:\n",
    "#         print(member)\n",
    "        cmd_name = member[0].split('command_')[-1][:-1]\n",
    "        print(cmd_name)"
   ]
  },
  {
   "cell_type": "code",
   "execution_count": 11,
   "metadata": {},
   "outputs": [],
   "source": [
    "topic.enable = True"
   ]
  },
  {
   "cell_type": "code",
   "execution_count": 17,
   "metadata": {},
   "outputs": [],
   "source": [
    "manager = SALPY_atMonochromator.SAL_atMonochromator() #.salProcessor('atMonochromator_command_enable')"
   ]
  },
  {
   "cell_type": "code",
   "execution_count": 24,
   "metadata": {},
   "outputs": [
    {
     "data": {
      "text/plain": [
       "<bound method PyCapsule.waitForCompletion_disable of <SALPY_atMonochromator.SAL_atMonochromator object at 0x7fac84498260>>"
      ]
     },
     "execution_count": 24,
     "metadata": {},
     "output_type": "execute_result"
    }
   ],
   "source": [
    "sender.waitForCompletion['disable']"
   ]
  },
  {
   "cell_type": "code",
   "execution_count": null,
   "metadata": {},
   "outputs": [],
   "source": []
  }
 ],
 "metadata": {
  "kernelspec": {
   "display_name": "Python 3",
   "language": "python",
   "name": "python3"
  },
  "language_info": {
   "codemirror_mode": {
    "name": "ipython",
    "version": 3
   },
   "file_extension": ".py",
   "mimetype": "text/x-python",
   "name": "python",
   "nbconvert_exporter": "python",
   "pygments_lexer": "ipython3",
   "version": "3.6.2"
  }
 },
 "nbformat": 4,
 "nbformat_minor": 2
}
