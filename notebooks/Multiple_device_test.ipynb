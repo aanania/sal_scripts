{
 "cells": [
  {
   "cell_type": "code",
   "execution_count": 1,
   "metadata": {},
   "outputs": [
    {
     "name": "stdout",
     "output_type": "stream",
     "text": [
      "auxtelpath\n",
      "auxtelpath\n"
     ]
    }
   ],
   "source": [
    "import os\n",
    "import time\n",
    "print(os.environ['LSST_DDS_DOMAIN'])\n",
    "os.environ['LSST_DDS_DOMAIN'] = 'auxtelpath'\n",
    "print(os.environ['LSST_DDS_DOMAIN'])\n",
    "from salpytools import salpylib \n",
    "from collections import namedtuple"
   ]
  },
  {
   "cell_type": "code",
   "execution_count": 2,
   "metadata": {},
   "outputs": [],
   "source": [
    "component_list = ['calibrationElectrometer', \n",
    "                  'atMonochromator']"
   ]
  },
  {
   "cell_type": "code",
   "execution_count": 3,
   "metadata": {},
   "outputs": [
    {
     "name": "stderr",
     "output_type": "stream",
     "text": [
      "[2018-07-11 18:55:29] [DEBUG] Loading Device: sedSpectrometer\n",
      "[2018-07-11 18:55:29] [DEBUG] Loading all topics from sedSpectrometer\n",
      "[2018-07-11 18:55:29] [DEBUG] Adding AppliedSettingsMatchStart...\n",
      "[2018-07-11 18:55:30] [DEBUG] Event subscriber ready for Device:sedSpectrometer topic:AppliedSettingsMatchStart\n",
      "[2018-07-11 18:55:30] [DEBUG] Adding DetailedState...\n",
      "[2018-07-11 18:55:30] [DEBUG] Event subscriber ready for Device:sedSpectrometer topic:DetailedState\n",
      "[2018-07-11 18:55:30] [DEBUG] Adding ErrorCode...\n",
      "[2018-07-11 18:55:30] [DEBUG] Event subscriber ready for Device:sedSpectrometer topic:ErrorCode\n",
      "[2018-07-11 18:55:30] [DEBUG] Adding Heartbeat...\n",
      "[2018-07-11 18:55:30] [DEBUG] Event subscriber ready for Device:sedSpectrometer topic:Heartbeat\n",
      "[2018-07-11 18:55:30] [DEBUG] Adding InternalCommand...\n",
      "[2018-07-11 18:55:30] [DEBUG] Event subscriber ready for Device:sedSpectrometer topic:InternalCommand\n",
      "[2018-07-11 18:55:30] [DEBUG] Adding LargeFileObjectAvailable...\n",
      "[2018-07-11 18:55:30] [DEBUG] Event subscriber ready for Device:sedSpectrometer topic:LargeFileObjectAvailable\n",
      "[2018-07-11 18:55:30] [DEBUG] Adding LoopTimeOutOfRange...\n",
      "[2018-07-11 18:55:30] [DEBUG] Event subscriber ready for Device:sedSpectrometer topic:LoopTimeOutOfRange\n",
      "[2018-07-11 18:55:30] [DEBUG] Adding MeasuredSpectrum...\n",
      "[2018-07-11 18:55:30] [DEBUG] Event subscriber ready for Device:sedSpectrometer topic:MeasuredSpectrum\n",
      "[2018-07-11 18:55:30] [DEBUG] Adding RejectedCommand...\n",
      "[2018-07-11 18:55:30] [DEBUG] Event subscriber ready for Device:sedSpectrometer topic:RejectedCommand\n",
      "[2018-07-11 18:55:30] [DEBUG] Adding SettingVersions...\n",
      "[2018-07-11 18:55:30] [DEBUG] Event subscriber ready for Device:sedSpectrometer topic:SettingVersions\n",
      "[2018-07-11 18:55:30] [DEBUG] Adding SummaryState...\n",
      "[2018-07-11 18:55:30] [DEBUG] Event subscriber ready for Device:sedSpectrometer topic:SummaryState\n",
      "[2018-07-11 18:55:30] [DEBUG] Adding Timeout...\n",
      "[2018-07-11 18:55:30] [DEBUG] Event subscriber ready for Device:sedSpectrometer topic:Timeout\n",
      "[2018-07-11 18:55:30] [DEBUG] Loading Device: calibrationElectrometer\n",
      "[2018-07-11 18:55:30] [DEBUG] Loading all topics from calibrationElectrometer\n",
      "[2018-07-11 18:55:30] [DEBUG] Adding AppliedSettingsMatchStart...\n",
      "[2018-07-11 18:55:30] [DEBUG] Event subscriber ready for Device:calibrationElectrometer topic:AppliedSettingsMatchStart\n",
      "[2018-07-11 18:55:30] [DEBUG] Adding DetailedState...\n",
      "[2018-07-11 18:55:30] [DEBUG] Event subscriber ready for Device:calibrationElectrometer topic:DetailedState\n",
      "[2018-07-11 18:55:30] [DEBUG] Adding ErrorCode...\n",
      "[2018-07-11 18:55:30] [DEBUG] Event subscriber ready for Device:calibrationElectrometer topic:ErrorCode\n",
      "[2018-07-11 18:55:30] [DEBUG] Adding Heartbeat...\n",
      "[2018-07-11 18:55:30] [DEBUG] Event subscriber ready for Device:calibrationElectrometer topic:Heartbeat\n",
      "[2018-07-11 18:55:30] [DEBUG] Adding IntegrationTime...\n",
      "[2018-07-11 18:55:30] [DEBUG] Event subscriber ready for Device:calibrationElectrometer topic:IntegrationTime\n",
      "[2018-07-11 18:55:30] [DEBUG] Adding Intensity...\n",
      "[2018-07-11 18:55:30] [DEBUG] Event subscriber ready for Device:calibrationElectrometer topic:Intensity\n",
      "[2018-07-11 18:55:30] [DEBUG] Adding IntensityReq...\n",
      "[2018-07-11 18:55:30] [DEBUG] Event subscriber ready for Device:calibrationElectrometer topic:IntensityReq\n",
      "[2018-07-11 18:55:30] [DEBUG] Adding InternalCommand...\n",
      "[2018-07-11 18:55:30] [DEBUG] Event subscriber ready for Device:calibrationElectrometer topic:InternalCommand\n",
      "[2018-07-11 18:55:30] [DEBUG] Adding LargeFileObjectAvailable...\n",
      "[2018-07-11 18:55:30] [DEBUG] Event subscriber ready for Device:calibrationElectrometer topic:LargeFileObjectAvailable\n",
      "[2018-07-11 18:55:30] [DEBUG] Adding LoopTimeOutOfRange...\n",
      "[2018-07-11 18:55:30] [DEBUG] Event subscriber ready for Device:calibrationElectrometer topic:LoopTimeOutOfRange\n",
      "[2018-07-11 18:55:30] [DEBUG] Adding ReadingOutOfLimit...\n",
      "[2018-07-11 18:55:30] [DEBUG] Event subscriber ready for Device:calibrationElectrometer topic:ReadingOutOfLimit\n",
      "[2018-07-11 18:55:30] [DEBUG] Adding RejectedCommand...\n",
      "[2018-07-11 18:55:30] [DEBUG] Event subscriber ready for Device:calibrationElectrometer topic:RejectedCommand\n",
      "[2018-07-11 18:55:30] [DEBUG] Adding SettingVersions...\n",
      "[2018-07-11 18:55:30] [DEBUG] Event subscriber ready for Device:calibrationElectrometer topic:SettingVersions\n",
      "[2018-07-11 18:55:30] [DEBUG] Adding ReadingSettings...\n",
      "[2018-07-11 18:55:30] [DEBUG] Could not add ReadingSettings... Skipping...\n",
      "[2018-07-11 18:55:30] [DEBUG] Adding SerialConfiguration...\n",
      "[2018-07-11 18:55:30] [DEBUG] Could not add SerialConfiguration... Skipping...\n",
      "[2018-07-11 18:55:30] [DEBUG] Adding SummaryState...\n",
      "[2018-07-11 18:55:30] [DEBUG] Event subscriber ready for Device:calibrationElectrometer topic:SummaryState\n",
      "[2018-07-11 18:55:30] [DEBUG] Adding digitalFilterChange...\n",
      "[2018-07-11 18:55:30] [DEBUG] Event subscriber ready for Device:calibrationElectrometer topic:digitalFilterChange\n",
      "[2018-07-11 18:55:30] [DEBUG] Adding measureRange...\n",
      "[2018-07-11 18:55:30] [DEBUG] Event subscriber ready for Device:calibrationElectrometer topic:measureRange\n",
      "[2018-07-11 18:55:30] [DEBUG] Adding measureType...\n",
      "[2018-07-11 18:55:30] [DEBUG] Event subscriber ready for Device:calibrationElectrometer topic:measureType\n",
      "[2018-07-11 18:55:30] [DEBUG] Loading Device: atMonochromator\n",
      "[2018-07-11 18:55:30] [DEBUG] Loading all topics from atMonochromator\n",
      "[2018-07-11 18:55:30] [DEBUG] Adding AppliedSettingsMatchStart...\n",
      "[2018-07-11 18:55:30] [DEBUG] Event subscriber ready for Device:atMonochromator topic:AppliedSettingsMatchStart\n",
      "[2018-07-11 18:55:30] [DEBUG] Adding CoolingMonitoring...\n",
      "[2018-07-11 18:55:30] [DEBUG] Event subscriber ready for Device:atMonochromator topic:CoolingMonitoring\n",
      "[2018-07-11 18:55:30] [DEBUG] Adding DetailedState...\n",
      "[2018-07-11 18:55:30] [DEBUG] Event subscriber ready for Device:atMonochromator topic:DetailedState\n",
      "[2018-07-11 18:55:30] [DEBUG] Adding ErrorCode...\n",
      "[2018-07-11 18:55:30] [DEBUG] Event subscriber ready for Device:atMonochromator topic:ErrorCode\n",
      "[2018-07-11 18:55:30] [DEBUG] Adding Heartbeat...\n",
      "[2018-07-11 18:55:30] [DEBUG] Event subscriber ready for Device:atMonochromator topic:Heartbeat\n",
      "[2018-07-11 18:55:30] [DEBUG] Adding InternalCommand...\n",
      "[2018-07-11 18:55:30] [DEBUG] Event subscriber ready for Device:atMonochromator topic:InternalCommand\n",
      "[2018-07-11 18:55:30] [DEBUG] Adding LightIntensity...\n",
      "[2018-07-11 18:55:30] [DEBUG] Event subscriber ready for Device:atMonochromator topic:LightIntensity\n",
      "[2018-07-11 18:55:30] [DEBUG] Adding LightStatus...\n",
      "[2018-07-11 18:55:30] [DEBUG] Event subscriber ready for Device:atMonochromator topic:LightStatus\n",
      "[2018-07-11 18:55:30] [DEBUG] Adding LoopTimeOutOfRange...\n",
      "[2018-07-11 18:55:30] [DEBUG] Event subscriber ready for Device:atMonochromator topic:LoopTimeOutOfRange\n",
      "[2018-07-11 18:55:30] [DEBUG] Adding MonochromatorConnected...\n",
      "[2018-07-11 18:55:30] [DEBUG] Event subscriber ready for Device:atMonochromator topic:MonochromatorConnected\n",
      "[2018-07-11 18:55:30] [DEBUG] Adding RejectedCommand...\n",
      "[2018-07-11 18:55:30] [DEBUG] Event subscriber ready for Device:atMonochromator topic:RejectedCommand\n",
      "[2018-07-11 18:55:30] [DEBUG] Adding SelectedGrating...\n",
      "[2018-07-11 18:55:31] [DEBUG] Event subscriber ready for Device:atMonochromator topic:SelectedGrating\n",
      "[2018-07-11 18:55:31] [DEBUG] Adding SettingVersions...\n",
      "[2018-07-11 18:55:31] [DEBUG] Event subscriber ready for Device:atMonochromator topic:SettingVersions\n",
      "[2018-07-11 18:55:31] [DEBUG] Adding SettingsAppliedLoop...\n",
      "[2018-07-11 18:55:31] [DEBUG] Event subscriber ready for Device:atMonochromator topic:SettingsAppliedLoop\n",
      "[2018-07-11 18:55:31] [DEBUG] Adding SettingsAppliedMonoCommunication...\n",
      "[2018-07-11 18:55:31] [DEBUG] Event subscriber ready for Device:atMonochromator topic:SettingsAppliedMonoCommunication\n",
      "[2018-07-11 18:55:31] [DEBUG] Adding SettingsAppliedMonoHeartbeat...\n",
      "[2018-07-11 18:55:31] [DEBUG] Event subscriber ready for Device:atMonochromator topic:SettingsAppliedMonoHeartbeat\n",
      "[2018-07-11 18:55:31] [DEBUG] Adding SettingsAppliedMonochromatorRanges...\n",
      "[2018-07-11 18:55:31] [DEBUG] Event subscriber ready for Device:atMonochromator topic:SettingsAppliedMonochromatorRanges\n",
      "[2018-07-11 18:55:31] [DEBUG] Adding SlitWidth...\n",
      "[2018-07-11 18:55:31] [DEBUG] Event subscriber ready for Device:atMonochromator topic:SlitWidth\n",
      "[2018-07-11 18:55:31] [DEBUG] Adding SummaryState...\n",
      "[2018-07-11 18:55:31] [DEBUG] Event subscriber ready for Device:atMonochromator topic:SummaryState\n",
      "[2018-07-11 18:55:31] [DEBUG] Adding Wavelength...\n",
      "[2018-07-11 18:55:31] [DEBUG] Event subscriber ready for Device:atMonochromator topic:Wavelength\n",
      "[2018-07-11 18:55:31] [DEBUG] Adding inPosition...\n",
      "[2018-07-11 18:55:31] [DEBUG] Event subscriber ready for Device:atMonochromator topic:inPosition\n"
     ]
    }
   ],
   "source": [
    "sedSpectrometer = salpylib.DDSSubscriberContainer('sedSpectrometer')\n",
    "calibrationElectrometer = salpylib.DDSSubscriberContainer('calibrationElectrometer')\n",
    "atMonochromator = salpylib.DDSSubscriberContainer('atMonochromator')\n",
    "\n",
    "#atMonochromator.Wavelength.wavelength\n",
    "#calibrationElectrometer.SummaryState.summaryState"
   ]
  },
  {
   "cell_type": "code",
   "execution_count": 4,
   "metadata": {},
   "outputs": [],
   "source": [
    "# want to create a class that captures all of the different components\n",
    "# Need to declare its existance here\n",
    "class SenderContainer():\n",
    "    pass"
   ]
  },
  {
   "cell_type": "code",
   "execution_count": 5,
   "metadata": {},
   "outputs": [
    {
     "name": "stderr",
     "output_type": "stream",
     "text": [
      "[2018-07-11 18:55:36] [DEBUG] Loading Device: sedSpectrometer\n",
      "[2018-07-11 18:55:36] [DEBUG] Loading Device: calibrationElectrometer\n",
      "[2018-07-11 18:55:36] [DEBUG] Loading Device: atMonochromator\n"
     ]
    }
   ],
   "source": [
    "sender = SenderContainer()\n",
    "# sender = salpylib.DDSSend(\"atMonochromator\")\n",
    "# sender.start()\n",
    "sender.sedSpectrometer = salpylib.DDSSend(\"sedSpectrometer\")\n",
    "sender.calibrationElectrometer = salpylib.DDSSend(\"calibrationElectrometer\")\n",
    "sender.atMonochromator = salpylib.DDSSend(\"atMonochromator\")"
   ]
  },
  {
   "cell_type": "code",
   "execution_count": 10,
   "metadata": {},
   "outputs": [
    {
     "name": "stderr",
     "output_type": "stream",
     "text": [
      "[2018-07-11 18:27:21] [DEBUG] Updating myData object with kwargs\n",
      "[2018-07-11 18:27:21] [DEBUG] settingsToApply = Default\n",
      "[2018-07-11 18:27:21] [DEBUG] Issuing command: start\n",
      "[2018-07-11 18:27:26] [DEBUG] Updating myData object with kwargs\n",
      "[2018-07-11 18:27:26] [DEBUG] settingsToApply = Default\n",
      "[2018-07-11 18:27:26] [DEBUG] Issuing command: start\n",
      "[2018-07-11 18:27:31] [DEBUG] Updating myData object with kwargs\n",
      "[2018-07-11 18:27:31] [DEBUG] settingsToApply = Default\n",
      "[2018-07-11 18:27:31] [DEBUG] Issuing command: start\n"
     ]
    },
    {
     "name": "stdout",
     "output_type": "stream",
     "text": [
      "(596516650, -301) (1189641422, -301) (1025202363, -301)\n"
     ]
    }
   ],
   "source": [
    "# bring up the components into the enabled state\n",
    "# can't query device state at this time\n",
    "# start by going to standby, then disabled, then enabled\n",
    "cmd_id = sender.sedSpectrometer.send_Command('start', settingsToApply='Default', wait_command=False)\n",
    "cmd_id1 = sender.calibrationElectrometer.send_Command('start', settingsToApply='Default', wait_command=False)\n",
    "cmd_id2 = sender.atMonochromator.send_Command('start', settingsToApply='Default', wait_command=False)\n",
    "\n",
    "#print(cmd_id2)\n",
    "print(cmd_id, cmd_id1, cmd_id2)"
   ]
  },
  {
   "cell_type": "code",
   "execution_count": 11,
   "metadata": {},
   "outputs": [
    {
     "name": "stderr",
     "output_type": "stream",
     "text": [
      "[2018-07-11 18:27:45] [DEBUG] Updating myData object with kwargs\n",
      "[2018-07-11 18:27:45] [DEBUG] key enable not in myData\n",
      "[2018-07-11 18:27:45] [DEBUG] Issuing command: enable\n",
      "[2018-07-11 18:27:50] [DEBUG] Updating myData object with kwargs\n",
      "[2018-07-11 18:27:50] [DEBUG] enable = True\n",
      "[2018-07-11 18:27:50] [DEBUG] Issuing command: enable\n",
      "[2018-07-11 18:27:55] [DEBUG] Updating myData object with kwargs\n",
      "[2018-07-11 18:27:55] [DEBUG] enable = True\n",
      "[2018-07-11 18:27:55] [DEBUG] Issuing command: enable\n"
     ]
    },
    {
     "name": "stdout",
     "output_type": "stream",
     "text": [
      "(1350490027, -301) (783368690, -301) (1102520059, -301)\n"
     ]
    }
   ],
   "source": [
    "cmd_id = sender.sedSpectrometer.send_Command('enable', enable=True, wait_command=False)\n",
    "cmd_id1 = sender.calibrationElectrometer.send_Command('enable', enable=True, wait_command=False)\n",
    "cmd_id2 = sender.atMonochromator.send_Command('enable', enable=True, wait_command=False)\n",
    "print(cmd_id, cmd_id1, cmd_id2)"
   ]
  },
  {
   "cell_type": "code",
   "execution_count": 15,
   "metadata": {},
   "outputs": [
    {
     "name": "stderr",
     "output_type": "stream",
     "text": [
      "[2018-07-11 18:32:10] [DEBUG] Updating myData object with kwargs\n",
      "[2018-07-11 18:32:10] [DEBUG] gratingType = 1\n",
      "[2018-07-11 18:32:10] [DEBUG] fontExitSlitWidth = 5.0\n",
      "[2018-07-11 18:32:10] [DEBUG] fontEntranceSlitWidth = 5.0\n",
      "[2018-07-11 18:32:10] [DEBUG] wavelength = 405\n",
      "[2018-07-11 18:32:10] [DEBUG] Issuing command: updateMonochromatorSetup\n"
     ]
    }
   ],
   "source": [
    "# Setup Monochromator\n",
    "# Grating 1 is Blue, Grating 2 is Red, Mirror is 3 \n",
    "cmd_id = sender.atMonochromator.send_Command('updateMonochromatorSetup',gratingType=1,\n",
    "                                              fontExitSlitWidth = 5.0, fontEntranceSlitWidth = 5.0,\n",
    "                                              wavelength = 405)\n",
    "print(cmd_id)"
   ]
  },
  {
   "cell_type": "code",
   "execution_count": 17,
   "metadata": {},
   "outputs": [
    {
     "name": "stderr",
     "output_type": "stream",
     "text": [
      "[2018-07-11 18:36:39] [DEBUG] Updating myData object with kwargs\n",
      "[2018-07-11 18:36:39] [DEBUG] electId = 1\n",
      "[2018-07-11 18:36:39] [DEBUG] time = 1\n",
      "[2018-07-11 18:36:39] [DEBUG] Issuing command: StartScanDt\n"
     ]
    },
    {
     "name": "stdout",
     "output_type": "stream",
     "text": [
      "(1967513927, 303)\n"
     ]
    }
   ],
   "source": [
    "# Setup Electrometer\n",
    "cmd_id = sender.calibrationElectrometer.send_Command('StartScanDt', electId=1, time=1)\n",
    "print(cmd_id)\n",
    "print(calibrationElectrometer.LargeFileObjectAvailable.URL)"
   ]
  },
  {
   "cell_type": "code",
   "execution_count": null,
   "metadata": {},
   "outputs": [
    {
     "name": "stderr",
     "output_type": "stream",
     "text": [
      "[2018-07-11 18:55:47] [DEBUG] Updating myData object with kwargs\n",
      "[2018-07-11 18:55:47] [DEBUG] imageType = test\n",
      "[2018-07-11 18:55:47] [DEBUG] integrationTime = 1\n",
      "[2018-07-11 18:55:47] [DEBUG] lamp = lamp\n"
     ]
    }
   ],
   "source": [
    "# setup SED Spectrograph\n",
    "cmd_id = sender.sedSpectrometer.send_Command('captureSpectImage', imageType=\"test\", \n",
    "                                             integrationTime=1, lamp='lamp')"
   ]
  },
  {
   "cell_type": "code",
   "execution_count": 14,
   "metadata": {},
   "outputs": [
    {
     "name": "stdout",
     "output_type": "stream",
     "text": [
      "dict_keys(['CalibrateWavelength', 'ChangeLightIntensity', 'ChangeSlitWidth', 'ChangeWavelength', 'Power', 'PowerWhiteLight', 'SelectGrating', 'SetCoolingTemperature', 'disable', 'enable', 'enterControl', 'exitControl', 'standby', 'start', 'updateMonochromatorSetup'])\n"
     ]
    }
   ],
   "source": [
    "# use this to get the commands available\n",
    "print(sender.atMonochromator.issueCommand.keys())"
   ]
  },
  {
   "cell_type": "code",
   "execution_count": 1,
   "metadata": {},
   "outputs": [
    {
     "ename": "NameError",
     "evalue": "name 'cmd_id2' is not defined",
     "output_type": "error",
     "traceback": [
      "\u001b[0;31m---------------------------------------------------------------------------\u001b[0m",
      "\u001b[0;31mNameError\u001b[0m                                 Traceback (most recent call last)",
      "\u001b[0;32m<ipython-input-1-3b0591ca6f3a>\u001b[0m in \u001b[0;36m<module>\u001b[0;34m()\u001b[0m\n\u001b[0;32m----> 1\u001b[0;31m \u001b[0mprint\u001b[0m\u001b[0;34m(\u001b[0m\u001b[0mcmd_id2\u001b[0m\u001b[0;34m)\u001b[0m\u001b[0;34m\u001b[0m\u001b[0m\n\u001b[0m",
      "\u001b[0;31mNameError\u001b[0m: name 'cmd_id2' is not defined"
     ]
    }
   ],
   "source": [
    "print(cmd_id2)"
   ]
  },
  {
   "cell_type": "code",
   "execution_count": null,
   "metadata": {},
   "outputs": [],
   "source": []
  }
 ],
 "metadata": {
  "kernelspec": {
   "display_name": "Python 3",
   "language": "python",
   "name": "python3"
  },
  "language_info": {
   "codemirror_mode": {
    "name": "ipython",
    "version": 3
   },
   "file_extension": ".py",
   "mimetype": "text/x-python",
   "name": "python",
   "nbconvert_exporter": "python",
   "pygments_lexer": "ipython3",
   "version": "3.6.2"
  }
 },
 "nbformat": 4,
 "nbformat_minor": 2
}
