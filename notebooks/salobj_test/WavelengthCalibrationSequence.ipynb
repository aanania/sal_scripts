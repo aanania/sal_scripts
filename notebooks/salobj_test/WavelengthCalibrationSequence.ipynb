{
 "cells": [
  {
   "cell_type": "code",
   "execution_count": 1,
   "metadata": {},
   "outputs": [
    {
     "name": "stderr",
     "output_type": "stream",
     "text": [
      "/home/saluser/lsst_repos/salobj/python/salobj/test_utils.py:37: UserWarning: Could not import SALPY_Test; TestComponent will not work\n",
      "  warnings.warn(\"Could not import SALPY_Test; TestComponent will not work\")\n"
     ]
    }
   ],
   "source": [
    "import salobj\n",
    "import SALPY_calibrationElectrometer as cEl\n",
    "import SALPY_atMonochromator as atM\n",
    "import SALPY_sedSpectrometer as sedS\n",
    "import nest_asyncio\n",
    "nest_asyncio.apply()\n",
    "import asyncio\n",
    "import time\n",
    "import os\n",
    "import posixpath\n",
    "import aiohttp # $ pip install aiohttp\n",
    "from contextlib import closing\n",
    "from astropy.io import fits\n",
    "from matplotlib import pyplot as py\n",
    "\n",
    "try:\n",
    "    from urlparse import urlsplit\n",
    "    from urllib import unquote\n",
    "except ImportError: # Python 3\n",
    "    from urllib.parse import urlsplit, unquote\n",
    "    \n",
    "%matplotlib inline"
   ]
  },
  {
   "cell_type": "code",
   "execution_count": 2,
   "metadata": {},
   "outputs": [],
   "source": [
    "import asyncio"
   ]
  },
  {
   "cell_type": "code",
   "execution_count": 3,
   "metadata": {},
   "outputs": [],
   "source": [
    "loop = asyncio.get_event_loop()"
   ]
  },
  {
   "cell_type": "code",
   "execution_count": 1,
   "metadata": {},
   "outputs": [
    {
     "ename": "ModuleNotFoundError",
     "evalue": "No module named 'salobj'",
     "output_type": "error",
     "traceback": [
      "\u001b[0;31m---------------------------------------------------------------------------\u001b[0m",
      "\u001b[0;31mModuleNotFoundError\u001b[0m                       Traceback (most recent call last)",
      "\u001b[0;32m<ipython-input-1-13ba0549aa49>\u001b[0m in \u001b[0;36m<module>\u001b[0;34m()\u001b[0m\n\u001b[0;32m----> 1\u001b[0;31m \u001b[0;32mimport\u001b[0m \u001b[0msalobj\u001b[0m\u001b[0;34m\u001b[0m\u001b[0m\n\u001b[0m\u001b[1;32m      2\u001b[0m \u001b[0;32mimport\u001b[0m \u001b[0mSALPY_MTMount\u001b[0m\u001b[0;34m\u001b[0m\u001b[0m\n",
      "\u001b[0;31mModuleNotFoundError\u001b[0m: No module named 'salobj'"
     ]
    }
   ],
   "source": [
    "import salobj\n",
    "import SALPY_MTMount \n",
    "import asyncio\n",
    "\n",
    "loop = asyncio.get_event_loop()\n",
    "\n",
    "remote = salobj.Remote(SALPY_MTMount)\n",
    "\n",
    "moveto_topic = remote.cmd_moveToTarget.DataType()\n",
    "moveto_topic.az_angle = 45.\n",
    "moveto_topic.el_angle = 60.\n",
    "moveto_topic.cablewrap_orientation = \"CW\"  # Need to check cable wrap orientation probably\n",
    "\n",
    "moveto_task = loop.run_until_complete(remote.cmd_moveToTarget.start(moveto_topic, timeout=60.)) # adding a timeout of 60s\n",
    "\n",
    "print(moveto_task.ack) # now you can check the ack response"
   ]
  },
  {
   "cell_type": "code",
   "execution_count": 2,
   "metadata": {},
   "outputs": [],
   "source": [
    "import logging\n",
    "logging.getLogger().setLevel(logging.INFO)\n",
    "logging.basicConfig(level=logging.INFO,\n",
    "                format='[%(asctime)s] [%(name)-12s:%(lineno)-4d] [%(levelname)-8s]: %(message)s',\n",
    "                datefmt='%m-%d %H:%M:%S')"
   ]
  },
  {
   "cell_type": "code",
   "execution_count": 3,
   "metadata": {},
   "outputs": [],
   "source": [
    "def url2filename(url):\n",
    "    \"\"\"Return basename corresponding to url.\n",
    "    >>> print(url2filename('http://example.com/path/to/file%C3%80?opt=1'))\n",
    "    fileÀ\n",
    "    >>> print(url2filename('http://example.com/slash%2fname')) # '/' in name\n",
    "    Traceback (most recent call last):\n",
    "    ...\n",
    "    ValueError\n",
    "    \"\"\"\n",
    "    urlpath = urlsplit(url).path\n",
    "    basename = posixpath.basename(unquote(urlpath))\n",
    "    if (os.path.basename(basename) != basename or\n",
    "        unquote(posixpath.basename(urlpath)) != basename):\n",
    "        raise ValueError  # reject '%2f' or 'dir%5Cbasename.ext' on Windows\n",
    "    return basename\n",
    "\n",
    "@asyncio.coroutine\n",
    "def wget(url, chunk_size=1<<15):\n",
    "    filename = url2filename(url)\n",
    "    logging.info('downloading %s', filename)\n",
    "    with closing(aiohttp.ClientSession()) as session:\n",
    "        response = yield from session.get(url)\n",
    "        with closing(response), open(filename, 'wb') as file:\n",
    "            while True: # save file\n",
    "                chunk = yield from response.content.read(chunk_size)\n",
    "                if not chunk:\n",
    "                    break\n",
    "                file.write(chunk)\n",
    "        logging.info('done %s', filename)\n",
    "    return filename"
   ]
  },
  {
   "cell_type": "code",
   "execution_count": 4,
   "metadata": {},
   "outputs": [],
   "source": [
    "class WavelengthCalibrationSequence:\n",
    "    def __init__(self):\n",
    "        self.sedSpectrometer = salobj.Remote(sedS, f\"sedSpectrometer\")\n",
    "        self.calibrationElectrometer = salobj.Remote(cEl, f\"calibrationElectrometer:1\")\n",
    "        # atMonochromator = salobj.Remote(atM, f\"atMonochromator\")\n",
    "        \n",
    "        self.spectrometer_files = []\n",
    "        self.electrometer_files = []\n",
    "        \n",
    "    async def startUp(self):\n",
    "        start_topic_sed = self.sedSpectrometer.cmd_start.DataType()\n",
    "        start_topic_sed.settingsToApply = 'Default'\n",
    "\n",
    "        start_topic_cel = self.calibrationElectrometer.cmd_start.DataType()\n",
    "        start_topic_cel.settingsToApply = 'Default'\n",
    "\n",
    "        task_start_sed = self.sedSpectrometer.cmd_start.start(start_topic_sed)\n",
    "        task_start_cel = self.calibrationElectrometer.cmd_start.start(start_topic_cel)\n",
    "        \n",
    "        group1 = await asyncio.gather(task_start_cel, task_start_cel)\n",
    "        \n",
    "        for task in group1:\n",
    "            print(task.ack)\n",
    "\n",
    "#         print(task_start_sed)\n",
    "#         print(task_start_cel)\n",
    "        \n",
    "        # TODO: Make sure the state is right\n",
    "        \n",
    "        task_enable_sed = self.sedSpectrometer.cmd_enable.start(self.sedSpectrometer.cmd_enable.DataType())\n",
    "        task_enable_cel = self.calibrationElectrometer.cmd_enable.start(self.calibrationElectrometer.cmd_enable.DataType())\n",
    "\n",
    "        group2 = await asyncio.gather(task_enable_cel, task_enable_sed)\n",
    "        for task in group2:\n",
    "            detailed_state = await seq.calibrationElectrometer.evt_detailedState\n",
    "        \n",
    "#         print(task_enable_sed)\n",
    "#         print(task_enable_cel)\n",
    "        \n",
    "        # TODO: Make sure the state is right\n",
    "\n",
    "    async def takeSequence(self, expt_time = 10.):\n",
    "\n",
    "        ecapture_topic = self.calibrationElectrometer.cmd_startScanDt.DataType()\n",
    "        ecapture_topic.time = expt_time+2\n",
    "\n",
    "        capture_topic = self.sedSpectrometer.cmd_captureSpectImage.DataType()\n",
    "        capture_topic.imageType = 'test'\n",
    "        capture_topic.integrationTime = expt_time\n",
    "        capture_topic.lamp = 'lamp'\n",
    "\n",
    "        async def start_after():\n",
    "            detailed_state = await self.calibrationElectrometer.evt_detailedState.next(flush=True)\n",
    "            logging.info('Received {} from electrometer...'\n",
    "                  ' wait 1sec for acquisition to stabilize...'.format(\n",
    "                detailed_state.detailedState))\n",
    "            await asyncio.sleep(1.)\n",
    "            logging.info('Start aquisition of spectra...')\n",
    "            return await self.sedSpectrometer.cmd_captureSpectImage.start(capture_topic)\n",
    "        task1_capture = self.calibrationElectrometer.cmd_startScanDt.start(ecapture_topic)\n",
    "        task2_capture = start_after()\n",
    "        lfo1 = self.calibrationElectrometer.evt_largeFileObjectAvailable.next(flush=True, \n",
    "                                                                    timeout=expt_time*2)\n",
    "        lfo2 = self.sedSpectrometer.evt_largeFileObjectAvailable.next(flush=True, \n",
    "                                                                    timeout=expt_time*2)\n",
    "\n",
    "        \n",
    "        print('Starting acquisition and waiting for data...')\n",
    "        \n",
    "        group1 = await asyncio.gather(task1_capture, task2_capture, lfo1, lfo2)\n",
    "        \n",
    "        print(group1[0].ack)\n",
    "        print(group1[1].ack)        \n",
    "        print(group1[2].url)\n",
    "        print(group1[3].url)\n",
    "        \n",
    "        self.spectrometer_files.append(group1[2].url)\n",
    "        self.electrometer_files.append(group1[3].url)\n",
    "\n",
    "        wget_electrometer = wget(group1[2].url)\n",
    "        wget_spectrometer = wget(group1[3].url)\n",
    "        \n",
    "        group2 = await asyncio.gather(wget_electrometer,\n",
    "                                      wget_spectrometer)\n",
    "        \n",
    "#         lfo = sedSpectrometer.evt_largeFileObjectAvailable.next(flush=True, timeout=5)\n",
    "#         print(lfo)"
   ]
  },
  {
   "cell_type": "code",
   "execution_count": 5,
   "metadata": {},
   "outputs": [],
   "source": [
    "seq = WavelengthCalibrationSequence()"
   ]
  },
  {
   "cell_type": "code",
   "execution_count": 6,
   "metadata": {},
   "outputs": [],
   "source": [
    "loop = asyncio.get_event_loop()"
   ]
  },
  {
   "cell_type": "code",
   "execution_count": null,
   "metadata": {},
   "outputs": [],
   "source": [
    "loop.run_until_complete(wget(\"http://140.252.32.244:8000/testlamp1538599032.140548.fits\"))"
   ]
  },
  {
   "cell_type": "code",
   "execution_count": 7,
   "metadata": {},
   "outputs": [
    {
     "name": "stderr",
     "output_type": "stream",
     "text": [
      "[10-03 17:39:17] [root        :56  ] [INFO    ]: Received 10 from electrometer... wait 1sec for acquisition to stabilize...\n"
     ]
    },
    {
     "name": "stdout",
     "output_type": "stream",
     "text": [
      "Start\n",
      "Starting acquisition and waiting for data...\n"
     ]
    },
    {
     "name": "stderr",
     "output_type": "stream",
     "text": [
      "[10-03 17:39:18] [root        :58  ] [INFO    ]: Start aquisition of spectra...\n",
      "[10-03 17:39:34] [root        :20  ] [INFO    ]: downloading _1538602774.16683793.fits\n",
      "[10-03 17:39:34] [root        :20  ] [INFO    ]: downloading testlamp1538602758.955070.fits\n",
      "[10-03 17:39:34] [root        :29  ] [INFO    ]: done _1538602774.16683793.fits\n",
      "/home/saluser/stack/python/miniconda3-4.3.21/lib/python3.6/contextlib.py:185: RuntimeWarning: coroutine 'ClientSession.close' was never awaited\n",
      "  self.thing.close()\n",
      "[10-03 17:39:34] [asyncio     :1260] [ERROR   ]: Unclosed client session\n",
      "client_session: <aiohttp.client.ClientSession object at 0x7f86501e8390>\n",
      "[10-03 17:39:34] [root        :29  ] [INFO    ]: done testlamp1538602758.955070.fits\n",
      "[10-03 17:39:34] [asyncio     :1260] [ERROR   ]: Unclosed client session\n",
      "client_session: <aiohttp.client.ClientSession object at 0x7f86501e89e8>\n"
     ]
    },
    {
     "name": "stdout",
     "output_type": "stream",
     "text": [
      "303\n",
      "303\n",
      "http://140.252.33.129:8000/_1538602774.16683793.fits\n",
      "http://140.252.32.244:8000/testlamp1538602758.955070.fits\n",
      "Done\n"
     ]
    }
   ],
   "source": [
    "print('Start')\n",
    "loop.run_until_complete(seq.takeSequence())\n",
    "print('Done')"
   ]
  },
  {
   "cell_type": "code",
   "execution_count": 8,
   "metadata": {},
   "outputs": [
    {
     "name": "stdout",
     "output_type": "stream",
     "text": [
      "testlamp1538602758.955070.fits _1538602774.16683793.fits\n"
     ]
    }
   ],
   "source": [
    "elect_file = url2filename(seq.electrometer_files[0])\n",
    "spect_file = url2filename(seq.spectrometer_files[0])\n",
    "print(elect_file, spect_file)"
   ]
  },
  {
   "cell_type": "code",
   "execution_count": 9,
   "metadata": {},
   "outputs": [],
   "source": [
    "elect_data = fits.getdata(elect_file).T\n",
    "spect_data = fits.getdata(spect_file).T"
   ]
  },
  {
   "cell_type": "code",
   "execution_count": 10,
   "metadata": {},
   "outputs": [
    {
     "data": {
      "text/plain": [
       "[<matplotlib.lines.Line2D at 0x7f86501e8128>]"
      ]
     },
     "execution_count": 10,
     "metadata": {},
     "output_type": "execute_result"
    },
    {
     "data": {
      "image/png": "[encoded data removed]",
      "text/plain": [
       "<matplotlib.figure.Figure at 0x7f8684fd5320>"
      ]
     },
     "metadata": {},
     "output_type": "display_data"
    }
   ],
   "source": [
    "py.plot(elect_data[0],elect_data[1])"
   ]
  },
  {
   "cell_type": "code",
   "execution_count": 11,
   "metadata": {},
   "outputs": [
    {
     "data": {
      "text/plain": [
       "[<matplotlib.lines.Line2D at 0x7f864ce18e48>]"
      ]
     },
     "execution_count": 11,
     "metadata": {},
     "output_type": "execute_result"
    },
    {
     "data": {
      "image/png": "[encoded data removed]",
      "text/plain": [
       "<matplotlib.figure.Figure at 0x7f864ce9d438>"
      ]
     },
     "metadata": {},
     "output_type": "display_data"
    }
   ],
   "source": [
    "py.plot(spect_data[0],spect_data[1])"
   ]
  },
  {
   "cell_type": "code",
   "execution_count": null,
   "metadata": {},
   "outputs": [],
   "source": []
  },
  {
   "cell_type": "code",
   "execution_count": null,
   "metadata": {},
   "outputs": [],
   "source": [
    "print('Start')\n",
    "task = await seq.startUp()\n",
    "print('Done')"
   ]
  },
  {
   "cell_type": "code",
   "execution_count": null,
   "metadata": {},
   "outputs": [],
   "source": [
    "print('Start')\n",
    "task = await seq.takeSequence()\n",
    "print('Done')"
   ]
  },
  {
   "cell_type": "code",
   "execution_count": null,
   "metadata": {},
   "outputs": [],
   "source": [
    "print('Start')\n",
    "task = asyncio.ensure_future(seq.takeSequence())\n",
    "print('Done')"
   ]
  },
  {
   "cell_type": "code",
   "execution_count": null,
   "metadata": {},
   "outputs": [],
   "source": [
    "foo = seq.calibrationElectrometer.evt_detailedState"
   ]
  },
  {
   "cell_type": "code",
   "execution_count": null,
   "metadata": {},
   "outputs": [],
   "source": [
    "foo."
   ]
  },
  {
   "cell_type": "code",
   "execution_count": null,
   "metadata": {},
   "outputs": [],
   "source": [
    "lfo = await seq.sedSpectrometer.evt_detailedState.next(flush=True)\n",
    "print(lfo.detailedState)\n",
    "lfo = await seq.sedSpectrometer.evt_detailedState.next(flush=True)\n",
    "print(lfo.detailedState)"
   ]
  },
  {
   "cell_type": "code",
   "execution_count": null,
   "metadata": {},
   "outputs": [],
   "source": [
    "lfo = await seq.calibrationElectrometer.evt_detailedState.next(flush=True)\n",
    "print(lfo.detailedState)\n",
    "lfo = await seq.calibrationElectrometer.evt_detailedState.next(flush=True)\n",
    "print(lfo.detailedState)"
   ]
  },
  {
   "cell_type": "code",
   "execution_count": null,
   "metadata": {},
   "outputs": [],
   "source": []
  },
  {
   "cell_type": "code",
   "execution_count": null,
   "metadata": {},
   "outputs": [],
   "source": []
  },
  {
   "cell_type": "code",
   "execution_count": null,
   "metadata": {},
   "outputs": [],
   "source": []
  },
  {
   "cell_type": "code",
   "execution_count": null,
   "metadata": {},
   "outputs": [],
   "source": []
  },
  {
   "cell_type": "code",
   "execution_count": null,
   "metadata": {},
   "outputs": [],
   "source": []
  },
  {
   "cell_type": "code",
   "execution_count": null,
   "metadata": {},
   "outputs": [],
   "source": [
    "enable_topic = sedSpectrometer.cmd_enable.DataType()\n",
    "task_enable = asyncio.ensure_future(sedSpectrometer.cmd_enable.start(enable_topic))\n",
    "loop.run_until_complete(task_enable)\n",
    "print(task_enable.result().ack)"
   ]
  },
  {
   "cell_type": "code",
   "execution_count": null,
   "metadata": {},
   "outputs": [],
   "source": [
    "expt_time = 10.\n",
    "\n",
    "ecapture_topic = calibrationElectrometer.cmd_startScanDt.DataType()\n",
    "ecapture_topic.time = expt_time+2\n",
    "\n",
    "capture_topic = sedSpectrometer.cmd_captureSpectImage.DataType()\n",
    "capture_topic.imageType = 'test'\n",
    "capture_topic.integrationTime = 10.\n",
    "capture_topic.lamp = 'lamp'\n",
    "\n",
    "task1_capture = asyncio.ensure_future(calibrationElectrometer.cmd_startScanDt.start(ecapture_topic))\n",
    "task2_capture = asyncio.ensure_future(sedSpectrometer.cmd_captureSpectImage.start(capture_topic))\n",
    "print('here')\n",
    "\n",
    "loop.run_until_complete(asyncio.wait([task1_capture, task2_capture]))\n",
    "\n",
    "print(task1_capture.result().ack)\n",
    "print(task2_capture.result().ack)\n",
    "\n",
    "lfo = sedSpectrometer.evt_largeFileObjectAvailable.next(flush=True, timeout=5)\n",
    "print(lfo)"
   ]
  },
  {
   "cell_type": "code",
   "execution_count": null,
   "metadata": {},
   "outputs": [],
   "source": []
  },
  {
   "cell_type": "code",
   "execution_count": null,
   "metadata": {},
   "outputs": [],
   "source": [
    "task."
   ]
  },
  {
   "cell_type": "code",
   "execution_count": null,
   "metadata": {},
   "outputs": [],
   "source": []
  },
  {
   "cell_type": "code",
   "execution_count": null,
   "metadata": {},
   "outputs": [],
   "source": [
    "sedSpectrometer.cmd_disable.start(sedSpectrometer.cmd_disable.DataType())"
   ]
  },
  {
   "cell_type": "code",
   "execution_count": null,
   "metadata": {},
   "outputs": [],
   "source": [
    "state1 = sedSpectrometer.evt_summaryState.get()\n",
    "print(state1.summaryState)"
   ]
  },
  {
   "cell_type": "code",
   "execution_count": null,
   "metadata": {},
   "outputs": [],
   "source": [
    "enable = sedSpectrometer.cmd_enable.start(sedSpectrometer.cmd_enable.DataType())"
   ]
  },
  {
   "cell_type": "code",
   "execution_count": null,
   "metadata": {},
   "outputs": [],
   "source": [
    "state2 = sedSpectrometer.evt_summaryState.get()\n",
    "print(state2.summaryState)"
   ]
  },
  {
   "cell_type": "code",
   "execution_count": null,
   "metadata": {},
   "outputs": [],
   "source": [
    "calibrationElectrometer.evt_heartbeat.next()"
   ]
  },
  {
   "cell_type": "code",
   "execution_count": null,
   "metadata": {},
   "outputs": [],
   "source": [
    "captureSpect = sedSpectrometer.cmd_captureSpectImage.DataType()"
   ]
  },
  {
   "cell_type": "code",
   "execution_count": null,
   "metadata": {},
   "outputs": [],
   "source": [
    "captureSpect.integrationTime = 10.\n",
    "captureSpect.imageType='test'\n",
    "captureSpect.lamp='lamp'"
   ]
  },
  {
   "cell_type": "code",
   "execution_count": null,
   "metadata": {},
   "outputs": [],
   "source": [
    "captureSI = sedSpectrometer.cmd_captureSpectImage.start(captureSpect)"
   ]
  },
  {
   "cell_type": "code",
   "execution_count": null,
   "metadata": {},
   "outputs": [],
   "source": [
    "def enable(future):\n",
    "    print(future.result().ack)"
   ]
  },
  {
   "cell_type": "code",
   "execution_count": null,
   "metadata": {},
   "outputs": [],
   "source": [
    "start_topic = sedSpectrometer.cmd_start.DataType()\n",
    "start_topic.settingsToApply = 'Default'\n",
    "task_start = asyncio.ensure_future(sedSpectrometer.cmd_start.start(start_topic))        \n",
    "task_start.add_done_callback(enable)\n",
    "print(task_start.result().ack)"
   ]
  },
  {
   "cell_type": "code",
   "execution_count": null,
   "metadata": {},
   "outputs": [],
   "source": []
  },
  {
   "cell_type": "code",
   "execution_count": null,
   "metadata": {},
   "outputs": [],
   "source": [
    "class Test:\n",
    "    def __init__(self):\n",
    "        self.sedSpectrometer = salobj.Remote(sedS, f\"sedSpectrometer\")\n",
    "        \n",
    "    def bring_up(self):\n",
    "        cmd_data_start = sedSpectrometer.cmd_start.DataType()\n",
    "        cmd_data_start.settingsToApply = 'Default'\n",
    "        sedSpectrometer.cmd_start.start(start_topic))        \n",
    "        asyncio.gather(task_start)\n",
    "        print(task_start.result().ack)\n",
    "    "
   ]
  },
  {
   "cell_type": "code",
   "execution_count": null,
   "metadata": {},
   "outputs": [],
   "source": [
    "test = Test()"
   ]
  },
  {
   "cell_type": "code",
   "execution_count": null,
   "metadata": {},
   "outputs": [],
   "source": [
    "test.bring_up()"
   ]
  },
  {
   "cell_type": "code",
   "execution_count": null,
   "metadata": {},
   "outputs": [],
   "source": [
    "loop = asyncio.get_event_loop()"
   ]
  },
  {
   "cell_type": "code",
   "execution_count": null,
   "metadata": {},
   "outputs": [],
   "source": [
    "asyncio.Task.all_tasks()"
   ]
  },
  {
   "cell_type": "code",
   "execution_count": null,
   "metadata": {},
   "outputs": [],
   "source": [
    "loop"
   ]
  },
  {
   "cell_type": "code",
   "execution_count": null,
   "metadata": {},
   "outputs": [],
   "source": []
  }
 ],
 "metadata": {
  "kernelspec": {
   "display_name": "Python 3",
   "language": "python",
   "name": "python3"
  },
  "language_info": {
   "codemirror_mode": {
    "name": "ipython",
    "version": 3
   },
   "file_extension": ".py",
   "mimetype": "text/x-python",
   "name": "python",
   "nbconvert_exporter": "python",
   "pygments_lexer": "ipython3",
   "version": "3.6.2"
  }
 },
 "nbformat": 4,
 "nbformat_minor": 2
}
