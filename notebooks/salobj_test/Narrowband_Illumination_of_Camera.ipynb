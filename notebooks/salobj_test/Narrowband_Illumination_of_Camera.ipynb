{
 "cells": [
  {
   "cell_type": "markdown",
   "metadata": {},
   "source": [
    "### This is a notebook to take narrowband images with the camera (but manually controlling the AT spectrograph instrument externally)"
   ]
  },
  {
   "cell_type": "code",
   "execution_count": 1,
   "metadata": {},
   "outputs": [],
   "source": [
    "# import libraries of CSCs\n",
    "import SALPY_calibrationElectrometer as Electrometer\n",
    "import SALPY_atMonochromator as Monochromator\n",
    "import SALPY_sedSpectrometer as FiberSpectrograph\n",
    "import SALPY_atcamera as ATcamera\n",
    "import SALPY_atArchiver as ATArchiver"
   ]
  },
  {
   "cell_type": "code",
   "execution_count": 2,
   "metadata": {},
   "outputs": [
    {
     "name": "stderr",
     "output_type": "stream",
     "text": [
      "/home/saluser/lsst_repos/salobj/python/salobj/test_utils.py:37: UserWarning: Could not import SALPY_Test; TestComponent will not work\n",
      "  warnings.warn(\"Could not import SALPY_Test; TestComponent will not work\")\n"
     ]
    }
   ],
   "source": [
    "# import dependencies\n",
    "import salobj\n",
    "import nest_asyncio\n",
    "nest_asyncio.apply() # fix the tornado5 asyncio issue with notebooks\n",
    "import asyncio\n",
    "import time\n",
    "import os\n",
    "#import posixpath\n",
    "#import aiohttp # $ pip install aiohttp\n",
    "#from contextlib import closing\n",
    "#from astropy.io import fits\n",
    "#from matplotlib import pyplot as plt\n",
    "\n",
    "# try:\n",
    "#     from urlparse import urlsplit\n",
    "#     from urllib import unquote\n",
    "# except ImportError: # Python 3\n",
    "#     from urllib.parse import urlsplit, unquote\n",
    "    \n",
    "%matplotlib inline"
   ]
  },
  {
   "cell_type": "code",
   "execution_count": 3,
   "metadata": {},
   "outputs": [],
   "source": [
    "import logging\n",
    "logging.getLogger().setLevel(logging.INFO)\n",
    "logging.basicConfig(level=logging.INFO,\n",
    "                format='[%(asctime)s] [%(name)-12s:%(lineno)-4d] [%(levelname)-8s]: %(message)s',\n",
    "                datefmt='%m-%d %H:%M:%S')"
   ]
  },
  {
   "cell_type": "code",
   "execution_count": 56,
   "metadata": {},
   "outputs": [],
   "source": [
    "# Define a class with the script that performs the desired task\n",
    "class NarrowBandAuxTelImages:\n",
    "    \n",
    "    \"\"\"\n",
    "    Initialize the class and define the components we want to interact with\n",
    "    \"\"\"\n",
    "    def __init__(self):\n",
    "        \"\"\"\n",
    "        Setup each CSC to be an object that can be used to send commands\n",
    "        as well as receive events/telemetry\n",
    "        object name follows PEP8, but f-string uses XML name (same\n",
    "        as import statement above)\n",
    "        \"\"\"\n",
    "        logging.info('Inside __init__')\n",
    "        self.fiber_spectrograph = salobj.Remote(FiberSpectrograph, f\"sedSpectrometer\")\n",
    "        self.electrometer = salobj.Remote(Electrometer, f\"calibrationElectrometer:1\")\n",
    "        self.monochromator = salobj.Remote(Monochromator, f\"atMonochromator\")\n",
    "        self.at_camera = salobj.Remote(ATcamera, f\"atcamera\")\n",
    "        self.at_archiver = salobj.Remote(ATArchiver, f\"atArchiver\")\n",
    "        logging.info('End of __init__')\n",
    "        \n",
    "    async def takeSequence(self, wavelength_arr, exp_time_arr,\n",
    "                       grating_arr, n_exps, **kwargs):\n",
    "        \"\"\"\n",
    "        This function defines the sequence of events that need to be performed\n",
    "        \n",
    "        Expected input:\n",
    "        wavelength_arr - single integer or array of wavelengths to loop over (float)\n",
    "        exp_time_arr - single integer or array of exposure times for each wavelength (float)\n",
    "        grating_arr - single integer or array of grating values to be used for each wavelength\n",
    "        n_exps - single integer or array of integers dictating how many files per setup\n",
    "        \n",
    "        Optional inputs:\n",
    "        entry_slit_width: -- not implemented\n",
    "        exit_slit_width: -- not implemented\n",
    "        \n",
    "        \"\"\" \n",
    "        logging.info('Starting sequence')\n",
    "        \n",
    "        # Temporarily hard-code the slit widths\n",
    "        entry_slit_width = 1.0 # [mm]\n",
    "        exit_slit_width = 1.0 # [mm]\n",
    "        # Verify inputs are sensible\n",
    "        # check exposure time is greater than 1 second\n",
    "        if all(i >= 1 for i in exp_time_arr) == False:\n",
    "            raise ValueError('exp_time_arr has values less than 1 second')\n",
    "        \n",
    "        # make n_exps and grating_arr arrays if they're single values\n",
    "        if len(wavelength_arr) > 1:\n",
    "            if len(grating_arr) == 1:\n",
    "                grating_arr = [grating_arr]*len(wavelength_arr)\n",
    "            if len(exp_time_arr) == 1:\n",
    "                exp_time_arr = [exp_time_arr]*len(wavelength_arr)\n",
    "            \n",
    "        # Check that gratings and wavelengths are within ranges\n",
    "        # just hard code the values until we have config files to check against\n",
    "        if all( (i == 1 or i == 2) for i in grating_arr) == False:\n",
    "            raise ValueError('grating_arr has values not equal to 1 or 2')\n",
    "        \n",
    "        if all( (300 < i < 1100) for i in wavelength_arr) == False:\n",
    "            raise ValueError('wavelength_arr has values either less 300 or greater than 1100 nm')\n",
    "        \n",
    "        # start loop over wavelengths\n",
    "        for i, wave in enumerate(wavelength_arr):\n",
    "            logging.info('Wavelength {0:1.0f} loop starting. Wavelength {1:1.0f} of {2:1.0f}'.format(\n",
    "            wave,i,len(wavelength_arr)))\n",
    "            # setup monochromator\n",
    "            monochromator_cmd_obj = self.monochromator.cmd_updateMonochromatorSetup.DataType()\n",
    "            monochromator_cmd_obj.gratingType=grating_arr[i]\n",
    "            monochromator_cmd_obj.wavelength=wave\n",
    "            monochromator_cmd_obj.fontExitSlitWidth=exit_slit_width\n",
    "            monochromator_cmd_obj.fontEntranceSlitWidth=entry_slit_width\n",
    "            # sends command and waits for completion before continuing\n",
    "            logging.info('Setting up Monochromator')\n",
    "            #await self.monochromator.cmd_updateMonochromatorSetup.start(monochromator_cmd_obj)\n",
    "            logging.info('Monochromator in position')\n",
    "            \n",
    "            # start loop over wavelengths\n",
    "            for n in n_exps:\n",
    "                logging.info('Starting wavelength loop {} of {} for wavelength {}'.format(n, n_exps,wave))\n",
    "                # start electrometer exposure \n",
    "                electrometer_cmd_obj = self.electrometer.cmd_startScan.DataType()\n",
    "                # send command but don't wait for completion\n",
    "                #task = loop.create_task(self.electrometer.cmd_startScan.start(electrometer_cmd_obj))\n",
    "                #logging.info('Starting Electrometer Scanning'.format(n, n_exps,wave))\n",
    "                #loop.run_until_complete(task)\n",
    "                \n",
    "                #self.electrometer.evt_detailedState.flush()\n",
    "                tmp = self.electrometer.evt_detailedState.next(flush=True, timeout=10)\n",
    "                self.electrometer.cmd_startScan.start(electrometer_cmd_obj)\n",
    "                logging.info('Grabbing detailed state')\n",
    "                detailed_state = await tmp\n",
    "                # wait for event saying it started (changed state) then wait X seconds\n",
    "                #task2 = self.electrometer.evt_detailedState.next(flush=True, timeout=5)\n",
    "                logging.info('Checking for detailed state, got {}'.format(detailed_state.detailedState))\n",
    "                #detailed_state = loop.run_until_complete(task2)\n",
    "                \n",
    "                #task_group = await asyncio.gather(task1,task2)\n",
    "                \n",
    "                if detailed_state.detailedState != 8:\n",
    "                    raise ValueError('Expected Electrometer detailed state of X but got {}'\n",
    "                                     .format(detailed_state.detailedState))\n",
    "                \n",
    "                #print(detailed_state)\n",
    "                # sleep for 1 second to get ambient light measurement\n",
    "                wait_time=1.0\n",
    "                await asyncio.sleep(wait_time)\n",
    "                \n",
    "                # Now want to start fiber_spectrograph and at_camera to expose at the same time\n",
    "                fiber_spectrograph_cmd_obj = self.fiber_spectrograph.cmd_captureSpectImage.DataType()\n",
    "                fiber_spectrograph_cmd_obj.imageType = 'FLAT_Narrowband'\n",
    "                fiber_spectrograph_cmd_obj.integrationTime = exp_time_arr[i]\n",
    "                fiber_spectrograph_cmd_obj.lamp = 'QH_Kiloarc'\n",
    "                fiber_spectrograph_task = self.fiber_spectrograph.cmd_captureSpectImage.start(fiber_spectrograph_cmd_obj)\n",
    "\n",
    "                # start camera exposure\n",
    "                at_camera_cmd_obj = self.at_camera.cmd_takeImages.DataType()\n",
    "                at_camera_cmd_obj.numImages = 1 # hardcoded since this doesn't work yet\n",
    "                at_camera_cmd_obj.shutter = True # Means we can't take biases\n",
    "                at_camera_cmd_obj.expTime = exp_time_arr[i]\n",
    "                at_camera_cmd_obj.imageSequenceName = 'asdfasdf'\n",
    "                at_camera_cmd_obj.science = True\n",
    "                at_camera_task = self.at_camera.cmd_takeImages.start(at_camera_cmd_obj)\n",
    "                \n",
    "                # wait for completion of both tasks\n",
    "                logging.info('Starting at_camera and fiber_spectrograph exposures')\n",
    "                task_group = await asyncio.gather(fiber_spectrograph_task, at_camera_task)\n",
    "                logging.info('at_camera and fiber_spectrograph exposures complete')\n",
    "                # wait for ambient light measurement then stop the electrometer \n",
    "                await asyncio.sleep(wait_time)\n",
    "            \n",
    "                electrometer_cmd_obj = self.electrometer.cmd_stopScan.DataType()\n",
    "                logging.info('stopping electrometer')\n",
    "                await self.electrometer.cmd_stopScan.start(electrometer_cmd_obj)\n",
    "                logging.info('electrometer stopped')\n",
    "        "
   ]
  },
  {
   "cell_type": "code",
   "execution_count": 57,
   "metadata": {},
   "outputs": [
    {
     "name": "stderr",
     "output_type": "stream",
     "text": [
      "[10-24 17:42:24] [root        :14  ] [INFO    ]: Inside __init__\n",
      "[10-24 17:42:25] [root        :20  ] [INFO    ]: End of __init__\n"
     ]
    }
   ],
   "source": [
    "wavelength_arr=[600]\n",
    "exp_time_arr=[1.0]\n",
    "grating_arr=[1]\n",
    "n_exps=[1.0]\n",
    "\n",
    "seq = NarrowBandAuxTelImages()"
   ]
  },
  {
   "cell_type": "code",
   "execution_count": 58,
   "metadata": {},
   "outputs": [],
   "source": [
    "loop = asyncio.get_event_loop()"
   ]
  },
  {
   "cell_type": "code",
   "execution_count": 60,
   "metadata": {},
   "outputs": [
    {
     "name": "stderr",
     "output_type": "stream",
     "text": [
      "[10-24 17:43:19] [root        :38  ] [INFO    ]: Starting sequence\n",
      "[10-24 17:43:19] [root        :66  ] [INFO    ]: Wavelength 600 loop starting. Wavelength 0 of 1\n",
      "[10-24 17:43:19] [root        :74  ] [INFO    ]: Setting up Monochromator\n",
      "[10-24 17:43:19] [root        :76  ] [INFO    ]: Monochromator in position\n",
      "[10-24 17:43:19] [root        :80  ] [INFO    ]: Starting wavelength loop 1.0 of [1.0] for wavelength 600\n",
      "/home/saluser/stack/python/miniconda3-4.3.21/lib/python3.6/site-packages/ipykernel_launcher.py:90: RuntimeWarning: coroutine 'RemoteCommand._wait_done' was never awaited\n",
      "[10-24 17:43:20] [root        :92  ] [INFO    ]: Grabbing detailed state\n",
      "[10-24 17:43:20] [root        :96  ] [INFO    ]: Checking for detailed state, got 8\n",
      "[10-24 17:43:21] [root        :127 ] [INFO    ]: Starting at_camera and fiber_spectrograph exposures\n",
      "[10-24 17:43:24] [root        :129 ] [INFO    ]: at_camera and fiber_spectrograph exposures complete\n",
      "[10-24 17:43:25] [root        :134 ] [INFO    ]: stopping electrometer\n",
      "[10-24 17:43:25] [root        :136 ] [INFO    ]: electrometer stopped\n"
     ]
    }
   ],
   "source": [
    "#print('Start')\n",
    "loop.run_until_complete(seq.takeSequence(wavelength_arr, \n",
    "                                         exp_time_arr, \n",
    "                                         grating_arr, \n",
    "                                         n_exps))\n",
    "#print('Done')"
   ]
  },
  {
   "cell_type": "code",
   "execution_count": 42,
   "metadata": {},
   "outputs": [
    {
     "data": {
      "text/plain": [
       "8"
      ]
     },
     "execution_count": 42,
     "metadata": {},
     "output_type": "execute_result"
    }
   ],
   "source": [
    "tmp=seq.electrometer.evt_detailedState.get()\n",
    "tmp.detailedState"
   ]
  },
  {
   "cell_type": "code",
   "execution_count": 43,
   "metadata": {},
   "outputs": [
    {
     "ename": "IndentationError",
     "evalue": "unexpected indent (<ipython-input-43-96f820779c94>, line 7)",
     "output_type": "error",
     "traceback": [
      "\u001b[0;36m  File \u001b[0;32m\"<ipython-input-43-96f820779c94>\"\u001b[0;36m, line \u001b[0;32m7\u001b[0m\n\u001b[0;31m    start_topic_fiberSpectrograph = self.fiberSpectrometer.cmd_start.DataType()\u001b[0m\n\u001b[0m    ^\u001b[0m\n\u001b[0;31mIndentationError\u001b[0m\u001b[0;31m:\u001b[0m unexpected indent\n"
     ]
    }
   ],
   "source": [
    "\"\"\"\n",
    "This is used to bring the individual CSCs into the enabled state.\n",
    "This will be handled by the OCS in the future.\n",
    "This assumes CSCs are in the disabled state\n",
    "\"\"\"\n",
    "\n",
    "        start_topic_fiberSpectrograph = self.fiberSpectrometer.cmd_start.DataType()\n",
    "        start_topic_fiberSpectrograph.settingsToApply = 'Default'\n",
    "\n",
    "        start_topic_electrometer = self.electrometer.cmd_start.DataType()\n",
    "        start_topic_electrometer.settingsToApply = 'Default'\n",
    "        \n",
    "        start_topic_electrometer = self.electrometer.cmd_start.DataType()\n",
    "        start_topic_electrometer.settingsToApply = 'Default'\n",
    "\n",
    "        task_start_sed = self.sedSpectrometer.cmd_start.start(start_topic_sed)\n",
    "        task_start_cel = self.calibrationElectrometer.cmd_start.start(start_topic_cel)\n",
    "    \n"
   ]
  },
  {
   "cell_type": "code",
   "execution_count": 6,
   "metadata": {},
   "outputs": [
    {
     "name": "stdout",
     "output_type": "stream",
     "text": [
      "False\n"
     ]
    },
    {
     "ename": "ValueError",
     "evalue": "wavelength_arr must contain only integers or floats",
     "output_type": "error",
     "traceback": [
      "\u001b[0;31m---------------------------------------------------------------------------\u001b[0m",
      "\u001b[0;31mValueError\u001b[0m                                Traceback (most recent call last)",
      "\u001b[0;32m<ipython-input-6-d629380c2db1>\u001b[0m in \u001b[0;36m<module>\u001b[0;34m()\u001b[0m\n\u001b[1;32m     13\u001b[0m \u001b[0;34m\u001b[0m\u001b[0m\n\u001b[1;32m     14\u001b[0m \u001b[0;32mif\u001b[0m \u001b[0;34m~\u001b[0m\u001b[0misinstance\u001b[0m\u001b[0;34m(\u001b[0m\u001b[0mwavelength_arr\u001b[0m\u001b[0;34m,\u001b[0m\u001b[0;34m(\u001b[0m\u001b[0mint\u001b[0m\u001b[0;34m,\u001b[0m\u001b[0mfloat\u001b[0m\u001b[0;34m)\u001b[0m\u001b[0;34m)\u001b[0m\u001b[0;34m:\u001b[0m\u001b[0;34m\u001b[0m\u001b[0m\n\u001b[0;32m---> 15\u001b[0;31m     \u001b[0;32mraise\u001b[0m \u001b[0mValueError\u001b[0m\u001b[0;34m(\u001b[0m\u001b[0;34mf\"wavelength_arr must contain only integers or floats\"\u001b[0m\u001b[0;34m)\u001b[0m\u001b[0;34m\u001b[0m\u001b[0m\n\u001b[0m\u001b[1;32m     16\u001b[0m \u001b[0;32mif\u001b[0m \u001b[0;34m~\u001b[0m\u001b[0misinstance\u001b[0m\u001b[0;34m(\u001b[0m\u001b[0mgrating_arr\u001b[0m\u001b[0;34m,\u001b[0m\u001b[0;34m(\u001b[0m\u001b[0mint\u001b[0m\u001b[0;34m,\u001b[0m\u001b[0mfloat\u001b[0m\u001b[0;34m)\u001b[0m\u001b[0;34m)\u001b[0m\u001b[0;34m:\u001b[0m\u001b[0;34m\u001b[0m\u001b[0m\n\u001b[1;32m     17\u001b[0m     \u001b[0;32mraise\u001b[0m \u001b[0mValueError\u001b[0m\u001b[0;34m(\u001b[0m\u001b[0;34mf\"grating_arr must be only integer values\"\u001b[0m\u001b[0;34m)\u001b[0m\u001b[0;34m\u001b[0m\u001b[0m\n",
      "\u001b[0;31mValueError\u001b[0m: wavelength_arr must contain only integers or floats"
     ]
    }
   ],
   "source": [
    "wavelength_arr=[3.3,3,5,3.2]\n",
    "grating_arr=[1,2,1,1,2]\n",
    "exp_time_arr=[1.2,2.2,1.2,1.3,5]\n",
    "try:\n",
    "    test1 = len(wavelength_arr)\n",
    "    test2 = len(grating_arr)\n",
    "    test3 = len(exp_time_arr)\n",
    "    test = isinstance(wavelength_arr,(float))\n",
    "    print(test)\n",
    "    \n",
    "except NameError as err:\n",
    "    raise NameError(\"ERROR: {} variable is not defined: \".format(err))\n",
    "    \n",
    "if ~isinstance(wavelength_arr,(int,float)):\n",
    "    raise ValueError(f\"wavelength_arr must contain only integers or floats\")\n",
    "if ~isinstance(grating_arr,(int,float)):\n",
    "    raise ValueError(f\"grating_arr must be only integer values\")\n",
    "if ~isinstance(exp_time_arr,(int,float)):\n",
    "    raise ValueError(f\"exp_time_arr must only integers or floats\")"
   ]
  },
  {
   "cell_type": "code",
   "execution_count": 13,
   "metadata": {},
   "outputs": [
    {
     "data": {
      "text/plain": [
       "False"
      ]
     },
     "execution_count": 13,
     "metadata": {},
     "output_type": "execute_result"
    }
   ],
   "source": [
    "wavelength_arr[:] is float"
   ]
  },
  {
   "cell_type": "code",
   "execution_count": 53,
   "metadata": {},
   "outputs": [
    {
     "data": {
      "text/plain": [
       "[1, 1, 1]"
      ]
     },
     "execution_count": 53,
     "metadata": {},
     "output_type": "execute_result"
    }
   ],
   "source": [
    "[1] *3"
   ]
  },
  {
   "cell_type": "code",
   "execution_count": 30,
   "metadata": {},
   "outputs": [],
   "source": [
    "if all(exp_time_arr[i] > 1 for i,val in enumerate(exp_time_arr)) == True:\n",
    "            raise ValueError('exp_time_arr has values less than 1 second')"
   ]
  },
  {
   "cell_type": "code",
   "execution_count": 31,
   "metadata": {},
   "outputs": [
    {
     "name": "stdout",
     "output_type": "stream",
     "text": [
      "0\n"
     ]
    }
   ],
   "source": [
    "exp_time_arr=[1.0]\n",
    "for i in range(len(exp_time_arr)):\n",
    "    print(i)"
   ]
  },
  {
   "cell_type": "code",
   "execution_count": null,
   "metadata": {},
   "outputs": [],
   "source": []
  }
 ],
 "metadata": {
  "kernelspec": {
   "display_name": "Python 3",
   "language": "python",
   "name": "python3"
  },
  "language_info": {
   "codemirror_mode": {
    "name": "ipython",
    "version": 3
   },
   "file_extension": ".py",
   "mimetype": "text/x-python",
   "name": "python",
   "nbconvert_exporter": "python",
   "pygments_lexer": "ipython3",
   "version": "3.6.2"
  }
 },
 "nbformat": 4,
 "nbformat_minor": 2
}
