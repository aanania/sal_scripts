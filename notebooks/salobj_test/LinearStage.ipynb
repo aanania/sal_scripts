{
 "cells": [
  {
   "cell_type": "code",
   "execution_count": 1,
   "metadata": {},
   "outputs": [
    {
     "name": "stderr",
     "output_type": "stream",
     "text": [
      "/home/saluser/lsst_repos/salobj/python/salobj/test_utils.py:37: UserWarning: Could not import SALPY_Test; TestComponent will not work\n",
      "  warnings.warn(\"Could not import SALPY_Test; TestComponent will not work\")\n"
     ]
    }
   ],
   "source": [
    "import salobj\n",
    "import SALPY_LinearStage\n",
    "import asyncio\n",
    "import time"
   ]
  },
  {
   "cell_type": "code",
   "execution_count": 2,
   "metadata": {},
   "outputs": [],
   "source": [
    "import logging\n",
    "logging.getLogger().setLevel(logging.DEBUG)\n",
    "logging.basicConfig(level=logging.DEBUG,\n",
    "                format='[%(asctime)s] [%(name)-12s:%(lineno)-4d] [%(levelname)-8s]: %(message)s',\n",
    "                datefmt='%m-%d %H:%M:%S')"
   ]
  },
  {
   "cell_type": "code",
   "execution_count": null,
   "metadata": {},
   "outputs": [],
   "source": [
    "class LinearStage:\n",
    "    def __init__(self):\n",
    "        self.linear_stage_1 = salobj.Remote(SALPY_LinearStage, f\"LinearStage:1\")\n",
    "#         self.linear_stage_2 = salobj.Remote(SALPY_LinearStage, f\"LinearStage:2\")\n",
    "    \n",
    "    async def startup(self):\n",
    "\n",
    "        logging.debug('Starting up Linear Stage...')\n",
    "        \n",
    "        # Tasks to get the summary state\n",
    "        summary_state_1 = self.linear_stage_1.evt_summaryState.next(flush=True,\n",
    "                                                                    timeout=30.)\n",
    "        \n",
    "        # Enter Control\n",
    "        enterc_topic_1 = self.linear_stage_1.cmd_enterControl.DataType()\n",
    "        task_enterc_1 = self.linear_stage_1.cmd_enterControl.start(enterc_topic_1)\n",
    "        \n",
    "        logging.debug('Entering control linear stages...')\n",
    "        group_enterc = await asyncio.gather(summary_state_1, \n",
    "                                            task_enterc_1)\n",
    "        logging.debug('Linear stages in standby')\n",
    "        logging.debug('Linear stage 1 ack: %i' , group_enterc[1].ack)\n",
    "        logging.debug('Linear stage 1 summaryState: %i', group_enterc[0].summaryState)\n",
    "\n",
    "        # Starting\n",
    "        summary_state_1 = self.linear_stage_1.evt_summaryState.next(flush=False,\n",
    "                                                                    timeout=30.)\n",
    "\n",
    "        start_topic_1 = self.linear_stage_1.cmd_start.DataType()\n",
    "        task_start_1 = self.linear_stage_1.cmd_start.start(start_topic_1)\n",
    "        \n",
    "        logging.debug('Starting linear stages...')\n",
    "        group_start = await asyncio.gather(summary_state_1, \n",
    "                                           task_start_1)\n",
    "\n",
    "        logging.debug('Linear stages started')        \n",
    "        logging.debug('Linear stage 1 ack: %i' , group_start[1].ack)\n",
    "        logging.debug('Linear stage 1 summaryState: %i', group_start[0].summaryState)\n",
    "\n",
    "        # Enabling\n",
    "        summary_state_1 = self.linear_stage_1.evt_summaryState.next(flush=False,\n",
    "                                                                    timeout=30.)\n",
    "        position = self.linear_stage_1.tel_position.next(flush=False,\n",
    "                                                         timeout=30.)\n",
    "        enable_topic_1 = self.linear_stage_1.cmd_enable.DataType()\n",
    "        task_enable_1 = self.linear_stage_1.cmd_enable.start(enable_topic_1)\n",
    "        \n",
    "        logging.debug('Enabling linear stages...')\n",
    "        group_enable = await asyncio.gather(summary_state_1,\n",
    "                                            task_enable_1, \n",
    "                                            position)\n",
    "        logging.debug('Linear stages enabled')        \n",
    "        logging.debug('Linear stage 1 ack: %i' , group_start[1].ack)\n",
    "        logging.debug('Linear stage 1 summaryState: %i', group_start[0].summaryState)\n",
    "        logging.debug('Linear stage 1 Position: %.3f', group_start[2].position)\n",
    "        "
   ]
  },
  {
   "cell_type": "code",
   "execution_count": 4,
   "metadata": {},
   "outputs": [],
   "source": [
    "loop = asyncio.new_event_loop()"
   ]
  },
  {
   "cell_type": "code",
   "execution_count": 4,
   "metadata": {},
   "outputs": [],
   "source": [
    "seq = LinearStage()"
   ]
  },
  {
   "cell_type": "code",
   "execution_count": 5,
   "metadata": {},
   "outputs": [
    {
     "name": "stdout",
     "output_type": "stream",
     "text": [
      "Start\n",
      "Done\n"
     ]
    },
    {
     "name": "stderr",
     "output_type": "stream",
     "text": [
      "[10-02 14:46:33] [root        :8   ] [DEBUG   ]: Starting up Linear Stage...\n",
      "[10-02 14:46:33] [root        :18  ] [DEBUG   ]: Entering control linear stages...\n",
      "[10-02 14:47:00] [root        :21  ] [DEBUG   ]: Linear stages in standby\n",
      "[10-02 14:47:00] [root        :22  ] [DEBUG   ]: Linear stage 1 ack: 303\n",
      "[10-02 14:47:00] [root        :23  ] [DEBUG   ]: Linear stage 1 summaryState: 2\n",
      "[10-02 14:47:00] [root        :32  ] [DEBUG   ]: Starting linear stages...\n",
      "[10-02 14:47:01] [root        :36  ] [DEBUG   ]: Linear stages started\n",
      "[10-02 14:47:01] [root        :37  ] [DEBUG   ]: Linear stage 1 ack: 303\n",
      "[10-02 14:47:01] [root        :38  ] [DEBUG   ]: Linear stage 1 summaryState: 4\n",
      "[10-02 14:47:01] [root        :46  ] [DEBUG   ]: Enabling linear stages...\n",
      "[10-02 14:47:01] [root        :49  ] [DEBUG   ]: Linear stages enabled\n",
      "[10-02 14:47:01] [root        :50  ] [DEBUG   ]: Linear stage 1 ack: 303\n",
      "[10-02 14:47:01] [root        :51  ] [DEBUG   ]: Linear stage 1 summaryState: 2\n",
      "[10-02 14:47:01] [root        :59  ] [DEBUG   ]: Homming linear stage...\n"
     ]
    }
   ],
   "source": [
    "print('Start')\n",
    "task = asyncio.ensure_future(seq.startup())\n",
    "print('Done')"
   ]
  },
  {
   "cell_type": "code",
   "execution_count": 6,
   "metadata": {},
   "outputs": [
    {
     "data": {
      "text/plain": [
       "<Task finished coro=<LinearStage.startup() done, defined at <ipython-input-3-c7c853e7f2ee>:6> exception=AttributeError(\"'SALPY_LinearStage.LinearStage_logevent_getPosition' object has no attribute 'position'\",)>"
      ]
     },
     "execution_count": 6,
     "metadata": {},
     "output_type": "execute_result"
    }
   ],
   "source": [
    "task"
   ]
  },
  {
   "cell_type": "code",
   "execution_count": 7,
   "metadata": {},
   "outputs": [],
   "source": [
    "position = asyncio.ensure_future(seq.linear_stage_1.tel_position.next())"
   ]
  },
  {
   "cell_type": "code",
   "execution_count": 8,
   "metadata": {},
   "outputs": [],
   "source": [
    "p = asyncio.ensure_future(seq.linear_stage_1.evt_getPosition.next(flush=False))"
   ]
  },
  {
   "cell_type": "code",
   "execution_count": 9,
   "metadata": {},
   "outputs": [
    {
     "data": {
      "text/plain": [
       "<Task pending coro=<RemoteTelemetry._wait_next() running at /home/saluser/lsst_repos/salobj/python/salobj/remote_telemetry.py:219> wait_for=<Future pending cb=[<TaskWakeupMethWrapper object at 0x7f64ad66e738>()]>>"
      ]
     },
     "execution_count": 9,
     "metadata": {},
     "output_type": "execute_result"
    }
   ],
   "source": [
    "p"
   ]
  },
  {
   "cell_type": "code",
   "execution_count": 10,
   "metadata": {},
   "outputs": [],
   "source": [
    "topic = seq.linear_stage_1.cmd_getHome.DataType()\n",
    "home = asyncio.ensure_future(seq.linear_stage_1.cmd_getHome.start(topic))"
   ]
  },
  {
   "cell_type": "code",
   "execution_count": null,
   "metadata": {},
   "outputs": [],
   "source": [
    "home.result().ack"
   ]
  },
  {
   "cell_type": "code",
   "execution_count": 12,
   "metadata": {},
   "outputs": [
    {
     "data": {
      "text/plain": [
       "<SALPY_LinearStage.LinearStage_positionC at 0x7f649410fd88>"
      ]
     },
     "execution_count": 12,
     "metadata": {},
     "output_type": "execute_result"
    }
   ],
   "source": [
    "position.result()"
   ]
  },
  {
   "cell_type": "code",
   "execution_count": null,
   "metadata": {},
   "outputs": [],
   "source": [
    "a.priority"
   ]
  },
  {
   "cell_type": "code",
   "execution_count": null,
   "metadata": {},
   "outputs": [],
   "source": [
    "topic = seq.linear_stage_1.cmd_moveRelative.DataType()\n",
    "topic.distance = 30\n",
    "move_task = asyncio.ensure_future(seq.linear_stage_1.cmd_moveRelative.start(topic))"
   ]
  },
  {
   "cell_type": "code",
   "execution_count": null,
   "metadata": {},
   "outputs": [],
   "source": [
    "move_task"
   ]
  },
  {
   "cell_type": "code",
   "execution_count": null,
   "metadata": {},
   "outputs": [],
   "source": [
    "position = asyncio.ensure_future(seq.linear_stage_1.tel_position.next())"
   ]
  },
  {
   "cell_type": "code",
   "execution_count": null,
   "metadata": {},
   "outputs": [],
   "source": [
    "position.result().position"
   ]
  },
  {
   "cell_type": "code",
   "execution_count": null,
   "metadata": {},
   "outputs": [],
   "source": []
  }
 ],
 "metadata": {
  "kernelspec": {
   "display_name": "Python 3",
   "language": "python",
   "name": "python3"
  },
  "language_info": {
   "codemirror_mode": {
    "name": "ipython",
    "version": 3
   },
   "file_extension": ".py",
   "mimetype": "text/x-python",
   "name": "python",
   "nbconvert_exporter": "python",
   "pygments_lexer": "ipython3",
   "version": "3.6.2"
  }
 },
 "nbformat": 4,
 "nbformat_minor": 2
}
