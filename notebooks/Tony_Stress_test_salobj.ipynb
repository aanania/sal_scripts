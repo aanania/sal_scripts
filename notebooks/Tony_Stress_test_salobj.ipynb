{
 "cells": [
  {
   "cell_type": "code",
   "execution_count": 1,
   "metadata": {},
   "outputs": [
    {
     "name": "stderr",
     "output_type": "stream",
     "text": [
      "/home/saluser/lsst_repos/salobj/python/salobj/test_utils.py:37: UserWarning: Could not import SALPY_Test; TestComponent will not work\n",
      "  warnings.warn(\"Could not import SALPY_Test; TestComponent will not work\")\n"
     ]
    }
   ],
   "source": [
    "import os\n",
    "import salobj\n",
    "import SALPY_atcamera\n",
    "import time\n",
    "import numpy as np\n",
    "import datetime\n",
    "import nest_asyncio\n",
    "nest_asyncio.apply()\n",
    "import asyncio"
   ]
  },
  {
   "cell_type": "code",
   "execution_count": 2,
   "metadata": {},
   "outputs": [],
   "source": [
    "import logging\n",
    "logging.getLogger().setLevel(logging.INFO)\n",
    "logging.basicConfig(level=logging.INFO,\n",
    "                format='[%(asctime)s] [%(name)-12s:%(lineno)-4d] [%(levelname)-8s]: %(message)s',\n",
    "                datefmt='%m-%d %H:%M:%S')"
   ]
  },
  {
   "cell_type": "code",
   "execution_count": 3,
   "metadata": {},
   "outputs": [],
   "source": [
    "def getFileName():\n",
    "    tmp_file='/tmp/atcamera_filename_current.dat'\n",
    "    # This function assumes the file created in tmp_file\n",
    "    # was written by this function. No error handling exists should the file be\n",
    "    # modified or created via another method.\n",
    "\n",
    "    def timeStamped(fname_suffix, fmt='AT-O-%Y%m%d-{fname:05}'):\n",
    "        return (datetime.datetime.now().strftime(fmt).format(fname=fname_suffix))\n",
    "\n",
    "    # today's format\n",
    "    number=0 # assume zero for the moment\n",
    "    file_date = timeStamped(number).split('-')[2]\n",
    "\n",
    "    # Check to see if a file exists with a past filename\n",
    "    if os.path.exists(tmp_file):\n",
    "        # read in the file\n",
    "        fh = open(tmp_file, 'r')\n",
    "        first_line = (fh.readline())\n",
    "        logging.info('Previous line in existing file {}'.format(first_line))\n",
    "\n",
    "        # check to see if the date is the same\n",
    "        logging.debug('file_date is: {}'.format(file_date))\n",
    "        logging.debug('first_line is: {}'.format(first_line))\n",
    "        if file_date in first_line:\n",
    "            # grab file number and augment it\n",
    "            old_num = first_line.split(',')[1]\n",
    "            logging.debug('Previous Image number was: {}'.format(old_num))\n",
    "            number = 1+int(old_num)\n",
    "            logging.info('Incrementing from file to: {}'.format(number))\n",
    "            fh.close()\n",
    "\n",
    "        # Delete the file\n",
    "        os.remove(tmp_file)\n",
    "\n",
    "    # write a file with the new data\n",
    "    fh = open(tmp_file, 'w')\n",
    "    lines_of_text = [str(file_date)+','+str(number)]\n",
    "    fh.writelines(lines_of_text)\n",
    "    fh.close()\n",
    "\n",
    "    fname = timeStamped(number)\n",
    "    print('Newly generated filename: {}'.format(fname))\n",
    "    return(fname)\n"
   ]
  },
  {
   "cell_type": "code",
   "execution_count": 8,
   "metadata": {},
   "outputs": [],
   "source": [
    "class TakeImageStressTest:\n",
    "    def __init__(self):\n",
    "        self.atcamera = salobj.Remote(SALPY_atcamera, f'atcamera')\n",
    "        \n",
    "    async def takeImageLoop(self, nimages):\n",
    "\n",
    "        for i in range(nimages):\n",
    "            exposure = 1.+np.random.random()*5.\n",
    "            atcamera_fname = getFileName()\n",
    "            take_image_topic = self.atcamera.cmd_takeImages.DataType()\n",
    "            take_image_topic.numImages = 1\n",
    "            take_image_topic.expTime = exposure\n",
    "            take_image_topic.shutter = False\n",
    "            take_image_topic.imageSequenceName = str(atcamera_fname)\n",
    "            take_image_topic.science = False\n",
    "\n",
    "            end_readout = self.atcamera.evt_endReadout.next(flush=True, \n",
    "                                                            timeout=exposure+30.)\n",
    "            take_image_task = self.atcamera.cmd_takeImages.start(take_image_topic)\n",
    "\n",
    "            image = await asyncio.gather(end_readout, take_image_task)\n",
    "\n",
    "            logging.info('[%04i/04%i] %s (%+03i, %04i, %s)', \n",
    "                         i+1, nimages,\n",
    "                         image[0].imageName,\n",
    "                         image[1].ack,\n",
    "                         image[1].error,\n",
    "                         image[1].result)\n",
    "\n"
   ]
  },
  {
   "cell_type": "code",
   "execution_count": 9,
   "metadata": {},
   "outputs": [],
   "source": [
    "seq = TakeImageStressTest()"
   ]
  },
  {
   "cell_type": "code",
   "execution_count": 6,
   "metadata": {},
   "outputs": [],
   "source": [
    "loop = asyncio.get_event_loop()"
   ]
  },
  {
   "cell_type": "code",
   "execution_count": 11,
   "metadata": {},
   "outputs": [
    {
     "name": "stderr",
     "output_type": "stream",
     "text": [
      "[10-02 18:27:46] [root        :19  ] [INFO    ]: Previous line in existing file 20181002,50\n",
      "[10-02 18:27:46] [root        :29  ] [INFO    ]: Incrementing from file to: 51\n"
     ]
    },
    {
     "name": "stdout",
     "output_type": "stream",
     "text": [
      "Start\n",
      "Newly generated filename: AT-O-20181002-00051\n"
     ]
    },
    {
     "name": "stderr",
     "output_type": "stream",
     "text": [
      "[10-02 18:27:57] [root        :28  ] [INFO    ]: [0001/041] AT-O-20181002-00051 (+303, 0000, Done : OK)\n"
     ]
    },
    {
     "name": "stdout",
     "output_type": "stream",
     "text": [
      "Done\n"
     ]
    }
   ],
   "source": [
    "print('Start')\n",
    "loop.run_until_complete(seq.takeImageLoop(1))\n",
    "print('Done')"
   ]
  },
  {
   "cell_type": "code",
   "execution_count": null,
   "metadata": {},
   "outputs": [],
   "source": []
  }
 ],
 "metadata": {
  "kernelspec": {
   "display_name": "Python 3",
   "language": "python",
   "name": "python3"
  },
  "language_info": {
   "codemirror_mode": {
    "name": "ipython",
    "version": 3
   },
   "file_extension": ".py",
   "mimetype": "text/x-python",
   "name": "python",
   "nbconvert_exporter": "python",
   "pygments_lexer": "ipython3",
   "version": "3.6.2"
  }
 },
 "nbformat": 4,
 "nbformat_minor": 2
}
