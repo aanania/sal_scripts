{
 "cells": [
  {
   "cell_type": "code",
   "execution_count": 1,
   "metadata": {},
   "outputs": [
    {
     "name": "stdout",
     "output_type": "stream",
     "text": [
      "auxtelpath\n",
      "auxtelpath\n"
     ]
    }
   ],
   "source": [
    "import os\n",
    "print(os.environ['LSST_DDS_DOMAIN'])\n",
    "os.environ['LSST_DDS_DOMAIN'] = 'auxtelpath'\n",
    "print(os.environ['LSST_DDS_DOMAIN'])"
   ]
  },
  {
   "cell_type": "code",
   "execution_count": 2,
   "metadata": {},
   "outputs": [],
   "source": [
    "from salpytools import salpylib "
   ]
  },
  {
   "cell_type": "code",
   "execution_count": 3,
   "metadata": {},
   "outputs": [
    {
     "name": "stderr",
     "output_type": "stream",
     "text": [
      "[2018-06-28 20:26:12] [INFO] importing SALPY_calibrationElectrometer\n",
      "[2018-06-28 20:26:13] [INFO] Event subscriber ready for Device:calibrationElectrometer topic:SummaryState\n",
      "[2018-06-28 20:26:13] [INFO] SALPY_calibrationElectrometer is already in globals\n",
      "[2018-06-28 20:26:13] [INFO] Event subscriber ready for Device:calibrationElectrometer topic:Heartbeat\n",
      "[2018-06-28 20:26:13] [INFO] SALPY_calibrationElectrometer is already in globals\n",
      "[2018-06-28 20:26:13] [INFO] Telemetry subscriber ready for Device:calibrationElectrometer topic:LoopTime_ms\n"
     ]
    }
   ],
   "source": [
    "listener = salpylib.DDSSubcriber(Device = \"calibrationElectrometer\", \n",
    "                                 topic='SummaryState',\n",
    "                                 Stype='Event')\n",
    "heartbeat = salpylib.DDSSubcriber(Device = \"calibrationElectrometer\", \n",
    "                                 topic='Heartbeat',\n",
    "                                 Stype='Event')\n",
    "looptime = salpylib.DDSSubcriber(Device = \"calibrationElectrometer\", \n",
    "                                 topic='LoopTime_ms',\n",
    "                                 Stype='Telemetry')\n",
    "\n"
   ]
  },
  {
   "cell_type": "code",
   "execution_count": 4,
   "metadata": {},
   "outputs": [],
   "source": [
    "listener.start()\n",
    "heartbeat.start()\n",
    "looptime.start()"
   ]
  },
  {
   "cell_type": "code",
   "execution_count": 10,
   "metadata": {},
   "outputs": [
    {
     "name": "stderr",
     "output_type": "stream",
     "text": [
      "[2018-06-28 20:29:35] [INFO] WARNING: No value received for: 'SummaryState' yet, sending empty object anyway\n",
      "[2018-06-28 20:29:35] [INFO] WARNING: No value received for: 'Heartbeat' yet, sending empty object anyway\n",
      "[2018-06-28 20:29:35] [INFO] WARNING: No value received for: 'LoopTime_ms' yet, sending empty object anyway\n"
     ]
    },
    {
     "data": {
      "text/plain": [
       "0.0"
      ]
     },
     "execution_count": 10,
     "metadata": {},
     "output_type": "execute_result"
    }
   ],
   "source": [
    "listener.getCurrent()\n",
    "heartbeat.getCurrent()\n",
    "looptime.getCurrent().loopTime_ms"
   ]
  },
  {
   "cell_type": "code",
   "execution_count": 7,
   "metadata": {},
   "outputs": [
    {
     "name": "stderr",
     "output_type": "stream",
     "text": [
      "[2018-06-28 17:59:27] [INFO] Loading Device: calibrationElectrometer\n",
      "[2018-06-28 17:59:27] [INFO] SALPY_calibrationElectrometer is already in globals\n"
     ]
    }
   ],
   "source": [
    "sender = salpylib.DDSSend(\"calibrationElectrometer\")"
   ]
  },
  {
   "cell_type": "code",
   "execution_count": 8,
   "metadata": {},
   "outputs": [
    {
     "name": "stderr",
     "output_type": "stream",
     "text": [
      "[2018-06-28 17:59:30] [INFO] Updating myData object with kwargs\n",
      "[2018-06-28 17:59:30] [INFO] Issuing command: standby\n",
      "[2018-06-28 17:59:30] [INFO] Will NOT wait Command Completion\n"
     ]
    }
   ],
   "source": [
    "cmd_id = sender.send_Command('standby')"
   ]
  },
  {
   "cell_type": "code",
   "execution_count": 8,
   "metadata": {},
   "outputs": [
    {
     "data": {
      "text/plain": [
       "596516649"
      ]
     },
     "execution_count": 8,
     "metadata": {},
     "output_type": "execute_result"
    }
   ],
   "source": [
    "cmd_id"
   ]
  },
  {
   "cell_type": "code",
   "execution_count": 9,
   "metadata": {},
   "outputs": [
    {
     "name": "stderr",
     "output_type": "stream",
     "text": [
      "[2018-06-28 17:34:31] [INFO] Wait 5 sec for Completion: standby\n",
      "[2018-06-28 17:34:37] [INFO] Done: standby\n"
     ]
    },
    {
     "data": {
      "text/plain": [
       "-301"
      ]
     },
     "execution_count": 9,
     "metadata": {},
     "output_type": "execute_result"
    }
   ],
   "source": [
    "sender.waitForCompletion_Command()"
   ]
  },
  {
   "cell_type": "code",
   "execution_count": null,
   "metadata": {},
   "outputs": [],
   "source": []
  }
 ],
 "metadata": {
  "kernelspec": {
   "display_name": "Python 3",
   "language": "python",
   "name": "python3"
  },
  "language_info": {
   "codemirror_mode": {
    "name": "ipython",
    "version": 3
   },
   "file_extension": ".py",
   "mimetype": "text/x-python",
   "name": "python",
   "nbconvert_exporter": "python",
   "pygments_lexer": "ipython3",
   "version": "3.6.2"
  }
 },
 "nbformat": 4,
 "nbformat_minor": 2
}
