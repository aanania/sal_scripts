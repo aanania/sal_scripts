{
 "cells": [
  {
   "cell_type": "code",
   "execution_count": 1,
   "metadata": {},
   "outputs": [],
   "source": [
    "import os\n",
    "import time\n",
    "os.environ['LSST_DDS_DOMAIN'] = 'auxtelpath'\n",
    "from salpytools import salpylib \n",
    "import logging\n",
    "logging.basicConfig(level=logging.DEBUG,\n",
    "                    format='[%(asctime)s] [%(levelname)s] [%(threadName)s]: %(message)s',\n",
    "                    datefmt='%Y-%m-%d %H:%M:%S')\n"
   ]
  },
  {
   "cell_type": "code",
   "execution_count": 2,
   "metadata": {},
   "outputs": [
    {
     "name": "stderr",
     "output_type": "stream",
     "text": [
      "[2018-07-20 17:27:44] [DEBUG] [MainThread]: Loading Device: sedSpectrometer\n",
      "[2018-07-20 17:27:44] [DEBUG] [MainThread]: Loading all topics from sedSpectrometer\n",
      "[2018-07-20 17:27:44] [DEBUG] [MainThread]: Adding AppliedSettingsMatchStart...\n",
      "[2018-07-20 17:27:50] [DEBUG] [MainThread]: Event subscriber ready for Device:sedSpectrometer topic:AppliedSettingsMatchStart\n",
      "[2018-07-20 17:27:50] [DEBUG] [MainThread]: Adding DetailedState...\n",
      "[2018-07-20 17:27:55] [DEBUG] [MainThread]: Event subscriber ready for Device:sedSpectrometer topic:DetailedState\n",
      "[2018-07-20 17:27:55] [DEBUG] [MainThread]: Adding ErrorCode...\n",
      "[2018-07-20 17:28:00] [DEBUG] [MainThread]: Event subscriber ready for Device:sedSpectrometer topic:ErrorCode\n",
      "[2018-07-20 17:28:00] [DEBUG] [MainThread]: Adding Heartbeat...\n",
      "[2018-07-20 17:28:05] [DEBUG] [MainThread]: Event subscriber ready for Device:sedSpectrometer topic:Heartbeat\n",
      "[2018-07-20 17:28:05] [DEBUG] [MainThread]: Adding InternalCommand...\n",
      "[2018-07-20 17:28:10] [DEBUG] [MainThread]: Event subscriber ready for Device:sedSpectrometer topic:InternalCommand\n",
      "[2018-07-20 17:28:10] [DEBUG] [MainThread]: Adding LargeFileObjectAvailable...\n",
      "[2018-07-20 17:28:10] [DEBUG] [MainThread]: Event subscriber ready for Device:sedSpectrometer topic:LargeFileObjectAvailable\n",
      "[2018-07-20 17:28:10] [DEBUG] [MainThread]: Adding LoopTimeOutOfRange...\n",
      "[2018-07-20 17:28:10] [DEBUG] [MainThread]: Event subscriber ready for Device:sedSpectrometer topic:LoopTimeOutOfRange\n",
      "[2018-07-20 17:28:10] [DEBUG] [MainThread]: Adding MeasuredSpectrum...\n",
      "[2018-07-20 17:28:10] [DEBUG] [MainThread]: Event subscriber ready for Device:sedSpectrometer topic:MeasuredSpectrum\n",
      "[2018-07-20 17:28:10] [DEBUG] [MainThread]: Adding RejectedCommand...\n",
      "[2018-07-20 17:28:15] [DEBUG] [MainThread]: Event subscriber ready for Device:sedSpectrometer topic:RejectedCommand\n",
      "[2018-07-20 17:28:15] [DEBUG] [MainThread]: Adding SettingVersions...\n",
      "[2018-07-20 17:28:20] [DEBUG] [MainThread]: Event subscriber ready for Device:sedSpectrometer topic:SettingVersions\n",
      "[2018-07-20 17:28:20] [DEBUG] [MainThread]: Adding SummaryState...\n",
      "[2018-07-20 17:28:25] [DEBUG] [MainThread]: Event subscriber ready for Device:sedSpectrometer topic:SummaryState\n",
      "[2018-07-20 17:28:25] [DEBUG] [MainThread]: Adding Timeout...\n",
      "[2018-07-20 17:28:30] [DEBUG] [MainThread]: Event subscriber ready for Device:sedSpectrometer topic:Timeout\n"
     ]
    }
   ],
   "source": [
    "sedSpectrometer = salpylib.DDSSubscriberContainer('sedSpectrometer')"
   ]
  },
  {
   "cell_type": "code",
   "execution_count": 3,
   "metadata": {},
   "outputs": [
    {
     "name": "stdout",
     "output_type": "stream",
     "text": [
      "1\n",
      "1\n"
     ]
    }
   ],
   "source": [
    "print(sedSpectrometer.DetailedState.detailedState)\n",
    "print(sedSpectrometer.SummaryState.summaryState)"
   ]
  },
  {
   "cell_type": "code",
   "execution_count": 4,
   "metadata": {},
   "outputs": [
    {
     "name": "stderr",
     "output_type": "stream",
     "text": [
      "[2018-07-20 17:30:26] [DEBUG] [MainThread]: Loading Device: sedSpectrometer\n"
     ]
    }
   ],
   "source": [
    "sender = salpylib.DDSSend(\"sedSpectrometer\")"
   ]
  },
  {
   "cell_type": "code",
   "execution_count": 5,
   "metadata": {},
   "outputs": [
    {
     "name": "stderr",
     "output_type": "stream",
     "text": [
      "[2018-07-20 17:30:33] [DEBUG] [MainThread]: Updating myData object with kwargs\n",
      "[2018-07-20 17:30:33] [DEBUG] [MainThread]: settingsToApply = Default\n",
      "[2018-07-20 17:30:33] [DEBUG] [MainThread]: Issuing command: start\n"
     ]
    },
    {
     "name": "stdout",
     "output_type": "stream",
     "text": [
      "(596516649, -301)\n"
     ]
    }
   ],
   "source": [
    "cmd_id = sender.send_Command('start', settingsToApply='Default', wait_command=True)\n",
    "print(cmd_id)"
   ]
  },
  {
   "cell_type": "code",
   "execution_count": 6,
   "metadata": {},
   "outputs": [
    {
     "name": "stderr",
     "output_type": "stream",
     "text": [
      "[2018-07-20 17:31:56] [DEBUG] [MainThread]: Updating myData object with kwargs\n",
      "[2018-07-20 17:31:56] [DEBUG] [MainThread]: Issuing command: enable\n"
     ]
    },
    {
     "name": "stdout",
     "output_type": "stream",
     "text": [
      "(1189641421, -301)\n"
     ]
    }
   ],
   "source": [
    "cmd_id = sender.send_Command('enable', wait_command=True)\n",
    "print(cmd_id)"
   ]
  },
  {
   "cell_type": "code",
   "execution_count": 15,
   "metadata": {},
   "outputs": [
    {
     "name": "stderr",
     "output_type": "stream",
     "text": [
      "[2018-07-20 17:24:06] [DEBUG] [MainThread]: Updating myData object with kwargs\n",
      "[2018-07-20 17:24:06] [DEBUG] [MainThread]: imageType = test\n",
      "[2018-07-20 17:24:06] [DEBUG] [MainThread]: integrationTime = 1\n",
      "[2018-07-20 17:24:06] [DEBUG] [MainThread]: lamp = lamp\n",
      "[2018-07-20 17:24:06] [DEBUG] [MainThread]: Issuing command: captureSpectImage\n"
     ]
    },
    {
     "name": "stdout",
     "output_type": "stream",
     "text": [
      "(596516652, -301)\n"
     ]
    }
   ],
   "source": [
    "cmd_id = sender.send_Command('captureSpectImage', imageType='test', \n",
    "                                             integrationTime=1, lamp='lamp',wait_command=True)\n",
    "print(cmd_id)"
   ]
  },
  {
   "cell_type": "code",
   "execution_count": 13,
   "metadata": {},
   "outputs": [
    {
     "name": "stdout",
     "output_type": "stream",
     "text": [
      "(596516651, -301)\n"
     ]
    }
   ],
   "source": [
    "print(cmd_id)"
   ]
  },
  {
   "cell_type": "code",
   "execution_count": 14,
   "metadata": {},
   "outputs": [
    {
     "name": "stdout",
     "output_type": "stream",
     "text": [
      "\n"
     ]
    }
   ],
   "source": [
    "print(sedSpectrometer.LargeFileObjectAvailable.URL)"
   ]
  },
  {
   "cell_type": "code",
   "execution_count": 17,
   "metadata": {},
   "outputs": [
    {
     "name": "stderr",
     "output_type": "stream",
     "text": [
      "[2018-07-20 17:25:07] [DEBUG] [MainThread]: Updating myData object with kwargs\n",
      "[2018-07-20 17:25:07] [DEBUG] [MainThread]: Issuing command: disable\n"
     ]
    },
    {
     "name": "stdout",
     "output_type": "stream",
     "text": [
      "(1189641422, -301)\n"
     ]
    }
   ],
   "source": [
    "cmd_id = sender.send_Command('disable', wait_command=True)\n",
    "print(cmd_id)"
   ]
  },
  {
   "cell_type": "code",
   "execution_count": null,
   "metadata": {},
   "outputs": [],
   "source": []
  }
 ],
 "metadata": {
  "kernelspec": {
   "display_name": "Python 3",
   "language": "python",
   "name": "python3"
  },
  "language_info": {
   "codemirror_mode": {
    "name": "ipython",
    "version": 3
   },
   "file_extension": ".py",
   "mimetype": "text/x-python",
   "name": "python",
   "nbconvert_exporter": "python",
   "pygments_lexer": "ipython3",
   "version": "3.6.2"
  }
 },
 "nbformat": 4,
 "nbformat_minor": 2
}
