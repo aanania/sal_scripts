{
 "cells": [
  {
   "cell_type": "code",
   "execution_count": 6,
   "metadata": {},
   "outputs": [],
   "source": [
    "import os\n",
    "import time\n",
    "os.environ['LSST_DDS_DOMAIN'] = 'auxtelpath'\n",
    "from salpytools import salpylib \n",
    "import logging\n",
    "logging.basicConfig(level=logging.DEBUG,\n",
    "                    format='[%(asctime)s] [%(levelname)s] [%(threadName)s]: %(message)s',\n",
    "                    datefmt='%Y-%m-%d %H:%M:%S')\n"
   ]
  },
  {
   "cell_type": "code",
   "execution_count": 7,
   "metadata": {},
   "outputs": [],
   "source": [
    "def get_path_from_url(url):\n",
    "    scp_from = url.split('://')[1]\n",
    "    scp_to = os.path.expanduser('~/data/')\n",
    "    filename = os.path.join(scp_to, scp_from.split('/')[-1])\n",
    "    return scp_from, scp_to, filename\n",
    "    \n",
    "def grab_data_from_scp_string(url):\n",
    "    scp_from,scp_to,filename = get_path_from_url(url)\n",
    "    \n",
    "    if not os.path.exists(scp_to):\n",
    "        os.makedirs(scp_to)\n",
    "    cmd = 'scp {} {}'.format(scp_from, scp_to)\n",
    "    #print(cmd)\n",
    "    proc = subprocess.run(cmd, shell=True, check=True)\n",
    "    \n",
    "    if proc.returncode == 0:\n",
    "        return filename\n",
    "    else:\n",
    "        raise IOError('Could not download data from url: {}'.format(url))\n",
    "\n",
    "def wait_for_data(fname, largeFileObject):\n",
    "    print('Wait_for_data: {}'.format(fname))\n",
    "    lfo = None\n",
    "    if fname is None:\n",
    "        for i in range(10):\n",
    "            if len(largeFileObject.LargeFileObjectAvailable.URL) > 0:\n",
    "                lfo=grab_data_from_scp_string(largeFileObject.LargeFileObjectAvailable.URL)\n",
    "                print('Got %s' % lfo)\n",
    "                return lfo\n",
    "            else:\n",
    "                print('Waiting for file...')\n",
    "                time.sleep(0.5)\n",
    "    else:\n",
    "        for i in range(10):\n",
    "            filename = get_path_from_url(str(largeFileObject.LargeFileObjectAvailable.URL))[-1]\n",
    "            if fname != filename:\n",
    "                lfo=grab_data_from_scp_string(largeFileObject.LargeFileObjectAvailable.URL)\n",
    "                print('Got %s' % lfo)\n",
    "                return lfo\n",
    "            else:\n",
    "                print('Waiting for file...')\n",
    "                time.sleep(0.5)\n",
    "\n",
    "    return None\n",
    "    "
   ]
  },
  {
   "cell_type": "code",
   "execution_count": 2,
   "metadata": {},
   "outputs": [
    {
     "name": "stderr",
     "output_type": "stream",
     "text": [
      "[2018-07-23 11:25:14] [DEBUG] [MainThread]: Loading Device: sedSpectrometer\n",
      "[2018-07-23 11:25:14] [DEBUG] [MainThread]: Loading all topics from sedSpectrometer\n",
      "[2018-07-23 11:25:14] [DEBUG] [MainThread]: Adding AppliedSettingsMatchStart...\n",
      "[2018-07-23 11:25:21] [DEBUG] [MainThread]: Event subscriber ready for Device:sedSpectrometer topic:AppliedSettingsMatchStart\n",
      "[2018-07-23 11:25:21] [DEBUG] [MainThread]: Adding DetailedState...\n",
      "[2018-07-23 11:25:26] [DEBUG] [MainThread]: Event subscriber ready for Device:sedSpectrometer topic:DetailedState\n",
      "[2018-07-23 11:25:26] [DEBUG] [MainThread]: Adding ErrorCode...\n",
      "[2018-07-23 11:25:28] [DEBUG] [MainThread]: Event subscriber ready for Device:sedSpectrometer topic:ErrorCode\n",
      "[2018-07-23 11:25:28] [DEBUG] [MainThread]: Adding Heartbeat...\n",
      "[2018-07-23 11:25:28] [DEBUG] [MainThread]: Event subscriber ready for Device:sedSpectrometer topic:Heartbeat\n",
      "[2018-07-23 11:25:28] [DEBUG] [MainThread]: Adding InternalCommand...\n",
      "[2018-07-23 11:25:29] [DEBUG] [MainThread]: Event subscriber ready for Device:sedSpectrometer topic:InternalCommand\n",
      "[2018-07-23 11:25:29] [DEBUG] [MainThread]: Adding LargeFileObjectAvailable...\n",
      "[2018-07-23 11:25:29] [DEBUG] [MainThread]: Event subscriber ready for Device:sedSpectrometer topic:LargeFileObjectAvailable\n",
      "[2018-07-23 11:25:29] [DEBUG] [MainThread]: Adding LoopTimeOutOfRange...\n",
      "[2018-07-23 11:25:29] [DEBUG] [MainThread]: Event subscriber ready for Device:sedSpectrometer topic:LoopTimeOutOfRange\n",
      "[2018-07-23 11:25:29] [DEBUG] [MainThread]: Adding MeasuredSpectrum...\n",
      "[2018-07-23 11:25:29] [DEBUG] [MainThread]: Event subscriber ready for Device:sedSpectrometer topic:MeasuredSpectrum\n",
      "[2018-07-23 11:25:29] [DEBUG] [MainThread]: Adding RejectedCommand...\n",
      "[2018-07-23 11:25:29] [DEBUG] [MainThread]: Event subscriber ready for Device:sedSpectrometer topic:RejectedCommand\n",
      "[2018-07-23 11:25:29] [DEBUG] [MainThread]: Adding SettingVersions...\n",
      "[2018-07-23 11:25:29] [DEBUG] [MainThread]: Event subscriber ready for Device:sedSpectrometer topic:SettingVersions\n",
      "[2018-07-23 11:25:29] [DEBUG] [MainThread]: Adding SummaryState...\n",
      "[2018-07-23 11:25:29] [DEBUG] [MainThread]: Event subscriber ready for Device:sedSpectrometer topic:SummaryState\n",
      "[2018-07-23 11:25:29] [DEBUG] [MainThread]: Adding Timeout...\n",
      "[2018-07-23 11:25:29] [DEBUG] [MainThread]: Event subscriber ready for Device:sedSpectrometer topic:Timeout\n"
     ]
    }
   ],
   "source": [
    "sedSpectrometer = salpylib.DDSSubscriberContainer('sedSpectrometer')"
   ]
  },
  {
   "cell_type": "code",
   "execution_count": 3,
   "metadata": {},
   "outputs": [
    {
     "name": "stdout",
     "output_type": "stream",
     "text": [
      "0\n",
      "0\n"
     ]
    }
   ],
   "source": [
    "print(sedSpectrometer.DetailedState.detailedState)\n",
    "print(sedSpectrometer.SummaryState.summaryState)"
   ]
  },
  {
   "cell_type": "code",
   "execution_count": 4,
   "metadata": {},
   "outputs": [
    {
     "name": "stderr",
     "output_type": "stream",
     "text": [
      "[2018-07-23 11:25:37] [DEBUG] [MainThread]: Loading Device: sedSpectrometer\n"
     ]
    }
   ],
   "source": [
    "sender = salpylib.DDSSend(\"sedSpectrometer\")"
   ]
  },
  {
   "cell_type": "code",
   "execution_count": 5,
   "metadata": {},
   "outputs": [
    {
     "name": "stderr",
     "output_type": "stream",
     "text": [
      "[2018-07-23 11:25:41] [DEBUG] [MainThread]: Updating myData object with kwargs\n",
      "[2018-07-23 11:25:41] [DEBUG] [MainThread]: settingsToApply = Default\n",
      "[2018-07-23 11:25:41] [DEBUG] [MainThread]: Issuing command: start\n"
     ]
    },
    {
     "name": "stdout",
     "output_type": "stream",
     "text": [
      "(596516649, -301)\n"
     ]
    }
   ],
   "source": [
    "cmd_id = sender.send_Command('start', settingsToApply='Default', wait_command=True)\n",
    "print(cmd_id)"
   ]
  },
  {
   "cell_type": "code",
   "execution_count": 6,
   "metadata": {},
   "outputs": [
    {
     "name": "stderr",
     "output_type": "stream",
     "text": [
      "[2018-07-20 17:31:56] [DEBUG] [MainThread]: Updating myData object with kwargs\n",
      "[2018-07-20 17:31:56] [DEBUG] [MainThread]: Issuing command: enable\n"
     ]
    },
    {
     "name": "stdout",
     "output_type": "stream",
     "text": [
      "(1189641421, -301)\n"
     ]
    }
   ],
   "source": [
    "cmd_id = sender.send_Command('enable', wait_command=True)\n",
    "print(cmd_id)"
   ]
  },
  {
   "cell_type": "code",
   "execution_count": 15,
   "metadata": {},
   "outputs": [
    {
     "name": "stderr",
     "output_type": "stream",
     "text": [
      "[2018-07-20 17:24:06] [DEBUG] [MainThread]: Updating myData object with kwargs\n",
      "[2018-07-20 17:24:06] [DEBUG] [MainThread]: imageType = test\n",
      "[2018-07-20 17:24:06] [DEBUG] [MainThread]: integrationTime = 1\n",
      "[2018-07-20 17:24:06] [DEBUG] [MainThread]: lamp = lamp\n",
      "[2018-07-20 17:24:06] [DEBUG] [MainThread]: Issuing command: captureSpectImage\n"
     ]
    },
    {
     "name": "stdout",
     "output_type": "stream",
     "text": [
      "(596516652, -301)\n"
     ]
    }
   ],
   "source": [
    "cmd_id = sender.send_Command('captureSpectImage', imageType='test', \n",
    "                                             integrationTime=1, lamp='lamp',wait_command=True)\n",
    "print(cmd_id)"
   ]
  },
  {
   "cell_type": "code",
   "execution_count": null,
   "metadata": {},
   "outputs": [],
   "source": [
    "print(sedSpectrometer.LargeFileObjectAvailable.URL)"
   ]
  },
  {
   "cell_type": "code",
   "execution_count": 13,
   "metadata": {},
   "outputs": [
    {
     "name": "stdout",
     "output_type": "stream",
     "text": [
      "(596516651, -301)\n"
     ]
    }
   ],
   "source": [
    "sedSpectrometer_fname=wait_for_data(sedSpectrometer_fname, sedSpectrometer)"
   ]
  },
  {
   "cell_type": "code",
   "execution_count": 14,
   "metadata": {},
   "outputs": [
    {
     "name": "stdout",
     "output_type": "stream",
     "text": [
      "\n"
     ]
    }
   ],
   "source": []
  },
  {
   "cell_type": "code",
   "execution_count": 17,
   "metadata": {},
   "outputs": [
    {
     "name": "stderr",
     "output_type": "stream",
     "text": [
      "[2018-07-20 17:25:07] [DEBUG] [MainThread]: Updating myData object with kwargs\n",
      "[2018-07-20 17:25:07] [DEBUG] [MainThread]: Issuing command: disable\n"
     ]
    },
    {
     "name": "stdout",
     "output_type": "stream",
     "text": [
      "(1189641422, -301)\n"
     ]
    }
   ],
   "source": [
    "cmd_id = sender.send_Command('disable', wait_command=True)\n",
    "print(cmd_id)"
   ]
  },
  {
   "cell_type": "code",
   "execution_count": null,
   "metadata": {},
   "outputs": [],
   "source": []
  }
 ],
 "metadata": {
  "kernelspec": {
   "display_name": "Python 3",
   "language": "python",
   "name": "python3"
  },
  "language_info": {
   "codemirror_mode": {
    "name": "ipython",
    "version": 3
   },
   "file_extension": ".py",
   "mimetype": "text/x-python",
   "name": "python",
   "nbconvert_exporter": "python",
   "pygments_lexer": "ipython3",
   "version": "3.6.2"
  }
 },
 "nbformat": 4,
 "nbformat_minor": 2
}
