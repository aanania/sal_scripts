{
 "cells": [
  {
   "cell_type": "markdown",
   "metadata": {},
   "source": [
    "# Example notebook to plot data queried directly from the EFD"
   ]
  },
  {
   "cell_type": "code",
   "execution_count": 1,
   "metadata": {},
   "outputs": [],
   "source": [
    "import pandas as pd\n",
    "from sqlalchemy import create_engine\n",
    "from matplotlib import pyplot as py\n",
    "%matplotlib inline"
   ]
  },
  {
   "cell_type": "markdown",
   "metadata": {},
   "source": [
    "This next step uses sqlalchemy to create a connection to the EFD. It uses `mysql` and `pymysql` to handle the connection. You can install `mysql` on Mac with `brew install mysql`. To install `pymysql` simply do `pip install pymysql` or `easy_install pymysql`.\n",
    "\n",
    "Note that on the following line I suppresed the actuall information required to connect to the EFD. You need to find the parameters for the EFD you want to connect to."
   ]
  },
  {
   "cell_type": "code",
   "execution_count": 2,
   "metadata": {},
   "outputs": [],
   "source": [
    "engine = create_engine('mysql+pymysql://<user>:<passwd>@<ip_address>:<port>/<database>')"
   ]
  },
  {
   "cell_type": "markdown",
   "metadata": {},
   "source": [
    "Now, use pandas (imported as pd, see first cell) to query the EFD and return a data frame (a table with data basically). "
   ]
  },
  {
   "cell_type": "code",
   "execution_count": 3,
   "metadata": {},
   "outputs": [],
   "source": [
    "data_frame = pd.read_sql_query('SELECT * FROM atcamera_wrebPower;', engine)"
   ]
  },
  {
   "cell_type": "markdown",
   "metadata": {},
   "source": [
    "Show the first few lines of the data. "
   ]
  },
  {
   "cell_type": "code",
   "execution_count": 4,
   "metadata": {},
   "outputs": [
    {
     "data": {
      "text/html": [
       "<div>\n",
       "<style>\n",
       "    .dataframe thead tr:only-child th {\n",
       "        text-align: right;\n",
       "    }\n",
       "\n",
       "    .dataframe thead th {\n",
       "        text-align: left;\n",
       "    }\n",
       "\n",
       "    .dataframe tbody tr th {\n",
       "        vertical-align: top;\n",
       "    }\n",
       "</style>\n",
       "<table border=\"1\" class=\"dataframe\">\n",
       "  <thead>\n",
       "    <tr style=\"text-align: right;\">\n",
       "      <th></th>\n",
       "      <th>date_time</th>\n",
       "      <th>private_revCode</th>\n",
       "      <th>private_sndStamp</th>\n",
       "      <th>private_rcvStamp</th>\n",
       "      <th>private_seqNum</th>\n",
       "      <th>private_origin</th>\n",
       "      <th>private_host</th>\n",
       "      <th>digital_V</th>\n",
       "      <th>digital_I</th>\n",
       "      <th>analog_V</th>\n",
       "      <th>...</th>\n",
       "      <th>clkLow_V</th>\n",
       "      <th>clkLow_I</th>\n",
       "      <th>od_V</th>\n",
       "      <th>od_I</th>\n",
       "      <th>dphi_V</th>\n",
       "      <th>dphi_I</th>\n",
       "      <th>heater_V</th>\n",
       "      <th>heater_I</th>\n",
       "      <th>hvbias_V</th>\n",
       "      <th>hvbias_I</th>\n",
       "    </tr>\n",
       "  </thead>\n",
       "  <tbody>\n",
       "    <tr>\n",
       "      <th>0</th>\n",
       "      <td>2018-08-14 18:34:12.274374</td>\n",
       "      <td>LSST TEST REVCODE</td>\n",
       "      <td>1.534272e+09</td>\n",
       "      <td>1.534272e+09</td>\n",
       "      <td>0</td>\n",
       "      <td>1</td>\n",
       "      <td>0</td>\n",
       "      <td>5.0</td>\n",
       "      <td>645.1</td>\n",
       "      <td>7.0</td>\n",
       "      <td>...</td>\n",
       "      <td>11.0</td>\n",
       "      <td>34.7</td>\n",
       "      <td>28.0</td>\n",
       "      <td>26.7</td>\n",
       "      <td>10.0</td>\n",
       "      <td>6.5</td>\n",
       "      <td>12.0</td>\n",
       "      <td>0.0</td>\n",
       "      <td>-24.0</td>\n",
       "      <td>0.0</td>\n",
       "    </tr>\n",
       "    <tr>\n",
       "      <th>1</th>\n",
       "      <td>2018-08-14 18:34:12.275449</td>\n",
       "      <td>LSST TEST REVCODE</td>\n",
       "      <td>1.534272e+09</td>\n",
       "      <td>1.534272e+09</td>\n",
       "      <td>0</td>\n",
       "      <td>1</td>\n",
       "      <td>0</td>\n",
       "      <td>5.0</td>\n",
       "      <td>651.2</td>\n",
       "      <td>7.0</td>\n",
       "      <td>...</td>\n",
       "      <td>11.0</td>\n",
       "      <td>34.7</td>\n",
       "      <td>28.0</td>\n",
       "      <td>26.7</td>\n",
       "      <td>10.0</td>\n",
       "      <td>6.5</td>\n",
       "      <td>12.0</td>\n",
       "      <td>0.0</td>\n",
       "      <td>-24.0</td>\n",
       "      <td>0.0</td>\n",
       "    </tr>\n",
       "    <tr>\n",
       "      <th>2</th>\n",
       "      <td>2018-08-14 18:34:12.276372</td>\n",
       "      <td>LSST TEST REVCODE</td>\n",
       "      <td>1.534272e+09</td>\n",
       "      <td>1.534272e+09</td>\n",
       "      <td>0</td>\n",
       "      <td>1</td>\n",
       "      <td>0</td>\n",
       "      <td>5.0</td>\n",
       "      <td>651.3</td>\n",
       "      <td>7.0</td>\n",
       "      <td>...</td>\n",
       "      <td>11.0</td>\n",
       "      <td>34.7</td>\n",
       "      <td>28.0</td>\n",
       "      <td>26.7</td>\n",
       "      <td>10.0</td>\n",
       "      <td>6.5</td>\n",
       "      <td>12.0</td>\n",
       "      <td>0.0</td>\n",
       "      <td>-24.0</td>\n",
       "      <td>0.0</td>\n",
       "    </tr>\n",
       "    <tr>\n",
       "      <th>3</th>\n",
       "      <td>2018-08-14 18:34:12.278053</td>\n",
       "      <td>LSST TEST REVCODE</td>\n",
       "      <td>1.534272e+09</td>\n",
       "      <td>1.534272e+09</td>\n",
       "      <td>0</td>\n",
       "      <td>1</td>\n",
       "      <td>0</td>\n",
       "      <td>5.0</td>\n",
       "      <td>651.2</td>\n",
       "      <td>7.0</td>\n",
       "      <td>...</td>\n",
       "      <td>11.0</td>\n",
       "      <td>34.7</td>\n",
       "      <td>28.0</td>\n",
       "      <td>26.7</td>\n",
       "      <td>10.0</td>\n",
       "      <td>6.5</td>\n",
       "      <td>12.0</td>\n",
       "      <td>0.0</td>\n",
       "      <td>-24.0</td>\n",
       "      <td>0.0</td>\n",
       "    </tr>\n",
       "    <tr>\n",
       "      <th>4</th>\n",
       "      <td>2018-08-14 18:34:12.279707</td>\n",
       "      <td>LSST TEST REVCODE</td>\n",
       "      <td>1.534272e+09</td>\n",
       "      <td>1.534272e+09</td>\n",
       "      <td>0</td>\n",
       "      <td>1</td>\n",
       "      <td>0</td>\n",
       "      <td>5.0</td>\n",
       "      <td>651.3</td>\n",
       "      <td>7.0</td>\n",
       "      <td>...</td>\n",
       "      <td>11.0</td>\n",
       "      <td>34.7</td>\n",
       "      <td>28.0</td>\n",
       "      <td>26.7</td>\n",
       "      <td>10.0</td>\n",
       "      <td>6.5</td>\n",
       "      <td>12.0</td>\n",
       "      <td>0.0</td>\n",
       "      <td>-24.0</td>\n",
       "      <td>0.0</td>\n",
       "    </tr>\n",
       "  </tbody>\n",
       "</table>\n",
       "<p>5 rows × 23 columns</p>\n",
       "</div>"
      ],
      "text/plain": [
       "                   date_time    private_revCode  private_sndStamp  \\\n",
       "0 2018-08-14 18:34:12.274374  LSST TEST REVCODE      1.534272e+09   \n",
       "1 2018-08-14 18:34:12.275449  LSST TEST REVCODE      1.534272e+09   \n",
       "2 2018-08-14 18:34:12.276372  LSST TEST REVCODE      1.534272e+09   \n",
       "3 2018-08-14 18:34:12.278053  LSST TEST REVCODE      1.534272e+09   \n",
       "4 2018-08-14 18:34:12.279707  LSST TEST REVCODE      1.534272e+09   \n",
       "\n",
       "   private_rcvStamp  private_seqNum  private_origin  private_host  digital_V  \\\n",
       "0      1.534272e+09               0               1             0        5.0   \n",
       "1      1.534272e+09               0               1             0        5.0   \n",
       "2      1.534272e+09               0               1             0        5.0   \n",
       "3      1.534272e+09               0               1             0        5.0   \n",
       "4      1.534272e+09               0               1             0        5.0   \n",
       "\n",
       "   digital_I  analog_V    ...     clkLow_V  clkLow_I  od_V  od_I  dphi_V  \\\n",
       "0      645.1       7.0    ...         11.0      34.7  28.0  26.7    10.0   \n",
       "1      651.2       7.0    ...         11.0      34.7  28.0  26.7    10.0   \n",
       "2      651.3       7.0    ...         11.0      34.7  28.0  26.7    10.0   \n",
       "3      651.2       7.0    ...         11.0      34.7  28.0  26.7    10.0   \n",
       "4      651.3       7.0    ...         11.0      34.7  28.0  26.7    10.0   \n",
       "\n",
       "   dphi_I  heater_V  heater_I  hvbias_V  hvbias_I  \n",
       "0     6.5      12.0       0.0     -24.0       0.0  \n",
       "1     6.5      12.0       0.0     -24.0       0.0  \n",
       "2     6.5      12.0       0.0     -24.0       0.0  \n",
       "3     6.5      12.0       0.0     -24.0       0.0  \n",
       "4     6.5      12.0       0.0     -24.0       0.0  \n",
       "\n",
       "[5 rows x 23 columns]"
      ]
     },
     "execution_count": 4,
     "metadata": {},
     "output_type": "execute_result"
    }
   ],
   "source": [
    "data_frame.head()"
   ]
  },
  {
   "cell_type": "markdown",
   "metadata": {},
   "source": [
    "Now, it's time to do the plotting. "
   ]
  },
  {
   "cell_type": "code",
   "execution_count": 5,
   "metadata": {},
   "outputs": [
    {
     "data": {
      "image/png": "[encoded data removed]",
      "text/plain": [
       "<matplotlib.figure.Figure at 0x7f401b609400>"
      ]
     },
     "metadata": {},
     "output_type": "display_data"
    }
   ],
   "source": [
    "py.plot(data_frame['date_time'],data_frame['heater_V'],'.')\n",
    "py.xticks(rotation=45)\n",
    "\n",
    "py.title('Example plot of data queried from the EFD.')\n",
    "py.xlabel('Date time')\n",
    "py.ylabel('Heater_V')\n",
    "py.grid()"
   ]
  },
  {
   "cell_type": "code",
   "execution_count": null,
   "metadata": {},
   "outputs": [],
   "source": []
  }
 ],
 "metadata": {
  "kernelspec": {
   "display_name": "Python 3",
   "language": "python",
   "name": "python3"
  },
  "language_info": {
   "codemirror_mode": {
    "name": "ipython",
    "version": 3
   },
   "file_extension": ".py",
   "mimetype": "text/x-python",
   "name": "python",
   "nbconvert_exporter": "python",
   "pygments_lexer": "ipython3",
   "version": "3.6.2"
  }
 },
 "nbformat": 4,
 "nbformat_minor": 2
}
