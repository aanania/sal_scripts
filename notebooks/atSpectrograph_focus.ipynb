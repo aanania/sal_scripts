{
 "cells": [
  {
   "cell_type": "code",
   "execution_count": 1,
   "metadata": {},
   "outputs": [],
   "source": [
    "import os\n",
    "import time\n",
    "from salpytools import salpylib \n",
    "import subprocess\n",
    "from astropy.io import fits\n",
    "import numpy as np\n",
    "from matplotlib import pyplot as py\n",
    "import logging\n",
    "import csv\n",
    "import datetime\n",
    "import numpy as np\n",
    "\n",
    "%matplotlib inline\n",
    "\n",
    "os.environ['LSST_DDS_DOMAIN'] = 'auxtelpath'"
   ]
  },
  {
   "cell_type": "code",
   "execution_count": 2,
   "metadata": {},
   "outputs": [],
   "source": [
    "if False:\n",
    "    logging.getLogger().setLevel(logging.DEBUG)\n",
    "    logging.basicConfig(level=logging.DEBUG,\n",
    "                    format='[%(asctime)s] [%(name)-12s:%(lineno)-4d] [%(levelname)-8s]: %(message)s',\n",
    "                    datefmt='%m-%d %H:%M:%S')"
   ]
  },
  {
   "cell_type": "code",
   "execution_count": 3,
   "metadata": {},
   "outputs": [],
   "source": [
    "def get_path_from_url(url):\n",
    "    filename_no_path = url.split(':8000/')[1]\n",
    "    wget_to = os.path.expanduser('~/data/')\n",
    "    filename = os.path.join(wget_to, filename_no_path.split('/')[-1])\n",
    "    return wget_to, filename\n",
    "    \n",
    "def grab_data_from_lfo_string(url):\n",
    "    ## REMOVE UPON IMPLEMENTATION OF HARINI FIX TO sedSpectrograph\n",
    "    if '/home/harini/TCS/SEDSpectrum/' in url:\n",
    "        new_url=url.replace('/home/harini/TCS/SEDSpectrum/','')\n",
    "        print('Grabbing modified url {}'.format(new_url))\n",
    "        wget_to,filename = get_path_from_url(new_url)\n",
    "    else:\n",
    "        wget_to,filename = get_path_from_url(url)\n",
    "    \n",
    "    \n",
    "    #wget_to = os.path.expanduser('/home/saluser/tmp/')\n",
    "    if not os.path.exists(wget_to):\n",
    "        os.makedirs(wget_to)\n",
    "    if '/home/harini/TCS/SEDSpectrum/' in url:\n",
    "        cmd = 'wget -P {} {}'.format(wget_to, new_url)\n",
    "    else:\n",
    "        cmd = 'wget -P {} {}'.format(wget_to, url)\n",
    "    \n",
    "    print(cmd)\n",
    "    proc = subprocess.run(cmd, shell=True, check=True)\n",
    "    \n",
    "    if proc.returncode == 0:\n",
    "        return (filename)\n",
    "    else:\n",
    "        raise IOError('Could not download data from url: {}'.format(url))\n",
    "\n",
    "def wait_for_data(fname, largeFileObject):\n",
    "    print('Wait_for_data: {}'.format(fname))\n",
    "    lfo = None\n",
    "    if fname is None:\n",
    "        for i in range(10):\n",
    "            if len(largeFileObject.largeFileObjectAvailable.url) > 0:\n",
    "                lfo=grab_data_from_lfo_string(largeFileObject.largeFileObjectAvailable.url)\n",
    "                print('Got %s' % lfo)\n",
    "                return lfo\n",
    "            else:\n",
    "                print('Waiting for file...')\n",
    "                time.sleep(0.5)\n",
    "    else: # I DON'T UNDERSTAND WHEN THIS GETS CALLED - but it'll fail!\n",
    "        for i in range(10):\n",
    "            filename = get_path_from_url(str(largeFileObject.largeFileObjectAvailable.url))[-1]\n",
    "            if fname != filename:\n",
    "                lfo=grab_data_from_scp_string(largeFileObject.largeFileObjectAvailable.url)\n",
    "                print('Got %s' % lfo)\n",
    "                return lfo\n",
    "            else:\n",
    "                print('Waiting for file...')\n",
    "                time.sleep(0.5)\n",
    "\n",
    "    return None\n",
    "    "
   ]
  },
  {
   "cell_type": "code",
   "execution_count": 4,
   "metadata": {},
   "outputs": [],
   "source": [
    "def getFileName():\n",
    "    tmp_file='/tmp/atcamera_filename_current.dat'\n",
    "    # This function assumes the file created in tmp_file\n",
    "    # was written by this function. No error handling exists should the file be\n",
    "    # modified or created via another method.\n",
    "    import os\n",
    "    import datetime\n",
    "    import logging\n",
    "    \n",
    "    def timeStamped(fname_suffix, fmt='AT-O-%Y%m%d-{fname:05}'):\n",
    "        return (datetime.datetime.now().strftime(fmt).format(fname=fname_suffix))\n",
    "    \n",
    "    # today's format\n",
    "    number=0 # assume zero for the moment\n",
    "    file_date = timeStamped(number).split('-')[2]\n",
    "    \n",
    "    # Check to see if a file exists with a past filename\n",
    "    if os.path.exists(tmp_file):\n",
    "        # read in the file\n",
    "        fh = open(tmp_file, 'r')\n",
    "        first_line = (fh.readline())\n",
    "        logging.info('Previous line in existing file {}'.format(first_line))\n",
    "        \n",
    "        # check to see if the date is the same\n",
    "        logging.debug('file_date is: {}'.format(file_date))\n",
    "        logging.debug('first_line is: {}'.format(first_line))\n",
    "        if file_date in first_line:\n",
    "            # grab file number and augment it\n",
    "            old_num = first_line.split(',')[1]\n",
    "            logging.debug('Previous Image number was: {}'.format(old_num))\n",
    "            number = 1+int(old_num)\n",
    "            logging.info('Incrementing from file to: {}'.format(number))\n",
    "            fh.close()\n",
    "        \n",
    "        # Delete the file\n",
    "        os.remove(tmp_file)\n",
    "\n",
    "    # write a file with the new data\n",
    "    fh = open(tmp_file, 'w')\n",
    "    lines_of_text = [str(file_date)+','+str(number)]\n",
    "    fh.writelines(lines_of_text)\n",
    "    fh.close()\n",
    "    \n",
    "    fname = timeStamped(number)\n",
    "    print('Newly generated filename: {}'.format(fname))\n",
    "    return(fname)\n",
    "    "
   ]
  },
  {
   "cell_type": "code",
   "execution_count": 5,
   "metadata": {},
   "outputs": [],
   "source": [
    "#getFileName()"
   ]
  },
  {
   "cell_type": "code",
   "execution_count": null,
   "metadata": {},
   "outputs": [],
   "source": []
  },
  {
   "cell_type": "code",
   "execution_count": null,
   "metadata": {},
   "outputs": [],
   "source": []
  },
  {
   "cell_type": "code",
   "execution_count": 6,
   "metadata": {},
   "outputs": [],
   "source": [
    "component_list = [('atMonochromator', None) , ('atcamera',None)]"
   ]
  },
  {
   "cell_type": "code",
   "execution_count": 7,
   "metadata": {},
   "outputs": [
    {
     "name": "stdout",
     "output_type": "stream",
     "text": [
      "Subscribing to events from the two components...\n",
      "DONE\n"
     ]
    }
   ],
   "source": [
    "print('Subscribing to events from the two components...')\n",
    "atMonochromator = salpylib.DDSSubscriberContainer('atMonochromator',\n",
    "                                                  device_id=None)\n",
    "atcamera = salpylib.DDSSubscriberContainer('atcamera',\n",
    "                                                  device_id=None)\n",
    "print('DONE')"
   ]
  },
  {
   "cell_type": "code",
   "execution_count": 8,
   "metadata": {},
   "outputs": [
    {
     "name": "stdout",
     "output_type": "stream",
     "text": [
      "1\n"
     ]
    }
   ],
   "source": [
    "# Check devices are alive - these should all be 1 !\n",
    "print(atMonochromator.heartbeat.heartbeat)\n",
    "# print(atcamera.heartbeat.heartbeat) - camera has no heartbeat, how do we know if it's alive?"
   ]
  },
  {
   "cell_type": "code",
   "execution_count": 9,
   "metadata": {},
   "outputs": [],
   "source": [
    "# want to create a class that captures all of the different components\n",
    "# Need to declare its existance here\n",
    "class SenderContainer():\n",
    "    pass"
   ]
  },
  {
   "cell_type": "code",
   "execution_count": null,
   "metadata": {},
   "outputs": [],
   "source": []
  },
  {
   "cell_type": "code",
   "execution_count": 10,
   "metadata": {},
   "outputs": [],
   "source": [
    "sender = SenderContainer()\n",
    "for component in component_list:\n",
    "    setattr(sender, component[0], salpylib.DDSSend(component[0], component[1]))\n",
    "    getattr(getattr(sender, component[0]),'start')()"
   ]
  },
  {
   "cell_type": "markdown",
   "metadata": {},
   "source": [
    "## Bring components to the correct state"
   ]
  },
  {
   "cell_type": "code",
   "execution_count": null,
   "metadata": {},
   "outputs": [],
   "source": []
  },
  {
   "cell_type": "code",
   "execution_count": 11,
   "metadata": {},
   "outputs": [
    {
     "name": "stdout",
     "output_type": "stream",
     "text": [
      "596516649 (-300, 0, 'Command executed in the wrong state')\n"
     ]
    }
   ],
   "source": [
    "cmd_id1 = sender.atMonochromator.send_Command('enable', wait_command=False)\n",
    "\n",
    "resp, ack = sender.atMonochromator.waitForCompletion(cmd_id1[0])\n",
    "print(resp, ack)"
   ]
  },
  {
   "cell_type": "code",
   "execution_count": 12,
   "metadata": {},
   "outputs": [
    {
     "name": "stdout",
     "output_type": "stream",
     "text": [
      "1189641421 (-302, 0, 'Ack : NO Command not accepted in State{LSE209State = ENABLED}')\n"
     ]
    }
   ],
   "source": [
    "cmd_id2 = sender.atcamera.send_Command('enable',\n",
    "                              wait_command=False)\n",
    "\n",
    "resp, ack = sender.atcamera.waitForCompletion(cmd_id2[0])\n",
    "print(resp, ack)\n"
   ]
  },
  {
   "cell_type": "code",
   "execution_count": null,
   "metadata": {},
   "outputs": [],
   "source": []
  },
  {
   "cell_type": "markdown",
   "metadata": {},
   "source": [
    "## Start Loop over wavelengths"
   ]
  },
  {
   "cell_type": "code",
   "execution_count": 278,
   "metadata": {},
   "outputs": [
    {
     "name": "stdout",
     "output_type": "stream",
     "text": [
      "Setting up for wavelength 700 [enumeration 0] :\n",
      "Newly generated filename: AT-O-20180926-00027\n",
      "1350490054 (303, 0, 'Done : OK')\n"
     ]
    }
   ],
   "source": [
    "wavelength_arr=np.array([700])\n",
    "wavelength_max=np.zeros_like(wavelength_arr)\n",
    "\n",
    "expTime = 8.0\n",
    "\n",
    "plot = False\n",
    "log = True\n",
    "if plot:\n",
    "    fig1 = py.figure(1, figsize=(10, 8))\n",
    "    ax1 = fig1.add_subplot(212)\n",
    "    ax2 = fig1.add_subplot(211)\n",
    "\n",
    "if log:\n",
    "\n",
    "    logfilename='/tmp/'+(datetime.datetime.now().strftime('%Y%m%d'))+'_focus_test_log.csv'\n",
    "    if not os.path.exists(logfilename):\n",
    "        with open(logfilename, mode='w', newline='') as log_file:\n",
    "            log_writer = csv.writer(log_file, delimiter=',', quotechar='\"', quoting=csv.QUOTE_MINIMAL)\n",
    "            top_line = ['#atcamera.endReadout.imageName','atcamera.endReadout.exposureTime','atMonochromator.wavelength.wavelength',\n",
    "                        'atMonochromator.selectedGrating.gratingType',\n",
    "                        'atMonochromator entry slit',\n",
    "                        'atMonochromator exit slit']\n",
    "            log_writer.writerow(top_line)\n",
    "    \n",
    "for i,wave in enumerate(wavelength_arr):\n",
    "    print('Setting up for wavelength {} [enumeration {}] :'.format(wave,i))\n",
    "    \n",
    "    sedSpectrometer_fname, electrometer_fname = [None, None]\n",
    "    cmd_id = sender.atMonochromator.send_Command('updateMonochromatorSetup',gratingType=2,\n",
    "                                             fontExitSlitWidth = 1.0, \n",
    "                                             fontEntranceSlitWidth = 1.0,\n",
    "                                             wavelength = wave, wait_command=True)\n",
    "    \n",
    "   \n",
    "    # wait a second before starting to capture\n",
    "    #time.sleep(1)\n",
    "    \n",
    "    atcamera_fname = getFileName()\n",
    "    cmd_id4 = sender.atcamera.send_Command('takeImages', numImages = 1, \n",
    "                                       expTime = expTime, shutter = True, \n",
    "                                       imageSequenceName = str(atcamera_fname),\n",
    "                                       science = True,\n",
    "                                       wait_command=False)\n",
    "    \n",
    "    resp, ack = sender.atcamera.waitForCompletion(cmd_id4[0])\n",
    "    print(resp, ack)\n",
    "       \n",
    "    # Adding a sleep here to see if it results in fewer dropped images\n",
    "    # wait a second before starting to capture\n",
    "    #time.sleep(10)\n",
    "    \n",
    "    if resp == -1:\n",
    "        raise IOError('atcamera timed out for wavelength {} [enumeration {}] :'.format(wave,i))\n",
    "    if ack[0] != 303:\n",
    "        raise IOError('atcamera did not complete successfully')\n",
    "    \n",
    "    # Create log of data since I'm afraid it'll all get lost in the EFD\n",
    "    # or I'll never find it\n",
    "    \n",
    "    if log:\n",
    "         with open(logfilename, mode='a', newline='') as log_file:\n",
    "                log_writer = csv.writer(log_file, delimiter=',', quotechar='\"', quoting=csv.QUOTE_MINIMAL)\n",
    "                log_writer.writerow([atcamera.endReadout.imageName,atcamera.endReadout.exposureTime,atMonochromator.wavelength.wavelength,\n",
    "                                     atMonochromator.selectedGrating.gratingType,\n",
    "                                   atMonochromator.subscribers['slitWidth'].myDatalist[-2].slitPosition,\n",
    "                                   atMonochromator.subscribers['slitWidth'].myDatalist[-1].slitPosition])\n",
    "        \n",
    "    if plot:\n",
    "        print('plotting')"
   ]
  },
  {
   "cell_type": "code",
   "execution_count": 318,
   "metadata": {},
   "outputs": [
    {
     "data": {
      "text/plain": [
       "1"
      ]
     },
     "execution_count": 318,
     "metadata": {},
     "output_type": "execute_result"
    }
   ],
   "source": [
    "atMonochromator.selectedGrating.gratingType"
   ]
  },
  {
   "cell_type": "code",
   "execution_count": null,
   "metadata": {},
   "outputs": [],
   "source": []
  },
  {
   "cell_type": "code",
   "execution_count": 88,
   "metadata": {},
   "outputs": [
    {
     "name": "stdout",
     "output_type": "stream",
     "text": [
      "Opening /mnt/data/ats/mcm/AT-O-20180928-00015.fits\n",
      "11047\n",
      "centroid at y,x: 1920 371\n",
      "subimage being made from ymin,ymax,xmin,xmax:1870 1970 321 421\n",
      "new centroid at y,x: 50 50\n"
     ]
    }
   ],
   "source": [
    "import warnings\n",
    "#import matplotlib.pyplot as plt  # imported as py above\n",
    "from astropy.modeling import models, fitting\n",
    "from scipy.ndimage.filters import gaussian_filter as gauss_filt\n",
    "\n",
    "# Read in image\n",
    "dir = '/mnt/dmcs/20180823'\n",
    "dir = '/mnt/data/ats/mcm/'\n",
    "atcamera_fname='AT-O-20180928-00015'\n",
    "full_file_name=dir+atcamera_fname+'.fits'\n",
    "print('Opening {}'.format(full_file_name))\n",
    "hdu_list = fits.open(full_file_name)\n",
    "#hdu_list.info()\n",
    "im=hdu_list[12].data # for camera data\n",
    "\n",
    "# Find star by convolution with gaussian, then grab the max\n",
    "tmp=gauss_filt(im,[5,5],mode='constant',cval=0)\n",
    "print(np.max(tmp))\n",
    "value=None\n",
    "ind=np.argmax(tmp)\n",
    "ind2d = np.unravel_index(ind,tmp.shape)\n",
    "print('centroid at y,x: {} {}'.format(ind2d[0],ind2d[1]))\n",
    "\n",
    "#ymin=1800 ; ymax=2048\n",
    "#xmin=280 ; xmax=450\n",
    "half_side=int(50)\n",
    "ymin = ind2d[0]-half_side if ind2d[0]-half_side > 0 else 0\n",
    "ymax = ind2d[0]+half_side if ind2d[0]+half_side < 2047 else 2047\n",
    "xmin = ind2d[1]-half_side if ind2d[1]-half_side > 0 else 0\n",
    "xmax = ind2d[1]+half_side if ind2d[1]+half_side < 512 else 512\n",
    "print('subimage being made from ymin,ymax,xmin,xmax:{} {} {} {}'.format(ymin,ymax,xmin,xmax))\n",
    "# new maximum at:\n",
    "ind=np.argmax(tmp[ymin:ymax,xmin:xmax])\n",
    "ind2d = np.unravel_index(ind,tmp[ymin:ymax,xmin:xmax].shape)\n",
    "print('new centroid at y,x: {} {}'.format(ind2d[0],ind2d[1]))"
   ]
  },
  {
   "cell_type": "code",
   "execution_count": 89,
   "metadata": {},
   "outputs": [
    {
     "data": {
      "image/png": "[encoded data removed]",
      "text/plain": [
       "<matplotlib.figure.Figure at 0x7fd44558ab00>"
      ]
     },
     "metadata": {},
     "output_type": "display_data"
    }
   ],
   "source": [
    "im_sub=im[ymin:ymax,xmin:xmax]\n",
    "im_sub=im_sub-np.median(im_sub)\n",
    "py.imshow(im_sub)\n",
    "hdu_list.close()"
   ]
  },
  {
   "cell_type": "code",
   "execution_count": 90,
   "metadata": {},
   "outputs": [
    {
     "name": "stdout",
     "output_type": "stream",
     "text": [
      "50\n",
      "50\n"
     ]
    },
    {
     "data": {
      "text/plain": [
       "<matplotlib.text.Text at 0x7fd445597a20>"
      ]
     },
     "execution_count": 90,
     "metadata": {},
     "output_type": "execute_result"
    },
    {
     "data": {
      "image/png": "[encoded data removed]",
      "text/plain": [
       "<matplotlib.figure.Figure at 0x7fd445714128>"
      ]
     },
     "metadata": {},
     "output_type": "display_data"
    }
   ],
   "source": [
    "# Generate x,y,z data\n",
    "y, x = np.mgrid[:im_sub.shape[0], :im_sub.shape[1]]\n",
    "print(y[ind2d])\n",
    "print(x[ind2d])\n",
    "z=im_sub\n",
    "# Fit the data using astropy.modeling\n",
    "p_init = models.Gaussian2D(amplitude=np.nanmax(z),x_mean=x[ind2d], y_mean=y[ind2d], fixed={'theta':True})\n",
    "#p_init = models.Gaussian2D(amplitude=np.nanmax(z),x_mean=38, y_mean=51, x_stddev=3, y_stddev=3,  fixed={'theta':True})\n",
    "fit_p = fitting.LevMarLSQFitter()\n",
    "\n",
    "with warnings.catch_warnings():\n",
    "    # Ignore model linearity warning from the fitter\n",
    "    warnings.simplefilter('ignore')\n",
    "    p = fit_p(p_init, x, y, z)\n",
    "\n",
    "# Plot the data with the best-fit model\n",
    "py.figure(figsize=(9, 5))\n",
    "py.subplot(1, 3, 1)\n",
    "py.imshow(z, origin='lower', interpolation='nearest')#, vmin=-1e4, vmax=5e4)\n",
    "py.title(\"Data\")\n",
    "py.subplot(1, 3, 2)\n",
    "py.imshow(p(x, y), origin='lower', interpolation='nearest')#, vmin=-1e4, vmax=5e4)\n",
    "py.title(\"Model\")\n",
    "py.subplot(1, 3, 3)\n",
    "py.imshow(z - p(x, y), origin='lower', interpolation='nearest')#, vmin=-1e4, vmax=5e4)\n",
    "py.title(\"Residual\")"
   ]
  },
  {
   "cell_type": "code",
   "execution_count": 91,
   "metadata": {},
   "outputs": [
    {
     "name": "stdout",
     "output_type": "stream",
     "text": [
      "AT-O-20180928-00015\n",
      "Model: Gaussian2D\n",
      "Inputs: ('x', 'y')\n",
      "Outputs: ('z',)\n",
      "Model set size: 1\n",
      "Parameters:\n",
      "      amplitude      x_mean        y_mean       x_stddev      y_stddev   theta\n",
      "    ------------- ------------ ------------- ------------- ------------- -----\n",
      "    1209.92208167 51.082002477 50.3370484173 7.53175193769 7.23502747864   0.0\n"
     ]
    }
   ],
   "source": [
    "print(atcamera_fname)\n",
    "print(p)"
   ]
  },
  {
   "cell_type": "code",
   "execution_count": 277,
   "metadata": {},
   "outputs": [
    {
     "data": {
      "text/plain": [
       "0.568"
      ]
     },
     "execution_count": 277,
     "metadata": {},
     "output_type": "execute_result"
    }
   ],
   "source": [
    "# file, focus pos [in], amplitude, x_mean, y_mean, x_stddev, y_stddev, theta [fixed] \n",
    "\n",
    "#AT-O-20180926-00007, 0.589, 2792.34040405, 76.3187427061, 70.6949776879, 10.5250738182, 11.5540604481,   0.0\n",
    "#AT-O-20180926-00010.fits,0.584, 4652.81858626, 419.985088191, 36.1386853783, 8.8462953384, 9.81862666975,   0.0\n",
    "#AT-O-20180926-00013,0.611,447.746063627 239.000072699 85.6124941322 26.3465997095 31.3922441199   0.0\n",
    "#AT-O-20180926-00014, 0.560, 13755.5395601, 112.621980852, 75.8147418115, 5.66348802593, 5.16336089279,   0.0\n",
    "#AT-O-20180926-00015, 0.541, 1344.39176121 103.884124588 57.6255140042 17.6003542084 17.3475235955   0.0\n",
    "#AT-O-20180926-00021, 0.562, 15870.7070175, 98.2141308141, 56.3088127495, 5.15586715284, 4.88307143492,   0.0\n",
    "#AT-O-20180926-00022, 0.571, 16223.3326982 67.9783654212 71.5033438187 4.7371224009 5.06486183693   0.0\n",
    "#AT-O-20180926-00023, 0.586, 9275.43049545 34.7974048887 77.5859248738 5.83456358727 6.61970962653   0.0\n",
    "#AT-O-20180926-00025, 0.575 ,12354.1164511, 31.4979221705, 19.0930890249, 5.24240919033, 5.64293081215,   0.0\n",
    "#AT-O-20180926-00026, 0.568, 17254.2873684 108.042222433 40.4834054611 4.74433627636 4.72385908281   0.0\n",
    "#AT-O-20180926-00027, 0.572, 15608.0749458 67.6837717553 94.7478189974 4.97175179996 4.99869109278   0.0"
   ]
  },
  {
   "cell_type": "code",
   "execution_count": null,
   "metadata": {},
   "outputs": [],
   "source": []
  },
  {
   "cell_type": "code",
   "execution_count": 39,
   "metadata": {},
   "outputs": [],
   "source": [
    "# expecting ~8 pixel image - but it'll be resolved... so not a top hat, but not a gaussian"
   ]
  },
  {
   "cell_type": "code",
   "execution_count": null,
   "metadata": {},
   "outputs": [],
   "source": []
  }
 ],
 "metadata": {
  "kernelspec": {
   "display_name": "Python 3",
   "language": "python",
   "name": "python3"
  },
  "language_info": {
   "codemirror_mode": {
    "name": "ipython",
    "version": 3
   },
   "file_extension": ".py",
   "mimetype": "text/x-python",
   "name": "python",
   "nbconvert_exporter": "python",
   "pygments_lexer": "ipython3",
   "version": "3.6.3"
  }
 },
 "nbformat": 4,
 "nbformat_minor": 2
}
