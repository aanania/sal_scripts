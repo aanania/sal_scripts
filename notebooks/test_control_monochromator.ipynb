{
 "cells": [
  {
   "cell_type": "code",
   "execution_count": 1,
   "metadata": {},
   "outputs": [
    {
     "name": "stdout",
     "output_type": "stream",
     "text": [
      "auxtelpath\n",
      "auxtelpath\n"
     ]
    }
   ],
   "source": [
    "import os\n",
    "import time\n",
    "print(os.environ['LSST_DDS_DOMAIN'])\n",
    "os.environ['LSST_DDS_DOMAIN'] = 'auxtelpath'\n",
    "print(os.environ['LSST_DDS_DOMAIN'])"
   ]
  },
  {
   "cell_type": "code",
   "execution_count": 2,
   "metadata": {},
   "outputs": [],
   "source": [
    "from salpytools import salpylib "
   ]
  },
  {
   "cell_type": "markdown",
   "metadata": {},
   "source": [
    "Begin subscribing to events and telemetry\n",
    "The events/telemetry are determined from looking the XML (from the stash repository)"
   ]
  },
  {
   "cell_type": "code",
   "execution_count": 3,
   "metadata": {},
   "outputs": [
    {
     "ename": "AttributeError",
     "evalue": "module 'salpytools.salpylib' has no attribute 'DDSSubcriber'",
     "output_type": "error",
     "traceback": [
      "\u001b[0;31m---------------------------------------------------------------------------\u001b[0m",
      "\u001b[0;31mAttributeError\u001b[0m                            Traceback (most recent call last)",
      "\u001b[0;32m<ipython-input-3-afd7cb755d3b>\u001b[0m in \u001b[0;36m<module>\u001b[0;34m()\u001b[0m\n\u001b[0;32m----> 1\u001b[0;31m listener = salpylib.DDSSubcriber(Device = \"atMonochromator\", \n\u001b[0m\u001b[1;32m      2\u001b[0m                                  \u001b[0mtopic\u001b[0m\u001b[0;34m=\u001b[0m\u001b[0;34m'SummaryState'\u001b[0m\u001b[0;34m,\u001b[0m\u001b[0;34m\u001b[0m\u001b[0m\n\u001b[1;32m      3\u001b[0m                                  Stype='Event')\n\u001b[1;32m      4\u001b[0m heartbeat = salpylib.DDSSubcriber(Device = \"atMonochromator\", \n\u001b[1;32m      5\u001b[0m                                  \u001b[0mtopic\u001b[0m\u001b[0;34m=\u001b[0m\u001b[0;34m'Heartbeat'\u001b[0m\u001b[0;34m,\u001b[0m\u001b[0;34m\u001b[0m\u001b[0m\n",
      "\u001b[0;31mAttributeError\u001b[0m: module 'salpytools.salpylib' has no attribute 'DDSSubcriber'"
     ]
    }
   ],
   "source": [
    "listener = salpylib.DDSSubcriber(Device = \"atMonochromator\", \n",
    "                                 topic='SummaryState',\n",
    "                                 Stype='Event')\n",
    "heartbeat = salpylib.DDSSubcriber(Device = \"atMonochromator\", \n",
    "                                 topic='Heartbeat',\n",
    "                                 Stype='Event')\n",
    "rejected = salpylib.DDSSubcriber(Device = \"atMonochromator\", \n",
    "                                 topic='RejectedCommand',\n",
    "                                 Stype='Event')\n",
    "looptime = salpylib.DDSSubcriber(Device = \"atMonochromator\", \n",
    "                                 topic='LoopTime_ms',\n",
    "                                 Stype='Telemetry')\n",
    "grating = salpylib.DDSSubcriber(Device = \"atMonochromator\", \n",
    "                                 topic='SelectedGrating',\n",
    "                                 Stype='Event')\n",
    "detailed_state = salpylib.DDSSubcriber(Device = \"atMonochromator\", \n",
    "                                 topic='DetailedState',\n",
    "                                 Stype='Event')"
   ]
  },
  {
   "cell_type": "markdown",
   "metadata": {},
   "source": [
    "Now start listening"
   ]
  },
  {
   "cell_type": "code",
   "execution_count": 10,
   "metadata": {},
   "outputs": [],
   "source": [
    "listener.start()\n",
    "heartbeat.start()\n",
    "rejected.start()\n",
    "looptime.start()\n",
    "grating.start()\n",
    "detailed_state.start()"
   ]
  },
  {
   "cell_type": "markdown",
   "metadata": {},
   "source": [
    "No event has been published since we started listening. This means that we do not know what grating is installed. Need a fix such that this is remedied (meaning need to know if it is alive, and then what grating is in)"
   ]
  },
  {
   "cell_type": "code",
   "execution_count": 11,
   "metadata": {},
   "outputs": [
    {
     "name": "stderr",
     "output_type": "stream",
     "text": [
      "[2018-07-11 14:47:33] [INFO] WARNING: No value received for: 'SummaryState' yet, sending empty object anyway\n",
      "[2018-07-11 14:47:33] [INFO] WARNING: No value received for: 'SelectedGrating' yet, sending empty object anyway\n",
      "[2018-07-11 14:47:33] [INFO] WARNING: No value received for: 'DetailedState' yet, sending empty object anyway\n"
     ]
    },
    {
     "name": "stdout",
     "output_type": "stream",
     "text": [
      "0\n",
      "1\n",
      "101.0\n",
      "0\n",
      "0\n"
     ]
    }
   ],
   "source": [
    "print(listener.getCurrent().summaryState)\n",
    "print(heartbeat.getCurrent().heartbeat)\n",
    "print(looptime.getCurrent().loopTime_ms)\n",
    "print(grating.getCurrent().gratingType)\n",
    "print(detailed_state.getCurrent().detailedState)"
   ]
  },
  {
   "cell_type": "markdown",
   "metadata": {},
   "source": [
    "Need to create a command sender (defines a class per commandable entity)"
   ]
  },
  {
   "cell_type": "code",
   "execution_count": 3,
   "metadata": {},
   "outputs": [
    {
     "name": "stderr",
     "output_type": "stream",
     "text": [
      "[2018-07-11 17:38:10] [DEBUG] Loading Device: atMonochromator\n"
     ]
    }
   ],
   "source": [
    "sender = salpylib.DDSSend(\"atMonochromator\")\n",
    "# sender.start()"
   ]
  },
  {
   "cell_type": "markdown",
   "metadata": {},
   "source": [
    "Can disable then re-enable each component to update the state (and publish the events that cause issues below)"
   ]
  },
  {
   "cell_type": "code",
   "execution_count": 8,
   "metadata": {},
   "outputs": [
    {
     "name": "stderr",
     "output_type": "stream",
     "text": [
      "[2018-07-11 17:39:24] [DEBUG] Updating myData object with kwargs\n",
      "[2018-07-11 17:39:24] [DEBUG] disable = 0\n",
      "[2018-07-11 17:39:24] [DEBUG] Issuing command: disable\n"
     ]
    },
    {
     "name": "stdout",
     "output_type": "stream",
     "text": [
      "(1189641422, 303)\n"
     ]
    }
   ],
   "source": [
    "cmd_id = sender.send_Command('disable', disable=0, wait_command=False)\n",
    "print(cmd_id)"
   ]
  },
  {
   "cell_type": "code",
   "execution_count": 17,
   "metadata": {},
   "outputs": [
    {
     "name": "stdout",
     "output_type": "stream",
     "text": [
      "<bound method PyCapsule.getEvent_RejectedCommand of <SALPY_atMonochromator.SAL_atMonochromator object at 0x7f38d730d4c8>>\n"
     ]
    }
   ],
   "source": [
    "print(rejected.getEvent)"
   ]
  },
  {
   "cell_type": "code",
   "execution_count": 11,
   "metadata": {},
   "outputs": [
    {
     "name": "stderr",
     "output_type": "stream",
     "text": [
      "[2018-07-11 17:39:58] [DEBUG] Updating myData object with kwargs\n",
      "[2018-07-11 17:39:58] [DEBUG] enable = 0\n",
      "[2018-07-11 17:39:58] [DEBUG] Issuing command: enable\n"
     ]
    },
    {
     "name": "stdout",
     "output_type": "stream",
     "text": [
      "(596516651, -301)\n"
     ]
    }
   ],
   "source": [
    "cmd_id = sender.send_Command('enable', enable=0,wait_command=False)\n",
    "print(cmd_id)"
   ]
  },
  {
   "cell_type": "code",
   "execution_count": 10,
   "metadata": {},
   "outputs": [
    {
     "name": "stderr",
     "output_type": "stream",
     "text": [
      "[2018-07-11 17:39:43] [DEBUG] Updating myData object with kwargs\n",
      "[2018-07-11 17:39:43] [DEBUG] key standby not in myData\n",
      "[2018-07-11 17:39:43] [DEBUG] Issuing command: standby\n"
     ]
    },
    {
     "name": "stdout",
     "output_type": "stream",
     "text": [
      "(1025202362, 303)\n"
     ]
    }
   ],
   "source": [
    "cmd_id = sender.send_Command('standby', standby=True, wait_command=False)\n",
    "print(cmd_id)"
   ]
  },
  {
   "cell_type": "code",
   "execution_count": 78,
   "metadata": {},
   "outputs": [
    {
     "name": "stderr",
     "output_type": "stream",
     "text": [
      "[2018-07-09 13:06:58] [INFO] Updating myData object with kwargs\n",
      "[2018-07-09 13:06:58] [INFO] key start not in myData\n",
      "[2018-07-09 13:06:58] [INFO] settingsToApply = Default\n",
      "[2018-07-09 13:06:58] [INFO] Issuing command: start\n"
     ]
    },
    {
     "name": "stdout",
     "output_type": "stream",
     "text": [
      "(294702568, -301)\n"
     ]
    }
   ],
   "source": [
    "cmd_id = sender.monochromator.send_Command('start', settingsToApply='Default', wait_command=False)\n",
    "print(cmd_id)"
   ]
  },
  {
   "cell_type": "code",
   "execution_count": 54,
   "metadata": {},
   "outputs": [
    {
     "name": "stderr",
     "output_type": "stream",
     "text": [
      "[2018-07-06 18:46:24] [INFO] Updating myData object with kwargs\n",
      "[2018-07-06 18:46:24] [INFO] gratingType = 1\n",
      "[2018-07-06 18:46:24] [INFO] Issuing command: SelectGrating\n"
     ]
    }
   ],
   "source": [
    "cmd_id = sender.monochromator.send_Command('SelectGrating', gratingType=1)\n",
    "start_time = time.time()\n",
    "#while time.time()-start_time < 60:\n",
    "    "
   ]
  },
  {
   "cell_type": "code",
   "execution_count": 55,
   "metadata": {},
   "outputs": [
    {
     "name": "stdout",
     "output_type": "stream",
     "text": [
      "1540383426 -301\n"
     ]
    }
   ],
   "source": [
    "print(sender.monochromator.cmdId, sender.retval)"
   ]
  },
  {
   "cell_type": "code",
   "execution_count": 60,
   "metadata": {},
   "outputs": [
    {
     "name": "stderr",
     "output_type": "stream",
     "text": [
      "[2018-07-06 18:58:22] [INFO] Updating myData object with kwargs\n",
      "[2018-07-06 18:58:22] [INFO] gratingType = 2\n",
      "[2018-07-06 18:58:22] [INFO] fontExitSlitWidth = 1.05\n",
      "[2018-07-06 18:58:22] [INFO] fontEntranceSlitWidth = 2.75\n",
      "[2018-07-06 18:58:22] [INFO] wavelength = 400\n",
      "[2018-07-06 18:58:22] [INFO] Issuing command: updateMonochromatorSetup\n"
     ]
    },
    {
     "name": "stdout",
     "output_type": "stream",
     "text": [
      "(304089173, 303)\n"
     ]
    }
   ],
   "source": [
    "cmd_id = sender.monochromator.send_Command('updateMonochromatorSetup', gratingType=2, \n",
    "                             fontExitSlitWidth=1.05, \n",
    "                             fontEntranceSlitWidth=2.75,\n",
    "                             wavelength=400)\n",
    "print(cmd_id)\n",
    "start_time = time.time()\n",
    "#while True:\n",
    "#    if time.time() - start_time > 120:\n",
    "#        print('Timed out')\n",
    "#        break\n",
    "#    elif detailed_state.getCurrent().detailedState == 7:\n",
    "#        print('Finished...')\n",
    "#        break\n",
    "#    elif ((time.time() - start_time) % 10) == 0:\n",
    "#        print('waiting...')"
   ]
  },
  {
   "cell_type": "code",
   "execution_count": 61,
   "metadata": {},
   "outputs": [
    {
     "name": "stdout",
     "output_type": "stream",
     "text": [
      "(304089173, 303)\n"
     ]
    }
   ],
   "source": [
    "print(cmd_id)"
   ]
  },
  {
   "cell_type": "code",
   "execution_count": 43,
   "metadata": {},
   "outputs": [
    {
     "name": "stderr",
     "output_type": "stream",
     "text": [
      "[2018-07-03 11:31:24] [INFO] Updating myData object with kwargs\n",
      "[2018-07-03 11:31:24] [INFO] slit = 1\n",
      "[2018-07-03 11:31:24] [INFO] slitWidth = 1.0\n",
      "[2018-07-03 11:31:24] [INFO] Issuing command: ChangeSlitWidth\n"
     ]
    },
    {
     "name": "stdout",
     "output_type": "stream",
     "text": [
      "Finished...\n",
      "Waited 0.0005669593811035156 seconds\n",
      "(783368695, 303)\n"
     ]
    }
   ],
   "source": [
    "cmd_id = sender.send_Command('ChangeSlitWidth', slit=1, slitWidth=1.00)\n",
    "start_time = time.time()\n",
    "wait_time = 0\n",
    "while True:\n",
    "    if time.time() - start_time > 120:\n",
    "        print('Timed out')\n",
    "        break\n",
    "    elif detailed_state.getCurrent().detailedState == 7:\n",
    "        print('Finished...')\n",
    "        wait_time = time.time() - start_time\n",
    "        break\n",
    "    elif ((time.time() - start_time) % 10) == 0:\n",
    "        print('waiting...')\n",
    "print('Waited {} seconds'.format(wait_time))\n",
    "print(cmd_id)"
   ]
  },
  {
   "cell_type": "code",
   "execution_count": 38,
   "metadata": {},
   "outputs": [
    {
     "name": "stdout",
     "output_type": "stream",
     "text": [
      "(783368693, -301)\n"
     ]
    }
   ],
   "source": [
    "print(cmd_id)"
   ]
  },
  {
   "cell_type": "markdown",
   "metadata": {},
   "source": [
    "BELOW THIS LINE IS TIAGO MESSING AROUND.... No Im not.... "
   ]
  },
  {
   "cell_type": "code",
   "execution_count": null,
   "metadata": {},
   "outputs": [],
   "source": []
  },
  {
   "cell_type": "code",
   "execution_count": null,
   "metadata": {},
   "outputs": [],
   "source": []
  },
  {
   "cell_type": "code",
   "execution_count": 59,
   "metadata": {},
   "outputs": [
    {
     "name": "stderr",
     "output_type": "stream",
     "text": [
      "[2018-07-06 18:50:11] [INFO] Updating myData object with kwargs\n",
      "[2018-07-06 18:50:11] [INFO] wavelength = 420\n",
      "[2018-07-06 18:50:11] [INFO] Issuing command: ChangeWavelength\n"
     ]
    },
    {
     "name": "stdout",
     "output_type": "stream",
     "text": [
      "Finished...\n",
      "Waited 0.0006232261657714844 seconds\n",
      "(1303455738, 303)\n"
     ]
    }
   ],
   "source": [
    "cmd_id = sender.send_Command('ChangeWavelength', wavelength=420)\n",
    "start_time = time.time()\n",
    "wait_time = 0\n",
    "while True:\n",
    "    if time.time() - start_time > 120:\n",
    "        print('Timed out')\n",
    "        break\n",
    "    elif detailed_state.getCurrent().detailedState == 7:\n",
    "        print('Finished...')\n",
    "        wait_time = time.time() - start_time\n",
    "        break\n",
    "    elif ((time.time() - start_time) % 10) == 0:\n",
    "        print('waiting...')\n",
    "print('Waited {} seconds'.format(wait_time))\n",
    "print(cmd_id)"
   ]
  },
  {
   "cell_type": "code",
   "execution_count": null,
   "metadata": {},
   "outputs": [],
   "source": []
  },
  {
   "cell_type": "code",
   "execution_count": 27,
   "metadata": {},
   "outputs": [],
   "source": [
    "detailed_state.start()"
   ]
  },
  {
   "cell_type": "code",
   "execution_count": 33,
   "metadata": {},
   "outputs": [
    {
     "name": "stdout",
     "output_type": "stream",
     "text": [
      "7\n"
     ]
    }
   ],
   "source": [
    "\n",
    "print(detailed_state.getCurrent().detailedState)"
   ]
  },
  {
   "cell_type": "code",
   "execution_count": 8,
   "metadata": {},
   "outputs": [
    {
     "data": {
      "text/plain": [
       "1025202363"
      ]
     },
     "execution_count": 8,
     "metadata": {},
     "output_type": "execute_result"
    }
   ],
   "source": [
    "# sender.myData.disable\n",
    "# sender.cmd\n",
    "sender.issueCommand(sender.myData)"
   ]
  },
  {
   "cell_type": "code",
   "execution_count": null,
   "metadata": {},
   "outputs": [],
   "source": []
  },
  {
   "cell_type": "code",
   "execution_count": 17,
   "metadata": {},
   "outputs": [
    {
     "ename": "AttributeError",
     "evalue": "module 'salpytools.salpylib' has no attribute 'SALPY_lib'",
     "output_type": "error",
     "traceback": [
      "\u001b[0;31m---------------------------------------------------------------------------\u001b[0m",
      "\u001b[0;31mAttributeError\u001b[0m                            Traceback (most recent call last)",
      "\u001b[0;32m<ipython-input-17-187d0fbd5766>\u001b[0m in \u001b[0;36m<module>\u001b[0;34m()\u001b[0m\n\u001b[0;32m----> 1\u001b[0;31m \u001b[0mgetattr\u001b[0m\u001b[0;34m(\u001b[0m\u001b[0msalpylib\u001b[0m\u001b[0;34m.\u001b[0m\u001b[0mSALPY_lib\u001b[0m\u001b[0;34m,\u001b[0m\u001b[0;34m'SAL_{}'\u001b[0m\u001b[0;34m.\u001b[0m\u001b[0mformat\u001b[0m\u001b[0;34m(\u001b[0m\u001b[0;34m'atMonochromator'\u001b[0m\u001b[0;34m)\u001b[0m\u001b[0;34m)\u001b[0m\u001b[0;34m(\u001b[0m\u001b[0;34m)\u001b[0m\u001b[0;34m\u001b[0m\u001b[0m\n\u001b[0m",
      "\u001b[0;31mAttributeError\u001b[0m: module 'salpytools.salpylib' has no attribute 'SALPY_lib'"
     ]
    }
   ],
   "source": [
    "getattr(salpylib.SALPY_lib,'SAL_{}'.format('atMonochromator'))()"
   ]
  },
  {
   "cell_type": "code",
   "execution_count": 9,
   "metadata": {},
   "outputs": [],
   "source": [
    "import SALPY_atMonochromator"
   ]
  },
  {
   "cell_type": "code",
   "execution_count": 19,
   "metadata": {},
   "outputs": [],
   "source": [
    "import inspect"
   ]
  },
  {
   "cell_type": "code",
   "execution_count": 20,
   "metadata": {},
   "outputs": [],
   "source": [
    "members = inspect.getmembers(SALPY_atMonochromator)"
   ]
  },
  {
   "cell_type": "code",
   "execution_count": 18,
   "metadata": {},
   "outputs": [],
   "source": [
    "# inspect.getmembers(sender.SALPY_lib)"
   ]
  },
  {
   "cell_type": "code",
   "execution_count": 28,
   "metadata": {},
   "outputs": [
    {
     "name": "stdout",
     "output_type": "stream",
     "text": [
      "CalibrateWavelength\n",
      "ChangeLightIntensity\n",
      "ChangeSlitWidth\n",
      "ChangeWavelength\n",
      "Power\n",
      "PowerWhiteLight\n",
      "SelectGrating\n",
      "SetCoolingTemperature\n",
      "disable\n",
      "enable\n",
      "enterControl\n",
      "exitControl\n",
      "standby\n",
      "start\n",
      "updateMonochromatorSetup\n"
     ]
    }
   ],
   "source": [
    "for member in members:\n",
    "    if 'command' in member[0]:\n",
    "#         print(member)\n",
    "        cmd_name = member[0].split('command_')[-1][:-1]\n",
    "        print(cmd_name)"
   ]
  },
  {
   "cell_type": "code",
   "execution_count": 11,
   "metadata": {},
   "outputs": [],
   "source": [
    "topic.enable = True"
   ]
  },
  {
   "cell_type": "code",
   "execution_count": 17,
   "metadata": {},
   "outputs": [],
   "source": [
    "manager = SALPY_atMonochromator.SAL_atMonochromator() #.salProcessor('atMonochromator_command_enable')"
   ]
  },
  {
   "cell_type": "code",
   "execution_count": 24,
   "metadata": {},
   "outputs": [
    {
     "data": {
      "text/plain": [
       "<bound method PyCapsule.waitForCompletion_disable of <SALPY_atMonochromator.SAL_atMonochromator object at 0x7fac84498260>>"
      ]
     },
     "execution_count": 24,
     "metadata": {},
     "output_type": "execute_result"
    }
   ],
   "source": [
    "sender.waitForCompletion['disable']"
   ]
  },
  {
   "cell_type": "code",
   "execution_count": null,
   "metadata": {},
   "outputs": [],
   "source": []
  }
 ],
 "metadata": {
  "kernelspec": {
   "display_name": "Python 3",
   "language": "python",
   "name": "python3"
  },
  "language_info": {
   "codemirror_mode": {
    "name": "ipython",
    "version": 3
   },
   "file_extension": ".py",
   "mimetype": "text/x-python",
   "name": "python",
   "nbconvert_exporter": "python",
   "pygments_lexer": "ipython3",
   "version": "3.6.2"
  }
 },
 "nbformat": 4,
 "nbformat_minor": 2
}
